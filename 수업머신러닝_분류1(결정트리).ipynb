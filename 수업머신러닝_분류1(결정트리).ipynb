{
  "nbformat": 4,
  "nbformat_minor": 0,
  "metadata": {
    "accelerator": "GPU",
    "colab": {
      "name": "수업머신러닝_분류1(결정트리).ipynb",
      "provenance": [],
      "collapsed_sections": [],
      "include_colab_link": true
    },
    "kernelspec": {
      "display_name": "Python 3",
      "language": "python",
      "name": "python3"
    },
    "language_info": {
      "codemirror_mode": {
        "name": "ipython",
        "version": 3
      },
      "file_extension": ".py",
      "mimetype": "text/x-python",
      "name": "python",
      "nbconvert_exporter": "python",
      "pygments_lexer": "ipython3",
      "version": "3.7.3"
    }
  },
  "cells": [
    {
      "cell_type": "markdown",
      "metadata": {
        "id": "view-in-github",
        "colab_type": "text"
      },
      "source": [
        "<a href=\"https://colab.research.google.com/github/rivkms/2021_sw_exam/blob/main/%EC%88%98%EC%97%85%EB%A8%B8%EC%8B%A0%EB%9F%AC%EB%8B%9D_%EB%B6%84%EB%A5%981(%EA%B2%B0%EC%A0%95%ED%8A%B8%EB%A6%AC).ipynb\" target=\"_parent\"><img src=\"https://colab.research.google.com/assets/colab-badge.svg\" alt=\"Open In Colab\"/></a>"
      ]
    },
    {
      "cell_type": "markdown",
      "metadata": {
        "id": "j5EWB_sYbVCZ"
      },
      "source": [
        "## 1. 머신러닝 프로세스\n",
        "\n",
        "\n",
        "\n",
        "> 문제 정의 -> 데이터 수집 -> 데이터 전처리 -> 모델 학습 -> 모델 예측 및 평가\n",
        "\n"
      ]
    },
    {
      "cell_type": "markdown",
      "metadata": {
        "id": "EK6fa7KtbdDt"
      },
      "source": [
        "----------------\n",
        "## [Live Coding] 동물 분류하기(feat. 결정트리 모델)\n",
        "\n",
        "### 1. 문제 정의(분류 문제)\n",
        "- 우리가 사용할 데이터는 동물의 특성과 동물의 종류를 담은 데이터셋으로 동물의 특성을 학습한 후 이를 통해 어떤 동물인지 예측하는 문제.\n",
        "- 데이터에 대한 설명은 https://www.kaggle.com/uciml/zoo-animal-classification 에 서술되어 있다.\n",
        "\n",
        "### 2. 데이터 수집(캐글 데이터셋 이용)"
      ]
    },
    {
      "cell_type": "code",
      "metadata": {
        "id": "Wzc7dilrM56I"
      },
      "source": [
        "# 캐글과 코랩 연동을 위한 kaggle.jason 파일(캐글-My Account에서 다운로드) 업로드\n",
        "!pip install kaggle\n",
        "from google.colab import files\n",
        "files.upload()"
      ],
      "execution_count": null,
      "outputs": []
    },
    {
      "cell_type": "code",
      "metadata": {
        "id": "1soS41T1Mx1O"
      },
      "source": [
        "# kaggle.json 파일을 적절한 디렉토리로 이동\n",
        "!mkdir -p ~/.kaggle\n",
        "!cp kaggle.json ~/.kaggle/\n",
        "\n",
        "# Permission Warning 이 일어나지 않도록 함 \n",
        "!chmod 600 ~/.kaggle/kaggle.json"
      ],
      "execution_count": null,
      "outputs": []
    },
    {
      "cell_type": "code",
      "metadata": {
        "id": "hCFcw0N0eup8"
      },
      "source": [
        "# zoo-animal-classification 데이터셋 다운로드\n",
        "!kaggle datasets download -d uciml/zoo-animal-classification"
      ],
      "execution_count": null,
      "outputs": []
    },
    {
      "cell_type": "code",
      "metadata": {
        "id": "38H7JaIMfRUd"
      },
      "source": [
        "# zip파일 압축 해제 후 현재 디렉토리의 파일 리스트 보기\n",
        "!unzip zoo-animal-classification.zip\n",
        "!ls"
      ],
      "execution_count": null,
      "outputs": []
    },
    {
      "cell_type": "markdown",
      "metadata": {
        "id": "LoEXCGl4V54c"
      },
      "source": [
        "### 3. 데이터 전처리"
      ]
    },
    {
      "cell_type": "code",
      "metadata": {
        "id": "j4aoKlP0fduQ",
        "colab": {
          "base_uri": "https://localhost:8080/",
          "height": 203
        },
        "outputId": "10a7b4c1-ee30-4f0f-c4cc-96d7b1c7599b"
      },
      "source": [
        "import numpy as np\n",
        "import pandas as pd\n",
        "\n",
        "# csv 파일을 pandas dataframe으로 읽기\n",
        "data = pd.read_csv('/content/zoo.csv')\n",
        "\n",
        "# 상위 5개 행 출력\n",
        "data.head()"
      ],
      "execution_count": null,
      "outputs": [
        {
          "output_type": "execute_result",
          "data": {
            "text/html": [
              "<div>\n",
              "<style scoped>\n",
              "    .dataframe tbody tr th:only-of-type {\n",
              "        vertical-align: middle;\n",
              "    }\n",
              "\n",
              "    .dataframe tbody tr th {\n",
              "        vertical-align: top;\n",
              "    }\n",
              "\n",
              "    .dataframe thead th {\n",
              "        text-align: right;\n",
              "    }\n",
              "</style>\n",
              "<table border=\"1\" class=\"dataframe\">\n",
              "  <thead>\n",
              "    <tr style=\"text-align: right;\">\n",
              "      <th></th>\n",
              "      <th>animal_name</th>\n",
              "      <th>hair</th>\n",
              "      <th>feathers</th>\n",
              "      <th>eggs</th>\n",
              "      <th>milk</th>\n",
              "      <th>airborne</th>\n",
              "      <th>aquatic</th>\n",
              "      <th>predator</th>\n",
              "      <th>toothed</th>\n",
              "      <th>backbone</th>\n",
              "      <th>breathes</th>\n",
              "      <th>venomous</th>\n",
              "      <th>fins</th>\n",
              "      <th>legs</th>\n",
              "      <th>tail</th>\n",
              "      <th>domestic</th>\n",
              "      <th>catsize</th>\n",
              "      <th>class_type</th>\n",
              "    </tr>\n",
              "  </thead>\n",
              "  <tbody>\n",
              "    <tr>\n",
              "      <th>0</th>\n",
              "      <td>aardvark</td>\n",
              "      <td>1</td>\n",
              "      <td>0</td>\n",
              "      <td>0</td>\n",
              "      <td>1</td>\n",
              "      <td>0</td>\n",
              "      <td>0</td>\n",
              "      <td>1</td>\n",
              "      <td>1</td>\n",
              "      <td>1</td>\n",
              "      <td>1</td>\n",
              "      <td>0</td>\n",
              "      <td>0</td>\n",
              "      <td>4</td>\n",
              "      <td>0</td>\n",
              "      <td>0</td>\n",
              "      <td>1</td>\n",
              "      <td>1</td>\n",
              "    </tr>\n",
              "    <tr>\n",
              "      <th>1</th>\n",
              "      <td>antelope</td>\n",
              "      <td>1</td>\n",
              "      <td>0</td>\n",
              "      <td>0</td>\n",
              "      <td>1</td>\n",
              "      <td>0</td>\n",
              "      <td>0</td>\n",
              "      <td>0</td>\n",
              "      <td>1</td>\n",
              "      <td>1</td>\n",
              "      <td>1</td>\n",
              "      <td>0</td>\n",
              "      <td>0</td>\n",
              "      <td>4</td>\n",
              "      <td>1</td>\n",
              "      <td>0</td>\n",
              "      <td>1</td>\n",
              "      <td>1</td>\n",
              "    </tr>\n",
              "    <tr>\n",
              "      <th>2</th>\n",
              "      <td>bass</td>\n",
              "      <td>0</td>\n",
              "      <td>0</td>\n",
              "      <td>1</td>\n",
              "      <td>0</td>\n",
              "      <td>0</td>\n",
              "      <td>1</td>\n",
              "      <td>1</td>\n",
              "      <td>1</td>\n",
              "      <td>1</td>\n",
              "      <td>0</td>\n",
              "      <td>0</td>\n",
              "      <td>1</td>\n",
              "      <td>0</td>\n",
              "      <td>1</td>\n",
              "      <td>0</td>\n",
              "      <td>0</td>\n",
              "      <td>4</td>\n",
              "    </tr>\n",
              "    <tr>\n",
              "      <th>3</th>\n",
              "      <td>bear</td>\n",
              "      <td>1</td>\n",
              "      <td>0</td>\n",
              "      <td>0</td>\n",
              "      <td>1</td>\n",
              "      <td>0</td>\n",
              "      <td>0</td>\n",
              "      <td>1</td>\n",
              "      <td>1</td>\n",
              "      <td>1</td>\n",
              "      <td>1</td>\n",
              "      <td>0</td>\n",
              "      <td>0</td>\n",
              "      <td>4</td>\n",
              "      <td>0</td>\n",
              "      <td>0</td>\n",
              "      <td>1</td>\n",
              "      <td>1</td>\n",
              "    </tr>\n",
              "    <tr>\n",
              "      <th>4</th>\n",
              "      <td>boar</td>\n",
              "      <td>1</td>\n",
              "      <td>0</td>\n",
              "      <td>0</td>\n",
              "      <td>1</td>\n",
              "      <td>0</td>\n",
              "      <td>0</td>\n",
              "      <td>1</td>\n",
              "      <td>1</td>\n",
              "      <td>1</td>\n",
              "      <td>1</td>\n",
              "      <td>0</td>\n",
              "      <td>0</td>\n",
              "      <td>4</td>\n",
              "      <td>1</td>\n",
              "      <td>0</td>\n",
              "      <td>1</td>\n",
              "      <td>1</td>\n",
              "    </tr>\n",
              "  </tbody>\n",
              "</table>\n",
              "</div>"
            ],
            "text/plain": [
              "  animal_name  hair  feathers  eggs  ...  tail  domestic  catsize  class_type\n",
              "0    aardvark     1         0     0  ...     0         0        1           1\n",
              "1    antelope     1         0     0  ...     1         0        1           1\n",
              "2        bass     0         0     1  ...     1         0        0           4\n",
              "3        bear     1         0     0  ...     0         0        1           1\n",
              "4        boar     1         0     0  ...     1         0        1           1\n",
              "\n",
              "[5 rows x 18 columns]"
            ]
          },
          "metadata": {
            "tags": []
          },
          "execution_count": 2
        }
      ]
    },
    {
      "cell_type": "code",
      "metadata": {
        "id": "MwafOh7Ojd1y",
        "colab": {
          "base_uri": "https://localhost:8080/"
        },
        "outputId": "47612650-7f76-4211-c23b-6e464ebffd03"
      },
      "source": [
        "# 데이터 정보 요약\n",
        "data.info()"
      ],
      "execution_count": null,
      "outputs": [
        {
          "output_type": "stream",
          "text": [
            "<class 'pandas.core.frame.DataFrame'>\n",
            "RangeIndex: 101 entries, 0 to 100\n",
            "Data columns (total 18 columns):\n",
            " #   Column       Non-Null Count  Dtype \n",
            "---  ------       --------------  ----- \n",
            " 0   animal_name  101 non-null    object\n",
            " 1   hair         101 non-null    int64 \n",
            " 2   feathers     101 non-null    int64 \n",
            " 3   eggs         101 non-null    int64 \n",
            " 4   milk         101 non-null    int64 \n",
            " 5   airborne     101 non-null    int64 \n",
            " 6   aquatic      101 non-null    int64 \n",
            " 7   predator     101 non-null    int64 \n",
            " 8   toothed      101 non-null    int64 \n",
            " 9   backbone     101 non-null    int64 \n",
            " 10  breathes     101 non-null    int64 \n",
            " 11  venomous     101 non-null    int64 \n",
            " 12  fins         101 non-null    int64 \n",
            " 13  legs         101 non-null    int64 \n",
            " 14  tail         101 non-null    int64 \n",
            " 15  domestic     101 non-null    int64 \n",
            " 16  catsize      101 non-null    int64 \n",
            " 17  class_type   101 non-null    int64 \n",
            "dtypes: int64(17), object(1)\n",
            "memory usage: 14.3+ KB\n"
          ],
          "name": "stdout"
        }
      ]
    },
    {
      "cell_type": "code",
      "metadata": {
        "id": "4_ORTqrzWuVR",
        "colab": {
          "base_uri": "https://localhost:8080/",
          "height": 416
        },
        "outputId": "00a4452a-b192-435b-eb9a-ace85b8654fe"
      },
      "source": [
        "# 클래스 별 데이터 개수 확인\n",
        "import seaborn as sns\n",
        "%matplotlib inline\n",
        "\n",
        "sns.countplot(data=data, x=\"class_type\")\n",
        "data.loc[:,'class_type'].value_counts()"
      ],
      "execution_count": null,
      "outputs": [
        {
          "output_type": "execute_result",
          "data": {
            "text/plain": [
              "1    41\n",
              "2    20\n",
              "4    13\n",
              "7    10\n",
              "6     8\n",
              "3     5\n",
              "5     4\n",
              "Name: class_type, dtype: int64"
            ]
          },
          "metadata": {
            "tags": []
          },
          "execution_count": 4
        },
        {
          "output_type": "display_data",
          "data": {
            "image/png": "[encoded data removed]",
            "text/plain": [
              "<Figure size 432x288 with 1 Axes>"
            ]
          },
          "metadata": {
            "tags": [],
            "needs_background": "light"
          }
        }
      ]
    },
    {
      "cell_type": "code",
      "metadata": {
        "id": "Glxl5osDWe6l",
        "colab": {
          "base_uri": "https://localhost:8080/",
          "height": 141
        },
        "outputId": "e5082358-e824-4390-efad-3d4948e79a80"
      },
      "source": [
        "# 머신러닝 학습에 사용되지 않는 열 삭제\n",
        "data.drop('animal_name', axis=1, inplace=True)\n",
        "data.head(3)"
      ],
      "execution_count": null,
      "outputs": [
        {
          "output_type": "execute_result",
          "data": {
            "text/html": [
              "<div>\n",
              "<style scoped>\n",
              "    .dataframe tbody tr th:only-of-type {\n",
              "        vertical-align: middle;\n",
              "    }\n",
              "\n",
              "    .dataframe tbody tr th {\n",
              "        vertical-align: top;\n",
              "    }\n",
              "\n",
              "    .dataframe thead th {\n",
              "        text-align: right;\n",
              "    }\n",
              "</style>\n",
              "<table border=\"1\" class=\"dataframe\">\n",
              "  <thead>\n",
              "    <tr style=\"text-align: right;\">\n",
              "      <th></th>\n",
              "      <th>hair</th>\n",
              "      <th>feathers</th>\n",
              "      <th>eggs</th>\n",
              "      <th>milk</th>\n",
              "      <th>airborne</th>\n",
              "      <th>aquatic</th>\n",
              "      <th>predator</th>\n",
              "      <th>toothed</th>\n",
              "      <th>backbone</th>\n",
              "      <th>breathes</th>\n",
              "      <th>venomous</th>\n",
              "      <th>fins</th>\n",
              "      <th>legs</th>\n",
              "      <th>tail</th>\n",
              "      <th>domestic</th>\n",
              "      <th>catsize</th>\n",
              "      <th>class_type</th>\n",
              "    </tr>\n",
              "  </thead>\n",
              "  <tbody>\n",
              "    <tr>\n",
              "      <th>0</th>\n",
              "      <td>1</td>\n",
              "      <td>0</td>\n",
              "      <td>0</td>\n",
              "      <td>1</td>\n",
              "      <td>0</td>\n",
              "      <td>0</td>\n",
              "      <td>1</td>\n",
              "      <td>1</td>\n",
              "      <td>1</td>\n",
              "      <td>1</td>\n",
              "      <td>0</td>\n",
              "      <td>0</td>\n",
              "      <td>4</td>\n",
              "      <td>0</td>\n",
              "      <td>0</td>\n",
              "      <td>1</td>\n",
              "      <td>1</td>\n",
              "    </tr>\n",
              "    <tr>\n",
              "      <th>1</th>\n",
              "      <td>1</td>\n",
              "      <td>0</td>\n",
              "      <td>0</td>\n",
              "      <td>1</td>\n",
              "      <td>0</td>\n",
              "      <td>0</td>\n",
              "      <td>0</td>\n",
              "      <td>1</td>\n",
              "      <td>1</td>\n",
              "      <td>1</td>\n",
              "      <td>0</td>\n",
              "      <td>0</td>\n",
              "      <td>4</td>\n",
              "      <td>1</td>\n",
              "      <td>0</td>\n",
              "      <td>1</td>\n",
              "      <td>1</td>\n",
              "    </tr>\n",
              "    <tr>\n",
              "      <th>2</th>\n",
              "      <td>0</td>\n",
              "      <td>0</td>\n",
              "      <td>1</td>\n",
              "      <td>0</td>\n",
              "      <td>0</td>\n",
              "      <td>1</td>\n",
              "      <td>1</td>\n",
              "      <td>1</td>\n",
              "      <td>1</td>\n",
              "      <td>0</td>\n",
              "      <td>0</td>\n",
              "      <td>1</td>\n",
              "      <td>0</td>\n",
              "      <td>1</td>\n",
              "      <td>0</td>\n",
              "      <td>0</td>\n",
              "      <td>4</td>\n",
              "    </tr>\n",
              "  </tbody>\n",
              "</table>\n",
              "</div>"
            ],
            "text/plain": [
              "   hair  feathers  eggs  milk  ...  tail  domestic  catsize  class_type\n",
              "0     1         0     0     1  ...     0         0        1           1\n",
              "1     1         0     0     1  ...     1         0        1           1\n",
              "2     0         0     1     0  ...     1         0        0           4\n",
              "\n",
              "[3 rows x 17 columns]"
            ]
          },
          "metadata": {
            "tags": []
          },
          "execution_count": 5
        }
      ]
    },
    {
      "cell_type": "code",
      "metadata": {
        "id": "VsmdWUe6jmi2"
      },
      "source": [
        "# 피처 데이터 세트 x, 레이블 데이터 세트 y를 추출. \n",
        "# 맨 끝이 Outcome 컬럼으로 레이블 값임. 컬럼 위치 -1을 이용해 추출 \n",
        "x = data.iloc[:, :-1]\n",
        "y = data.iloc[:, -1]\n",
        "\n",
        "# 훈련 데이터셋과 테스트 데이터셋 분리\n",
        "from sklearn.model_selection import train_test_split\n",
        "\n",
        "x_train, x_test, y_train, y_test = train_test_split(x, y, test_size=0.2, random_state=156, stratify=y)\n"
      ],
      "execution_count": null,
      "outputs": []
    },
    {
      "cell_type": "code",
      "metadata": {
        "id": "jip1gWE3ZpGk",
        "colab": {
          "base_uri": "https://localhost:8080/",
          "height": 203
        },
        "outputId": "2ebb872c-ff06-430c-deb1-cdfd31cba688"
      },
      "source": [
        "# 훈련데이터 x_train 값 확인\n",
        "x_train.head()"
      ],
      "execution_count": null,
      "outputs": [
        {
          "output_type": "execute_result",
          "data": {
            "text/html": [
              "<div>\n",
              "<style scoped>\n",
              "    .dataframe tbody tr th:only-of-type {\n",
              "        vertical-align: middle;\n",
              "    }\n",
              "\n",
              "    .dataframe tbody tr th {\n",
              "        vertical-align: top;\n",
              "    }\n",
              "\n",
              "    .dataframe thead th {\n",
              "        text-align: right;\n",
              "    }\n",
              "</style>\n",
              "<table border=\"1\" class=\"dataframe\">\n",
              "  <thead>\n",
              "    <tr style=\"text-align: right;\">\n",
              "      <th></th>\n",
              "      <th>hair</th>\n",
              "      <th>feathers</th>\n",
              "      <th>eggs</th>\n",
              "      <th>milk</th>\n",
              "      <th>airborne</th>\n",
              "      <th>aquatic</th>\n",
              "      <th>predator</th>\n",
              "      <th>toothed</th>\n",
              "      <th>backbone</th>\n",
              "      <th>breathes</th>\n",
              "      <th>venomous</th>\n",
              "      <th>fins</th>\n",
              "      <th>legs</th>\n",
              "      <th>tail</th>\n",
              "      <th>domestic</th>\n",
              "      <th>catsize</th>\n",
              "    </tr>\n",
              "  </thead>\n",
              "  <tbody>\n",
              "    <tr>\n",
              "      <th>71</th>\n",
              "      <td>0</td>\n",
              "      <td>1</td>\n",
              "      <td>1</td>\n",
              "      <td>0</td>\n",
              "      <td>0</td>\n",
              "      <td>0</td>\n",
              "      <td>1</td>\n",
              "      <td>0</td>\n",
              "      <td>1</td>\n",
              "      <td>1</td>\n",
              "      <td>0</td>\n",
              "      <td>0</td>\n",
              "      <td>2</td>\n",
              "      <td>1</td>\n",
              "      <td>0</td>\n",
              "      <td>1</td>\n",
              "    </tr>\n",
              "    <tr>\n",
              "      <th>96</th>\n",
              "      <td>1</td>\n",
              "      <td>0</td>\n",
              "      <td>0</td>\n",
              "      <td>1</td>\n",
              "      <td>0</td>\n",
              "      <td>0</td>\n",
              "      <td>0</td>\n",
              "      <td>1</td>\n",
              "      <td>1</td>\n",
              "      <td>1</td>\n",
              "      <td>0</td>\n",
              "      <td>0</td>\n",
              "      <td>2</td>\n",
              "      <td>1</td>\n",
              "      <td>0</td>\n",
              "      <td>1</td>\n",
              "    </tr>\n",
              "    <tr>\n",
              "      <th>4</th>\n",
              "      <td>1</td>\n",
              "      <td>0</td>\n",
              "      <td>0</td>\n",
              "      <td>1</td>\n",
              "      <td>0</td>\n",
              "      <td>0</td>\n",
              "      <td>1</td>\n",
              "      <td>1</td>\n",
              "      <td>1</td>\n",
              "      <td>1</td>\n",
              "      <td>0</td>\n",
              "      <td>0</td>\n",
              "      <td>4</td>\n",
              "      <td>1</td>\n",
              "      <td>0</td>\n",
              "      <td>1</td>\n",
              "    </tr>\n",
              "    <tr>\n",
              "      <th>61</th>\n",
              "      <td>0</td>\n",
              "      <td>0</td>\n",
              "      <td>1</td>\n",
              "      <td>0</td>\n",
              "      <td>0</td>\n",
              "      <td>1</td>\n",
              "      <td>1</td>\n",
              "      <td>1</td>\n",
              "      <td>1</td>\n",
              "      <td>0</td>\n",
              "      <td>0</td>\n",
              "      <td>1</td>\n",
              "      <td>0</td>\n",
              "      <td>1</td>\n",
              "      <td>0</td>\n",
              "      <td>0</td>\n",
              "    </tr>\n",
              "    <tr>\n",
              "      <th>92</th>\n",
              "      <td>0</td>\n",
              "      <td>0</td>\n",
              "      <td>1</td>\n",
              "      <td>0</td>\n",
              "      <td>0</td>\n",
              "      <td>1</td>\n",
              "      <td>1</td>\n",
              "      <td>1</td>\n",
              "      <td>1</td>\n",
              "      <td>0</td>\n",
              "      <td>0</td>\n",
              "      <td>1</td>\n",
              "      <td>0</td>\n",
              "      <td>1</td>\n",
              "      <td>0</td>\n",
              "      <td>1</td>\n",
              "    </tr>\n",
              "  </tbody>\n",
              "</table>\n",
              "</div>"
            ],
            "text/plain": [
              "    hair  feathers  eggs  milk  airborne  ...  fins  legs  tail  domestic  catsize\n",
              "71     0         1     1     0         0  ...     0     2     1         0        1\n",
              "96     1         0     0     1         0  ...     0     2     1         0        1\n",
              "4      1         0     0     1         0  ...     0     4     1         0        1\n",
              "61     0         0     1     0         0  ...     1     0     1         0        0\n",
              "92     0         0     1     0         0  ...     1     0     1         0        1\n",
              "\n",
              "[5 rows x 16 columns]"
            ]
          },
          "metadata": {
            "tags": []
          },
          "execution_count": 7
        }
      ]
    },
    {
      "cell_type": "code",
      "metadata": {
        "id": "GWm0cSZJZvPf",
        "colab": {
          "base_uri": "https://localhost:8080/"
        },
        "outputId": "32c9c81b-690a-45d0-b46b-355a73a41c1b"
      },
      "source": [
        "# 훈련데이터 y_train 값 확인\n",
        "y_train.head()"
      ],
      "execution_count": null,
      "outputs": [
        {
          "output_type": "execute_result",
          "data": {
            "text/plain": [
              "71    2\n",
              "96    1\n",
              "4     1\n",
              "61    4\n",
              "92    4\n",
              "Name: class_type, dtype: int64"
            ]
          },
          "metadata": {
            "tags": []
          },
          "execution_count": 8
        }
      ]
    },
    {
      "cell_type": "markdown",
      "metadata": {
        "id": "KzrKHVWLdeDb"
      },
      "source": [
        "### 4. 모델 학습"
      ]
    },
    {
      "cell_type": "code",
      "metadata": {
        "colab": {
          "base_uri": "https://localhost:8080/"
        },
        "id": "O0Q-eMylj5gv",
        "outputId": "e4e1f20c-dcca-447e-9474-92c10db85c9d"
      },
      "source": [
        "from sklearn.tree import DecisionTreeClassifier\n",
        "\n",
        "#Decision Tree Classification\n",
        "dt = DecisionTreeClassifier()\n",
        "\n",
        "dt.fit(x_train, y_train)\n"
      ],
      "execution_count": null,
      "outputs": [
        {
          "output_type": "execute_result",
          "data": {
            "text/plain": [
              "DecisionTreeClassifier(ccp_alpha=0.0, class_weight=None, criterion='gini',\n",
              "                       max_depth=None, max_features=None, max_leaf_nodes=None,\n",
              "                       min_impurity_decrease=0.0, min_impurity_split=None,\n",
              "                       min_samples_leaf=1, min_samples_split=2,\n",
              "                       min_weight_fraction_leaf=0.0, presort='deprecated',\n",
              "                       random_state=None, splitter='best')"
            ]
          },
          "metadata": {
            "tags": []
          },
          "execution_count": 9
        }
      ]
    },
    {
      "cell_type": "markdown",
      "metadata": {
        "id": "V985_a4_djLE"
      },
      "source": [
        "### 5. 모델 예측 및 평가"
      ]
    },
    {
      "cell_type": "code",
      "metadata": {
        "id": "QsZp2nFCarGe",
        "colab": {
          "base_uri": "https://localhost:8080/"
        },
        "outputId": "b34181ca-f143-4e42-a8e6-3944b5933e8b"
      },
      "source": [
        "# 예측값 확인\n",
        "pred = dt.predict(x_test)\n",
        "type(pred)\n",
        "pred[:5]"
      ],
      "execution_count": null,
      "outputs": [
        {
          "output_type": "execute_result",
          "data": {
            "text/plain": [
              "array([1, 2, 2, 2, 4])"
            ]
          },
          "metadata": {
            "tags": []
          },
          "execution_count": 10
        }
      ]
    },
    {
      "cell_type": "code",
      "metadata": {
        "id": "TTTJw37zlxB-",
        "colab": {
          "base_uri": "https://localhost:8080/"
        },
        "outputId": "a016d004-db87-4eb3-8927-1c4ae36a2f58"
      },
      "source": [
        "from sklearn.metrics import accuracy_score\n",
        "\n",
        "# 정확도 출력\n",
        "accuracy_score(y_test, pred)"
      ],
      "execution_count": null,
      "outputs": [
        {
          "output_type": "execute_result",
          "data": {
            "text/plain": [
              "0.9047619047619048"
            ]
          },
          "metadata": {
            "tags": []
          },
          "execution_count": 11
        }
      ]
    },
    {
      "cell_type": "markdown",
      "metadata": {
        "id": "hf_-vPd6bvra"
      },
      "source": [
        "--------\n",
        "## 2. 분류 by 머신러닝\n",
        "### 2-1. 분류문제\n",
        "분류는 레이블이 달린 학습 데이터를 학습한 후 새롭게 주어지는 데이터가 어느 그룹에 속하지는지 찾아내는 것\n",
        "- 내일 날씨는? 맑음, 흐림\n",
        "- A팀과 B팀 경기에서 어느 팀이 이길까?\n",
        "\n",
        "### 2-2. 머신러닝으로 구현하는 분류\n",
        "- **결정트리(Desicion Tree)** : 데이터 균일도에 따른 규칙 기반 모델\n",
        "- 최소 근접 알고리즘(KNN, K Nearest Neighbor) : 근접 거리를 기준으로 하는 모델\n",
        "<img src='https://upload.wikimedia.org/wikipedia/commons/thumb/e/e7/KnnClassification.svg/330px-KnnClassification.svg.png' width=200>\n",
        "\n",
        "- 서포트 벡터 머신(SVM, Support Vector Machine) : 개별 클래스 간의 최대 분류 마진을 효과적으로 찾음\n",
        "<img src='https://upload.wikimedia.org/wikipedia/commons/thumb/2/20/Svm_separating_hyperplanes.png/1024px-Svm_separating_hyperplanes.png' width=200>\n",
        "\n",
        "- 로지스틱 회귀(Logistic Regression) : 독립변수와 종속변수의 선형 관계성에 기반. 분류 알고리즘 중에서 성능이 좋음. \n",
        "<img src='https://t1.daumcdn.net/cfile/tistory/99F325485C7B76BC2B' width=400>\n",
        "\n",
        "\n",
        "- 나이브 베이즈(Naive Bayes) : 분류 문제에 베이즈 이론을 접목한 알고리즘. 범주형 데이터에 사용하는 알고리즘이며 텍스트 분류에 많이 사용됨. 독립변수가 많을 때 간단하게 계산.\n",
        "- 앙상블(Ensemble) : 서로 다른(또는 같은) 여러 머신러닝 모델을 결합\n",
        "<img src='https://img1.daumcdn.net/thumb/R1280x0/?scode=mtistory2&fname=https%3A%2F%2Fk.kakaocdn.net%2Fdn%2FDdB4X%2FbtqDDvpfx5p%2FV8AtWq6MT6tmTktleKqjPk%2Fimg.png' width=300>\n",
        "\n",
        "- 심층신경망(Deep Neural Network) : 최적의 w와 b를 학습"
      ]
    },
    {
      "cell_type": "markdown",
      "metadata": {
        "id": "enNm65IsS3bs"
      },
      "source": [
        "## 3. 결정 트리(Decision Tree) 개요\n",
        "결정 트리(Decision Tree)는 ML 알고리즘 중에서 직관적으로 이해하기 쉬운 알고리즘이며 분류/회귀에 모두 적용할 수 있다. 데이터에 내재된 패턴을 학습한 후 트리(Tree) 기반 형태로 규칙을 나열한 것이다. 마치 if/else를 자동으로 찾아내 해결하는 것과 같다. 따라서 데이터의 어떤 기준으로 규칙을 만드는가가 알고리즘의 성능을 좌우한다. \n",
        "\n",
        "<img src='https://miro.medium.com/max/1430/1*rSQIIAboJftqAv_BReNipg.png' width=500>\n",
        "\n",
        "사이킷런의 결정트리 알고리즘은 노드에서 균일도가 높은 데이터셋을 먼저 선택하도록 규칙조건을 만드는데 이때 기준이 되는 것이 지니계수이다.\n",
        "> 지니계수(Gini): 원래 경제학의 불평등 지수로 0이 가장 평등(다양성 보장)하고 1로 갈수록 불평등. 머신러닝에서는 한 집단이 다양한 클래스로 구성되면 평등하다고 보고 0으로 표현하며 1로 갈수록 균일도가 높아져 적은 클래스로 구성된다는 것을 의미한다. \n",
        "\n",
        "\n",
        "### 3-1. 결정 트리의 특징\n",
        "- 장점\n",
        "  - 알고리즘이 쉽고 직관적이다\n",
        "  - 시각화도 가능하다\n",
        "  - 데이터의 균일도가 보다 중요해서 특별한 경우 외에는 스케일링같은 전처리작업이 필요없다 \n",
        "- 단점\n",
        "  - 계층적 구조로 인해 중간에 에러가 발생하면 아래 단계로 계속 전파\n",
        "  - 학습 데이터의 미세한 변동에도 최종 결과에 크게 영향\n",
        "  - 과적합으로 인한 성능 저하가 가장 큰 단점\n",
        "    (성능의 일부를 포기하고 트리의 크기를 제한하는 것이 오히려 튜닝에 도움된다)\n",
        "\n",
        "\n",
        "\n",
        "\n",
        "### 3-2. 결정 트리 파라미터\n",
        "사이킷런은 결정트리 알고리즘을 구현한 DecisionTreeClassifier(분류)클래스를 제공한다.\n",
        "\n",
        "- min_samples_split: 기본값=2. 노드 분할 최소 샘플수로 과적합 제어에 활용. \n",
        "- min_samples_leaf: 말단 노드가 되기 위한 최소 샘플수. 과적합 제어에 활용. 비대칭적 데이터의 경우 특정 데이터의 클래스가 극도로 작을 수 있으므로 이 경우 작게 설정할 필요.\n",
        "- max_features: 최적 분할을 위해 고려할 최대 피처 개수. int로 지정하면 대상 피처의 개수, float로 지정하면 전체 피처 중 대상 피처의 퍼센트. 'None'은 전체 피처 선정\n",
        "- max_depth: 기본값=None. 트리의 최대 깊이 설정. None은 완벽하게 클래스 결정 값이 될때까지 깊이를 계속 키우며 분할하거나 min_samples_split보다 작아질 때까지 계속 깊이를 증가시킴\n",
        "- max_leaf_nodes: 말단 노드(leaf)의 최대 개수"
      ]
    },
    {
      "cell_type": "markdown",
      "metadata": {
        "id": "9VLcN-dMeXGo"
      },
      "source": [
        "-----------------\n",
        "## 4. 결정 트리로 분류 문제 해결하기\n",
        "\n",
        "### 4-1. 문제 정의(분류 문제)\n",
        "\n",
        "### 4-2. 데이터 수집(캐글 데이터셋 이용)"
      ]
    },
    {
      "cell_type": "code",
      "metadata": {
        "id": "aBCLOXenejqW"
      },
      "source": [
        "# Pima Indian Diabetes 데이터셋 다운로드\n",
        "! kaggle datasets download -d uciml/pima-indians-diabetes-database"
      ],
      "execution_count": null,
      "outputs": []
    },
    {
      "cell_type": "code",
      "metadata": {
        "id": "63XNkoBVejqg"
      },
      "source": [
        "# zip파일 압축 해제 후 현재 디렉토리의 파일 리스트 보기\n",
        "!unzip pima-indians-diabetes-database.zip\n",
        "!ls"
      ],
      "execution_count": null,
      "outputs": []
    },
    {
      "cell_type": "markdown",
      "metadata": {
        "id": "znp1tnSiel3Q"
      },
      "source": [
        "### 4-3. 데이터 전처리"
      ]
    },
    {
      "cell_type": "code",
      "metadata": {
        "id": "ulvBI0JMGrP0"
      },
      "source": [
        "import pandas as pd\n",
        "import numpy as np"
      ],
      "execution_count": null,
      "outputs": []
    },
    {
      "cell_type": "code",
      "metadata": {
        "colab": {
          "base_uri": "https://localhost:8080/",
          "height": 255
        },
        "id": "5nhdm9NIeudu",
        "outputId": "8c664397-7d71-4298-cc06-07c93649e562"
      },
      "source": [
        "# csv 파일을 pandas dataframe으로 읽기\n",
        "diabetes_data = pd.read_csv('/content/diabetes.csv')\n",
        "\n",
        "# Outcome(당뇨:1 당뇨아님:0)행의 value를 count\n",
        "print(diabetes_data['Outcome'].value_counts())\n",
        "\n",
        "# 상위 5개 행을 출력\n",
        "diabetes_data.head(5)"
      ],
      "execution_count": null,
      "outputs": [
        {
          "output_type": "stream",
          "text": [
            "0    500\n",
            "1    268\n",
            "Name: Outcome, dtype: int64\n"
          ],
          "name": "stdout"
        },
        {
          "output_type": "execute_result",
          "data": {
            "text/html": [
              "<div>\n",
              "<style scoped>\n",
              "    .dataframe tbody tr th:only-of-type {\n",
              "        vertical-align: middle;\n",
              "    }\n",
              "\n",
              "    .dataframe tbody tr th {\n",
              "        vertical-align: top;\n",
              "    }\n",
              "\n",
              "    .dataframe thead th {\n",
              "        text-align: right;\n",
              "    }\n",
              "</style>\n",
              "<table border=\"1\" class=\"dataframe\">\n",
              "  <thead>\n",
              "    <tr style=\"text-align: right;\">\n",
              "      <th></th>\n",
              "      <th>Pregnancies</th>\n",
              "      <th>Glucose</th>\n",
              "      <th>BloodPressure</th>\n",
              "      <th>SkinThickness</th>\n",
              "      <th>Insulin</th>\n",
              "      <th>BMI</th>\n",
              "      <th>DiabetesPedigreeFunction</th>\n",
              "      <th>Age</th>\n",
              "      <th>Outcome</th>\n",
              "    </tr>\n",
              "  </thead>\n",
              "  <tbody>\n",
              "    <tr>\n",
              "      <th>0</th>\n",
              "      <td>6</td>\n",
              "      <td>148</td>\n",
              "      <td>72</td>\n",
              "      <td>35</td>\n",
              "      <td>0</td>\n",
              "      <td>33.6</td>\n",
              "      <td>0.627</td>\n",
              "      <td>50</td>\n",
              "      <td>1</td>\n",
              "    </tr>\n",
              "    <tr>\n",
              "      <th>1</th>\n",
              "      <td>1</td>\n",
              "      <td>85</td>\n",
              "      <td>66</td>\n",
              "      <td>29</td>\n",
              "      <td>0</td>\n",
              "      <td>26.6</td>\n",
              "      <td>0.351</td>\n",
              "      <td>31</td>\n",
              "      <td>0</td>\n",
              "    </tr>\n",
              "    <tr>\n",
              "      <th>2</th>\n",
              "      <td>8</td>\n",
              "      <td>183</td>\n",
              "      <td>64</td>\n",
              "      <td>0</td>\n",
              "      <td>0</td>\n",
              "      <td>23.3</td>\n",
              "      <td>0.672</td>\n",
              "      <td>32</td>\n",
              "      <td>1</td>\n",
              "    </tr>\n",
              "    <tr>\n",
              "      <th>3</th>\n",
              "      <td>1</td>\n",
              "      <td>89</td>\n",
              "      <td>66</td>\n",
              "      <td>23</td>\n",
              "      <td>94</td>\n",
              "      <td>28.1</td>\n",
              "      <td>0.167</td>\n",
              "      <td>21</td>\n",
              "      <td>0</td>\n",
              "    </tr>\n",
              "    <tr>\n",
              "      <th>4</th>\n",
              "      <td>0</td>\n",
              "      <td>137</td>\n",
              "      <td>40</td>\n",
              "      <td>35</td>\n",
              "      <td>168</td>\n",
              "      <td>43.1</td>\n",
              "      <td>2.288</td>\n",
              "      <td>33</td>\n",
              "      <td>1</td>\n",
              "    </tr>\n",
              "  </tbody>\n",
              "</table>\n",
              "</div>"
            ],
            "text/plain": [
              "   Pregnancies  Glucose  BloodPressure  ...  DiabetesPedigreeFunction  Age  Outcome\n",
              "0            6      148             72  ...                     0.627   50        1\n",
              "1            1       85             66  ...                     0.351   31        0\n",
              "2            8      183             64  ...                     0.672   32        1\n",
              "3            1       89             66  ...                     0.167   21        0\n",
              "4            0      137             40  ...                     2.288   33        1\n",
              "\n",
              "[5 rows x 9 columns]"
            ]
          },
          "metadata": {
            "tags": []
          },
          "execution_count": 12
        }
      ]
    },
    {
      "cell_type": "code",
      "metadata": {
        "colab": {
          "base_uri": "https://localhost:8080/",
          "height": 294
        },
        "id": "2jCyxYcO9IY-",
        "outputId": "7e69ac8f-e979-46d5-e6d1-5c03c8125b85"
      },
      "source": [
        "diabetes_data.describe()"
      ],
      "execution_count": null,
      "outputs": [
        {
          "output_type": "execute_result",
          "data": {
            "text/html": [
              "<div>\n",
              "<style scoped>\n",
              "    .dataframe tbody tr th:only-of-type {\n",
              "        vertical-align: middle;\n",
              "    }\n",
              "\n",
              "    .dataframe tbody tr th {\n",
              "        vertical-align: top;\n",
              "    }\n",
              "\n",
              "    .dataframe thead th {\n",
              "        text-align: right;\n",
              "    }\n",
              "</style>\n",
              "<table border=\"1\" class=\"dataframe\">\n",
              "  <thead>\n",
              "    <tr style=\"text-align: right;\">\n",
              "      <th></th>\n",
              "      <th>Pregnancies</th>\n",
              "      <th>Glucose</th>\n",
              "      <th>BloodPressure</th>\n",
              "      <th>SkinThickness</th>\n",
              "      <th>Insulin</th>\n",
              "      <th>BMI</th>\n",
              "      <th>DiabetesPedigreeFunction</th>\n",
              "      <th>Age</th>\n",
              "      <th>Outcome</th>\n",
              "    </tr>\n",
              "  </thead>\n",
              "  <tbody>\n",
              "    <tr>\n",
              "      <th>count</th>\n",
              "      <td>768.000000</td>\n",
              "      <td>768.000000</td>\n",
              "      <td>768.000000</td>\n",
              "      <td>768.000000</td>\n",
              "      <td>768.000000</td>\n",
              "      <td>768.000000</td>\n",
              "      <td>768.000000</td>\n",
              "      <td>768.000000</td>\n",
              "      <td>768.000000</td>\n",
              "    </tr>\n",
              "    <tr>\n",
              "      <th>mean</th>\n",
              "      <td>3.845052</td>\n",
              "      <td>120.894531</td>\n",
              "      <td>69.105469</td>\n",
              "      <td>20.536458</td>\n",
              "      <td>79.799479</td>\n",
              "      <td>31.992578</td>\n",
              "      <td>0.471876</td>\n",
              "      <td>33.240885</td>\n",
              "      <td>0.348958</td>\n",
              "    </tr>\n",
              "    <tr>\n",
              "      <th>std</th>\n",
              "      <td>3.369578</td>\n",
              "      <td>31.972618</td>\n",
              "      <td>19.355807</td>\n",
              "      <td>15.952218</td>\n",
              "      <td>115.244002</td>\n",
              "      <td>7.884160</td>\n",
              "      <td>0.331329</td>\n",
              "      <td>11.760232</td>\n",
              "      <td>0.476951</td>\n",
              "    </tr>\n",
              "    <tr>\n",
              "      <th>min</th>\n",
              "      <td>0.000000</td>\n",
              "      <td>0.000000</td>\n",
              "      <td>0.000000</td>\n",
              "      <td>0.000000</td>\n",
              "      <td>0.000000</td>\n",
              "      <td>0.000000</td>\n",
              "      <td>0.078000</td>\n",
              "      <td>21.000000</td>\n",
              "      <td>0.000000</td>\n",
              "    </tr>\n",
              "    <tr>\n",
              "      <th>25%</th>\n",
              "      <td>1.000000</td>\n",
              "      <td>99.000000</td>\n",
              "      <td>62.000000</td>\n",
              "      <td>0.000000</td>\n",
              "      <td>0.000000</td>\n",
              "      <td>27.300000</td>\n",
              "      <td>0.243750</td>\n",
              "      <td>24.000000</td>\n",
              "      <td>0.000000</td>\n",
              "    </tr>\n",
              "    <tr>\n",
              "      <th>50%</th>\n",
              "      <td>3.000000</td>\n",
              "      <td>117.000000</td>\n",
              "      <td>72.000000</td>\n",
              "      <td>23.000000</td>\n",
              "      <td>30.500000</td>\n",
              "      <td>32.000000</td>\n",
              "      <td>0.372500</td>\n",
              "      <td>29.000000</td>\n",
              "      <td>0.000000</td>\n",
              "    </tr>\n",
              "    <tr>\n",
              "      <th>75%</th>\n",
              "      <td>6.000000</td>\n",
              "      <td>140.250000</td>\n",
              "      <td>80.000000</td>\n",
              "      <td>32.000000</td>\n",
              "      <td>127.250000</td>\n",
              "      <td>36.600000</td>\n",
              "      <td>0.626250</td>\n",
              "      <td>41.000000</td>\n",
              "      <td>1.000000</td>\n",
              "    </tr>\n",
              "    <tr>\n",
              "      <th>max</th>\n",
              "      <td>17.000000</td>\n",
              "      <td>199.000000</td>\n",
              "      <td>122.000000</td>\n",
              "      <td>99.000000</td>\n",
              "      <td>846.000000</td>\n",
              "      <td>67.100000</td>\n",
              "      <td>2.420000</td>\n",
              "      <td>81.000000</td>\n",
              "      <td>1.000000</td>\n",
              "    </tr>\n",
              "  </tbody>\n",
              "</table>\n",
              "</div>"
            ],
            "text/plain": [
              "       Pregnancies     Glucose  ...         Age     Outcome\n",
              "count   768.000000  768.000000  ...  768.000000  768.000000\n",
              "mean      3.845052  120.894531  ...   33.240885    0.348958\n",
              "std       3.369578   31.972618  ...   11.760232    0.476951\n",
              "min       0.000000    0.000000  ...   21.000000    0.000000\n",
              "25%       1.000000   99.000000  ...   24.000000    0.000000\n",
              "50%       3.000000  117.000000  ...   29.000000    0.000000\n",
              "75%       6.000000  140.250000  ...   41.000000    1.000000\n",
              "max      17.000000  199.000000  ...   81.000000    1.000000\n",
              "\n",
              "[8 rows x 9 columns]"
            ]
          },
          "metadata": {
            "tags": []
          },
          "execution_count": 15
        }
      ]
    },
    {
      "cell_type": "code",
      "metadata": {
        "colab": {
          "base_uri": "https://localhost:8080/"
        },
        "id": "S1u9DNC8eud3",
        "outputId": "3186272a-1716-42cf-d664-7518acd78ff0"
      },
      "source": [
        "# 데이터 정보 요약\n",
        "diabetes_data.info( )"
      ],
      "execution_count": null,
      "outputs": [
        {
          "output_type": "stream",
          "text": [
            "<class 'pandas.core.frame.DataFrame'>\n",
            "RangeIndex: 768 entries, 0 to 767\n",
            "Data columns (total 9 columns):\n",
            " #   Column                    Non-Null Count  Dtype  \n",
            "---  ------                    --------------  -----  \n",
            " 0   Pregnancies               768 non-null    int64  \n",
            " 1   Glucose                   768 non-null    int64  \n",
            " 2   BloodPressure             768 non-null    int64  \n",
            " 3   SkinThickness             768 non-null    int64  \n",
            " 4   Insulin                   768 non-null    int64  \n",
            " 5   BMI                       768 non-null    float64\n",
            " 6   DiabetesPedigreeFunction  768 non-null    float64\n",
            " 7   Age                       768 non-null    int64  \n",
            " 8   Outcome                   768 non-null    int64  \n",
            "dtypes: float64(2), int64(7)\n",
            "memory usage: 54.1 KB\n"
          ],
          "name": "stdout"
        }
      ]
    },
    {
      "cell_type": "code",
      "metadata": {
        "id": "zAmrTIK1eueA"
      },
      "source": [
        "# 피처 데이터 세트 x, 레이블 데이터 세트 y를 추출. \n",
        "# 맨 끝이 Outcome 컬럼으로 레이블 값임. 컬럼 위치 -1을 이용해 추출 \n",
        "x = diabetes_data.iloc[:, :-1]\n",
        "y = diabetes_data.iloc[:, -1]\n",
        "from sklearn.model_selection import train_test_split\n",
        "\n",
        "x_train, x_test, y_train, y_test = train_test_split(x, y, test_size = 0.2, random_state = 156, stratify=y)"
      ],
      "execution_count": null,
      "outputs": []
    },
    {
      "cell_type": "markdown",
      "metadata": {
        "id": "9fk1n2NOeygm"
      },
      "source": [
        "#### 간편하게 train/test 분리: train_test_split\n",
        "훈련한 모델의 성능을 평가하기 위해 전체 데이터를 훈련 데이터셋과 테스트 데이터셋을 나눈다. 훈련 데이터셋은 모델 훈련에 사용되며, 테스트 데이터셋으로 모델을 평가하게 된다.\n",
        "\n",
        "- train_test_split 파라미터\n",
        "  - test_size: 테스트 셋 구성의 비율을 나타냅니다. train_size의 옵션과 반대 관계에 있는 옵션 값이며, 주로 test_size를 지정해 줍니다. 0.2는 전체 데이터 셋의 20%를 test (validation) 셋으로 지정하겠다는 의미입니다. default 값은 0.25 입니다.\n",
        "  - shuffle: default=True 입니다. split을 해주기 이전에 섞을건지 여부입니다. 보통은 default 값으로 놔둡니다.\n",
        "  - random_state: 세트를 섞을 때 해당 int 값을 보고 섞으며, 하이퍼 파라미터를 튜닝시 이 값을 고정해두고 튜닝해야 매번 데이터셋이 변경되는 것을 방지할 수 있습니다.\n",
        "  - stratify: default=None 입니다. classification을 다룰 때 매우 중요한 옵션값입니다. stratify 값을 target으로 지정해주면 각각의 class 비율(ratio)을 train / validation에 유지해 줍니다. (한 쪽에 쏠려서 분배되는 것을 방지합니다) 만약 이 옵션을 지정해 주지 않고 classification 문제를 다룬다면, 성능의 차이가 많이 날 수 있습니다.\n",
        "- train_test_split 리턴값\n",
        " - X_train, X_test, Y_train, Y_test : arrays에 데이터와 레이블을 둘 다 넣었을 경우의 반환이며, 데이터와 레이블의 순서쌍은 유지된다.\n",
        "  - X_train, X_test : arrays에 레이블 없이 데이터만 넣었을 경우의 반환\n",
        "\n",
        "\n",
        "### 4-4. 모델 학습"
      ]
    },
    {
      "cell_type": "code",
      "metadata": {
        "id": "UrSYO3WRe5-3"
      },
      "source": [
        "from sklearn.tree import DecisionTreeClassifier\n",
        "\n",
        "# Decision Tree Classification\n",
        "dt = DecisionTreeClassifier() \n",
        "\n",
        "dt.fit(x_train, y_train)\n",
        "dt_prediction = dt.predict(x_test)"
      ],
      "execution_count": null,
      "outputs": []
    },
    {
      "cell_type": "markdown",
      "metadata": {
        "id": "nVyg_0L6e7Nk"
      },
      "source": [
        "### 4-5. 모델 예측 및 평가"
      ]
    },
    {
      "cell_type": "code",
      "metadata": {
        "colab": {
          "base_uri": "https://localhost:8080/"
        },
        "id": "eIp-_BYve_km",
        "outputId": "87668855-28e3-4d68-b705-1f281f266736"
      },
      "source": [
        "from sklearn.metrics import accuracy_score\n",
        "\n",
        "# 정확도 출력\n",
        "accuracy_score(y_test, dt_prediction)"
      ],
      "execution_count": null,
      "outputs": [
        {
          "output_type": "execute_result",
          "data": {
            "text/plain": [
              "0.7142857142857143"
            ]
          },
          "metadata": {
            "tags": []
          },
          "execution_count": 18
        }
      ]
    },
    {
      "cell_type": "markdown",
      "metadata": {
        "id": "ToERVaPKbjOM"
      },
      "source": [
        "------\n",
        "### 모델 평가 지표\n",
        "머신러닝은 여러 가지 지표로 예측 성능을 평가할 수 있다. 분류는 일반적으로 정확도(Accuracy)로 평가하고 회귀는 보통 오차의 평균값(MSE)으로 한다. 회귀의 평가는 회귀 수업에서 다룬다. \n",
        "\n",
        "#### 1) 분류결과표(Confusion Matrix, 오차행렬)\n",
        "<img src=\"https://static.packt-cdn.com/products/9781838555078/graphics/C13314_06_05.jpg\" width=400px>\n",
        "<img src=\"https://skappal7.files.wordpress.com/2018/08/confusion-matrix.jpg\" width=400px> \n",
        "\n",
        "분류결과표는 타겟의 원래 클래스와 모형이 예측한 클래스가 일치하는지는 갯수로 센 결과를 표나 나타낸 것이다. 정답 클래스는 행(row)으로 예측한 클래스는 열(column)로 나타낸다.\n",
        "\n",
        "#### 2) 정확도(Accuracy)\n",
        "\n",
        "${accuracy} = \\dfrac{TP + TN}{TP + TN + FP + FN} $\n",
        "\n",
        "정확도는 전체 샘플 중 맞게 예측한 샘플 수의 비율을 뜻한다. 높을수록 좋은 모형이다. 일반적으로 학습에서 최적화 목적함수로 사용된다. 하지만 이진분류의 경우 정확도가 왜곡된 평가를 할 수 있기 때문에 주의해야 한다. 예를 들어, 100개의 금융거래 데이터 중 사기거래 데이터(양성 클래스)가 10개 뿐일 때, 만약 무조건 정상거래(음성 클래스)라고 예측하는 ML모델의 경우라도 정확도는 90%가 나오게 된다. \n",
        "\n",
        "\n",
        "#### 3) 정밀도(Precision)\n",
        "\n",
        "${precision} = \\dfrac{TP}{TP + FP}$\n",
        "\n",
        "정밀도는 양성 클래스에 속한다고 예측한 샘플 중 실제로 양성 클래스에 속하는 샘플 수의 비율을 말한다. 높을수록 좋은 모형이다. 정밀도가 중요한 예로 스팸메일의 경우, 실제 스팸메일(1)을 모델이 일반메일($\\widehat{0}$)로 판단하면 불편함을 느끼는 정도지만, 실제 일반메일(0)을 모델이 스팸($\\widehat{1}$)이라고 판단하면 메일을 아예 받지 못해 업무에 차질이 생길 수 있다.\n",
        "\n",
        "\n",
        "#### 4) 재현율(Recall)\n",
        "\n",
        "${recall} = \\dfrac{TP}{TP + FN}$\n",
        "\n",
        "재현율은 실제 양성 클래스에 속한 표본 중에 양성 클래스에 속한다고 예측한 표본의 수의 비율을 뜻한다. 높을수록 좋은 모형이다. TPR(true positive rate) 또는 민감도(sensitivity)라고도 한다. 재현율이 중요한 예로 사기거래 검출의 경우, 실제 사기거래(1)를 일반거래($\\widehat{0}$)로 판단하면 중대한 문제가 생기는 경우이다."
      ]
    },
    {
      "cell_type": "code",
      "metadata": {
        "colab": {
          "base_uri": "https://localhost:8080/"
        },
        "id": "olqmkeUYjVmb",
        "outputId": "20d58459-e6ee-4532-812b-2bae44ce1e30"
      },
      "source": [
        "from sklearn.metrics import confusion_matrix, classification_report\n",
        "\n",
        "# 오차 행렬과 평가 지표 출력\n",
        "print('오차 행렬\\n', confusion_matrix(y_test, dt_prediction))\n",
        "print('\\n평가 지표\\n', classification_report(y_test, dt_prediction))"
      ],
      "execution_count": null,
      "outputs": [
        {
          "output_type": "stream",
          "text": [
            "오차 행렬\n",
            " [[80 20]\n",
            " [24 30]]\n",
            "\n",
            "평가 지표\n",
            "               precision    recall  f1-score   support\n",
            "\n",
            "           0       0.77      0.80      0.78       100\n",
            "           1       0.60      0.56      0.58        54\n",
            "\n",
            "    accuracy                           0.71       154\n",
            "   macro avg       0.68      0.68      0.68       154\n",
            "weighted avg       0.71      0.71      0.71       154\n",
            "\n"
          ],
          "name": "stdout"
        }
      ]
    },
    {
      "cell_type": "markdown",
      "metadata": {
        "id": "LnmGMzVTiUG8"
      },
      "source": [
        "### 수고했습니다.\n",
        "\n"
      ]
    }
  ]
}
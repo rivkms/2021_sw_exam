{
  "nbformat": 4,
  "nbformat_minor": 0,
  "metadata": {
    "kernelspec": {
      "display_name": "Python 3",
      "language": "python",
      "name": "python3"
    },
    "language_info": {
      "codemirror_mode": {
        "name": "ipython",
        "version": 3
      },
      "file_extension": ".py",
      "mimetype": "text/x-python",
      "name": "python",
      "nbconvert_exporter": "python",
      "pygments_lexer": "ipython3",
      "version": "3.7.1"
    },
    "colab": {
      "name": "3주차 학생 Pandas(수업자료).ipynb",
      "provenance": [],
      "collapsed_sections": [],
      "include_colab_link": true
    }
  },
  "cells": [
    {
      "cell_type": "markdown",
      "metadata": {
        "id": "view-in-github",
        "colab_type": "text"
      },
      "source": [
        "<a href=\"https://colab.research.google.com/github/rivkms/2021_sw_exam/blob/main/3%EC%A3%BC%EC%B0%A8_%ED%95%99%EC%83%9D_Pandas(%EC%88%98%EC%97%85%EC%9E%90%EB%A3%8C).ipynb\" target=\"_parent\"><img src=\"https://colab.research.google.com/assets/colab-badge.svg\" alt=\"Open In Colab\"/></a>"
      ]
    },
    {
      "cell_type": "markdown",
      "metadata": {
        "id": "SIV_OV5pWjqz"
      },
      "source": [
        "## [kaggle과 colab 연동하기]\n",
        "\n",
        "1. kaggle account에서 개인 API 다운로드\n",
        "2. 캐글 설치\n",
        "3. 개인 API 업로드 & 디렉터리 설정"
      ]
    },
    {
      "cell_type": "code",
      "metadata": {
        "id": "HrBe2xsKXJxL",
        "colab": {
          "base_uri": "https://localhost:8080/"
        },
        "outputId": "9ee22600-ed52-4332-e161-bc4190c24798"
      },
      "source": [
        "# 캐글과 코랩 연동을 위한 kaggle.jason 파일(캐글-My Account에서 다운로드) 업로드\n",
        "!pip install kaggle"
      ],
      "execution_count": null,
      "outputs": [
        {
          "output_type": "stream",
          "text": [
            "Requirement already satisfied: kaggle in /usr/local/lib/python3.7/dist-packages (1.5.10)\n",
            "Requirement already satisfied: python-slugify in /usr/local/lib/python3.7/dist-packages (from kaggle) (4.0.1)\n",
            "Requirement already satisfied: six>=1.10 in /usr/local/lib/python3.7/dist-packages (from kaggle) (1.15.0)\n",
            "Requirement already satisfied: urllib3 in /usr/local/lib/python3.7/dist-packages (from kaggle) (1.24.3)\n",
            "Requirement already satisfied: python-dateutil in /usr/local/lib/python3.7/dist-packages (from kaggle) (2.8.1)\n",
            "Requirement already satisfied: requests in /usr/local/lib/python3.7/dist-packages (from kaggle) (2.23.0)\n",
            "Requirement already satisfied: tqdm in /usr/local/lib/python3.7/dist-packages (from kaggle) (4.41.1)\n",
            "Requirement already satisfied: certifi in /usr/local/lib/python3.7/dist-packages (from kaggle) (2020.12.5)\n",
            "Requirement already satisfied: text-unidecode>=1.3 in /usr/local/lib/python3.7/dist-packages (from python-slugify->kaggle) (1.3)\n",
            "Requirement already satisfied: idna<3,>=2.5 in /usr/local/lib/python3.7/dist-packages (from requests->kaggle) (2.10)\n",
            "Requirement already satisfied: chardet<4,>=3.0.2 in /usr/local/lib/python3.7/dist-packages (from requests->kaggle) (3.0.4)\n"
          ],
          "name": "stdout"
        }
      ]
    },
    {
      "cell_type": "code",
      "metadata": {
        "id": "hAV8zgb2eYbP",
        "colab": {
          "resources": {
            "http://localhost:8080/nbextensions/google.colab/files.js": {
              "data": "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",
              "ok": true,
              "headers": [
                [
                  "content-type",
                  "application/javascript"
                ]
              ],
              "status": 200,
              "status_text": ""
            }
          },
          "base_uri": "https://localhost:8080/",
          "height": 92
        },
        "outputId": "75568547-dff0-44c1-a7a5-f85f1b99bd5d"
      },
      "source": [
        "from google.colab import files\n",
        "files.upload()"
      ],
      "execution_count": null,
      "outputs": [
        {
          "output_type": "display_data",
          "data": {
            "text/html": [
              "\n",
              "     <input type=\"file\" id=\"files-b113e9c7-a9c2-4232-a598-7b8cea9ab693\" name=\"files[]\" multiple disabled\n",
              "        style=\"border:none\" />\n",
              "     <output id=\"result-b113e9c7-a9c2-4232-a598-7b8cea9ab693\">\n",
              "      Upload widget is only available when the cell has been executed in the\n",
              "      current browser session. Please rerun this cell to enable.\n",
              "      </output>\n",
              "      <script src=\"/nbextensions/google.colab/files.js\"></script> "
            ],
            "text/plain": [
              "<IPython.core.display.HTML object>"
            ]
          },
          "metadata": {
            "tags": []
          }
        },
        {
          "output_type": "stream",
          "text": [
            "Saving kaggle.json to kaggle (1).json\n"
          ],
          "name": "stdout"
        },
        {
          "output_type": "execute_result",
          "data": {
            "text/plain": [
              "{'kaggle.json': b'{\"username\":\"youngakim\",\"key\":\"f04ca881ed2a8345ea89d8c59d8eff00\"}'}"
            ]
          },
          "metadata": {
            "tags": []
          },
          "execution_count": 8
        }
      ]
    },
    {
      "cell_type": "code",
      "metadata": {
        "id": "akDY6POFXMl_"
      },
      "source": [
        "# kaggle.json 파일을 적절한 디렉토리로 이동\n",
        "!mkdir -p ~/.kaggle\n",
        "!cp kaggle.json ~/.kaggle/\n",
        "\n",
        "# Permission Warning 이 일어나지 않도록 함 \n",
        "!chmod 600 ~/.kaggle/kaggle.json"
      ],
      "execution_count": null,
      "outputs": []
    },
    {
      "cell_type": "code",
      "metadata": {
        "id": "sNzzJN5TeXk4"
      },
      "source": [
        ""
      ],
      "execution_count": null,
      "outputs": []
    },
    {
      "cell_type": "code",
      "metadata": {
        "id": "B-gIKgoLZzQb",
        "colab": {
          "base_uri": "https://localhost:8080/"
        },
        "outputId": "093fa1ed-4b6f-41b9-f92e-b7f496ac2ced"
      },
      "source": [
        "# 데이터 로드\n",
        "!kaggle datasets download -d samuelvedrik/ramen-ratings-latest-update-jan-25-2020"
      ],
      "execution_count": null,
      "outputs": [
        {
          "output_type": "stream",
          "text": [
            "401 - Unauthorized\n"
          ],
          "name": "stdout"
        }
      ]
    },
    {
      "cell_type": "code",
      "metadata": {
        "id": "DhDvw3nNa0gd"
      },
      "source": [
        "# zip파일 압축 해제 후 현재 디렉토리의 파일 리스트 보기\n",
        "!unzip "
      ],
      "execution_count": null,
      "outputs": []
    },
    {
      "cell_type": "markdown",
      "metadata": {
        "id": "h5LXIMqwrFsM"
      },
      "source": [
        "-------------\n",
        "# 3주차. Pandas(판다스)\n",
        "- 구조화된 데이터 처리를 지원하는 Python 라이브러리로 파이썬계의 엑셀이라고 불림 \n",
        "- 고성능 Array 계산 라이브러리인 Numpy를 통합해 강력한 '스프레드시트' 처리 기능을 제공\n",
        "- 행과 열로 이루어진 데이터 객체를 만들어 다룰 수 있어 안정적으로 대용량의 데이터들을 처리하는데 매우 편리한 도구\n",
        "- 자동적/명시적으로 축의 이름에 따라 데이터를 정렬할 수 있는 데이터구조\n",
        "- SQL 같은 일반 데이터베이스처럼 데이터를 합치고 관계연산을 수행하는 기능\n",
        "- scikit-learn과 같은 머신러닝 라이브러리와 함께 많이 활용됨\n",
        "\n",
        "\n",
        "- 자료구조\n",
        "  - 1차원 자료구조 : series\n",
        "<img src=\"https://storage.googleapis.com/lds-media/images/series-and-dataframe.width-1200.png\" width=\"400px\">\n",
        "\n",
        "  - 2차원 자료구조 : dataFrame\n",
        "  여러 개의 칼럼(column)으로 구성되어 있는데, 각 칼럼 별로 서로 다른 종류의 자료형(숫자, 문자열, True/False)을 저장할 수 있음\n",
        "\n",
        "  <img src=\"https://cdn-images-1.medium.com/max/800/1*6p6nF4_5XpHgcrYRrLYVAw.png\" width=\"700px\">"
      ]
    },
    {
      "cell_type": "markdown",
      "metadata": {
        "id": "6zyS0aKgrFsN"
      },
      "source": [
        "## [Live Coding] Ramen-Ratings 데이터 분석하기\n"
      ]
    },
    {
      "cell_type": "code",
      "metadata": {
        "id": "XmhNEqzXrFsO"
      },
      "source": [
        "# 라이브러리 import\n"
      ],
      "execution_count": null,
      "outputs": []
    },
    {
      "cell_type": "markdown",
      "metadata": {
        "id": "fNNDNjvfrFsS"
      },
      "source": [
        "### 1.데이터 로드 및 확인"
      ]
    },
    {
      "cell_type": "code",
      "metadata": {
        "id": "YGQW20_orFsS"
      },
      "source": [
        "# 데이터 로드\n",
        "\n",
        "\n",
        "# 데이터 탐색\n"
      ],
      "execution_count": null,
      "outputs": []
    },
    {
      "cell_type": "code",
      "metadata": {
        "id": "k20gw-53rFsW"
      },
      "source": [
        "# 데이터 shape 확인\n"
      ],
      "execution_count": null,
      "outputs": []
    },
    {
      "cell_type": "code",
      "metadata": {
        "id": "mYCxsl0crFsZ"
      },
      "source": [
        "# 데이터 정보 확인\n"
      ],
      "execution_count": null,
      "outputs": []
    },
    {
      "cell_type": "code",
      "metadata": {
        "id": "hw25W3fArFsd"
      },
      "source": [
        "# 간단한 통계 정보 확인\n"
      ],
      "execution_count": null,
      "outputs": []
    },
    {
      "cell_type": "markdown",
      "metadata": {
        "id": "8V_pjdsxrFsg"
      },
      "source": [
        "### 2.missing data 확인\n",
        "\n",
        "- isna() : None, numpy.NaN과 같은 NA value인지 검사하여 True/False 리턴\n",
        "\n",
        "\n"
      ]
    },
    {
      "cell_type": "code",
      "metadata": {
        "id": "BXru5LdhrFsg"
      },
      "source": [
        "# 결측값 확인\n"
      ],
      "execution_count": null,
      "outputs": []
    },
    {
      "cell_type": "markdown",
      "metadata": {
        "id": "Is6Rtf7yrFsk"
      },
      "source": [
        "#### Style 컬럼"
      ]
    },
    {
      "cell_type": "code",
      "metadata": {
        "id": "ieK6G0bOrFsk"
      },
      "source": [
        "# Style에서 어떤 데이터가 비어있는지 확인\n"
      ],
      "execution_count": null,
      "outputs": []
    },
    {
      "cell_type": "markdown",
      "metadata": {
        "id": "Q7so3QAbrFso"
      },
      "source": [
        "- 결측값 처리방법\n",
        "    - 비어있는 데이터는 1)삭제 2)평균값 3)중앙값 4)최빈값 5)예측알고리즘 등으로 대체값 찾기\n",
        "    - 어떤 방법으로 할지는 데이터에 따라 다름\n",
        "- 여기서는 최빈값으로 해보자."
      ]
    },
    {
      "cell_type": "code",
      "metadata": {
        "id": "IJRk0cGHrFso"
      },
      "source": [
        "# Kamfen사가 China에서 라면을 주로 어떤 Style로 파는지 파악\n"
      ],
      "execution_count": null,
      "outputs": []
    },
    {
      "cell_type": "code",
      "metadata": {
        "id": "MvzWYM9ErFsr"
      },
      "source": [
        "# Unif사가 Taiwan에서 라면을 주로 어떤 Style로 파는지 파악\n"
      ],
      "execution_count": null,
      "outputs": []
    },
    {
      "cell_type": "code",
      "metadata": {
        "id": "1wzYRcgzrFsu"
      },
      "source": [
        "# 결측값을 최빈값으로 채우기\n",
        "\n",
        "data.isna().sum()"
      ],
      "execution_count": null,
      "outputs": []
    },
    {
      "cell_type": "markdown",
      "metadata": {
        "id": "9Qkpm0hqrFs1"
      },
      "source": [
        "- 만약 결측데이터가 가치가 없다고 판단되면 삭제도 방법"
      ]
    },
    {
      "cell_type": "code",
      "metadata": {
        "id": "JEmuIaMjrFs1"
      },
      "source": [
        "# Style에서 결측데이터를 가지고 있는 행을 삭제\n",
        "\n",
        "data['Style'].isna().sum()"
      ],
      "execution_count": null,
      "outputs": []
    },
    {
      "cell_type": "markdown",
      "metadata": {
        "id": "QBOz90rSrFs4"
      },
      "source": [
        "#### Stars 컬럼\n",
        "- Stars에 숫자가 아닌 값이 있는지 확인"
      ]
    },
    {
      "cell_type": "code",
      "metadata": {
        "id": "-nu1tUPHrFs5"
      },
      "source": [
        ""
      ],
      "execution_count": null,
      "outputs": []
    },
    {
      "cell_type": "code",
      "metadata": {
        "id": "mRqwMsV1rFs7"
      },
      "source": [
        ""
      ],
      "execution_count": null,
      "outputs": []
    },
    {
      "cell_type": "markdown",
      "metadata": {
        "id": "EiyBvEm3rFs-"
      },
      "source": [
        "대부분 스프가 포함되지 않은 사리면이므로 Stars=0으로 대체하자."
      ]
    },
    {
      "cell_type": "code",
      "metadata": {
        "id": "YdZN6nWRrFs-"
      },
      "source": [
        "\n",
        "print(data[data['Stars']=='Unrated']['Stars'].sum())"
      ],
      "execution_count": null,
      "outputs": []
    },
    {
      "cell_type": "markdown",
      "metadata": {
        "id": "V8A9RFw9rFtB"
      },
      "source": [
        "앞서 Stars컬럼은 object 타입임을 확인했으므로 숫자 타입으로 변경"
      ]
    },
    {
      "cell_type": "code",
      "metadata": {
        "id": "n9dpL1wLrFtC"
      },
      "source": [
        ""
      ],
      "execution_count": null,
      "outputs": []
    },
    {
      "cell_type": "markdown",
      "metadata": {
        "id": "G_TDPtZvrFtF"
      },
      "source": [
        "### 3.데이터 시각화\n",
        "- 데이터 시각화를 통해 데이터에 대한 통찰을 얻는다.\n",
        "- matplotlib과 seaborn을 적절하게 사용\n",
        "- [matplotlib 시각화 참고자료](https://datascienceschool.net/view-notebook/d0b1637803754bb083b5722c9f2209d0/)\n",
        "- [seaborn 시각화 참고자료](https://datascienceschool.net/view-notebook/4c2d5ff1caab4b21a708cc662137bc65/)"
      ]
    },
    {
      "cell_type": "code",
      "metadata": {
        "id": "pG71FQRyrFtF"
      },
      "source": [
        "import matplotlib.pyplot as plt\n",
        "import seaborn as sns"
      ],
      "execution_count": null,
      "outputs": []
    },
    {
      "cell_type": "markdown",
      "metadata": {
        "id": "ueNHud4CrFtI"
      },
      "source": [
        "#### Style별 비율"
      ]
    },
    {
      "cell_type": "code",
      "metadata": {
        "id": "hGKdOu7lrFtJ"
      },
      "source": [
        "\n",
        "\n",
        "plt.figure()\n",
        "plt.pie(style_count, labels=labels, autopct='%.2f%%', startangle=180)\n",
        "plt.show()"
      ],
      "execution_count": null,
      "outputs": []
    },
    {
      "cell_type": "markdown",
      "metadata": {
        "id": "hQevqZgSrFtL"
      },
      "source": [
        "#### 나라별 브랜드 개수"
      ]
    },
    {
      "cell_type": "code",
      "metadata": {
        "id": "RNEVrCjcrFtL"
      },
      "source": [
        ""
      ],
      "execution_count": null,
      "outputs": []
    },
    {
      "cell_type": "code",
      "metadata": {
        "id": "4a4uPm3_rFtO"
      },
      "source": [
        "#f, ax = plt.subplots(figsize=(15,5))\n",
        "plt.figure(figsize=(15, 5))\n",
        "plt.bar('Country', 'Amount of Brands', data=df_cnt_brand, color='gold')\n",
        "plt.title('Amount', fontsize=14)\n",
        "plt.ylabel('Number of brands')\n",
        "plt.xticks(rotation=90)\n",
        "plt.show()"
      ],
      "execution_count": null,
      "outputs": []
    },
    {
      "cell_type": "markdown",
      "metadata": {
        "id": "zMN2T7vBrFtQ"
      },
      "source": [
        "#### Stars 분포\n",
        "\n",
        "- Seaborn의 distplot 명령은 러그와 커널 밀도 표시 기능이 있어서 Matplotlib의 hist 명령보다 많이 사용된다."
      ]
    },
    {
      "cell_type": "code",
      "metadata": {
        "id": "dqS5Ebx-rFtQ"
      },
      "source": [
        "sns.distplot(data['Stars'], rug=True)"
      ],
      "execution_count": null,
      "outputs": []
    },
    {
      "cell_type": "markdown",
      "metadata": {
        "id": "VlPKgzdKrFtT"
      },
      "source": [
        "#### Style별 Stars 분포"
      ]
    },
    {
      "cell_type": "code",
      "metadata": {
        "id": "EGowcWWSrFtT"
      },
      "source": [
        "sns.boxplot(data['Style'], data['Stars'])"
      ],
      "execution_count": null,
      "outputs": []
    },
    {
      "cell_type": "markdown",
      "metadata": {
        "id": "lqCP7fYZrFtW"
      },
      "source": [
        "---------------\n",
        "## [Pandas 이론]"
      ]
    },
    {
      "cell_type": "markdown",
      "metadata": {
        "id": "Hfe0knh40NYt"
      },
      "source": [
        "\n",
        "### 1.Pandas 라이브러리 import하기"
      ]
    },
    {
      "cell_type": "code",
      "metadata": {
        "id": "42VLzAVfrFtW"
      },
      "source": [
        "import pandas as pd"
      ],
      "execution_count": null,
      "outputs": []
    },
    {
      "cell_type": "code",
      "metadata": {
        "id": "vbY8DGxHrFta"
      },
      "source": [
        "pd.__version__"
      ],
      "execution_count": null,
      "outputs": []
    },
    {
      "cell_type": "markdown",
      "metadata": {
        "id": "jPSTYRWwrFtd"
      },
      "source": [
        "### 2.파일에서 데이터 로드하기\n",
        "\n",
        "- 확장자가 CSV가 아닌 파일 즉, 데이터를 구분하는 구분자(separator)가 쉼표(comma)가 아니면 sep 인수를 써서 구분자를 사용자가 지정해준다. \n",
        "- 만약 구분자가 길이가 정해지지 않은 공백인 경우에는 \\s+라는 정규식(regular expression) 문자열을 사용한다."
      ]
    },
    {
      "cell_type": "code",
      "metadata": {
        "id": "2nVQleBurFtd"
      },
      "source": [
        "# csv타입 데이터 파일, sep:구분자로 여러 공백 지정, 피처이름 없음.\n",
        "data = pd.read_csv('housing.data', sep='\\s+', header=None)"
      ],
      "execution_count": null,
      "outputs": []
    },
    {
      "cell_type": "markdown",
      "metadata": {
        "id": "7K-akmTrrFtf"
      },
      "source": [
        "파일로부터 데이터를 가져와서 DataFrame 생성하여 반환한다."
      ]
    },
    {
      "cell_type": "code",
      "metadata": {
        "id": "95hc-r-vrFtg"
      },
      "source": [
        "data.head() # 처음 5행 출력"
      ],
      "execution_count": null,
      "outputs": []
    },
    {
      "cell_type": "markdown",
      "metadata": {
        "id": "2FGoz3FVrFti"
      },
      "source": [
        "### 3.Series\n",
        "- columns vector를 표현하는 object\n",
        "- numpy.ndarray의 자식클래스로 ndarray에 몇가지 기능이 추가된 것\n"
      ]
    },
    {
      "cell_type": "markdown",
      "metadata": {
        "id": "g_xNqxu80e57"
      },
      "source": [
        "\n",
        "#### 3-1.Series 생성"
      ]
    },
    {
      "cell_type": "code",
      "metadata": {
        "id": "zN07dowDrFtj"
      },
      "source": [
        "from pandas import Series"
      ],
      "execution_count": null,
      "outputs": []
    },
    {
      "cell_type": "code",
      "metadata": {
        "id": "gQQw1bWorFtm"
      },
      "source": [
        "list_data = [1,2,3,4,5]\n",
        "ex_series = Series(data=list_data)\n",
        "ex_series"
      ],
      "execution_count": null,
      "outputs": []
    },
    {
      "cell_type": "markdown",
      "metadata": {
        "id": "Wd4IoaK3rFto"
      },
      "source": [
        "- 첫째열이 index, 둘째열이 data, 하단에 data type 정보\n"
      ]
    },
    {
      "cell_type": "markdown",
      "metadata": {
        "id": "P-KcaFwGrFto"
      },
      "source": [
        "- 파이썬의 list, dict 모두 쉽게 Series타입으로 변환 가능\n",
        "- dtype으로 데이터 타입 지정가능"
      ]
    },
    {
      "cell_type": "code",
      "metadata": {
        "id": "Lc3u0eCyrFtp"
      },
      "source": [
        "list_index = ['A','B','C','D','E']\n",
        "ex2_series = Series(list_data, index=list_index)\n",
        "ex2_series"
      ],
      "execution_count": null,
      "outputs": []
    },
    {
      "cell_type": "code",
      "metadata": {
        "id": "fWk__3NJrFts"
      },
      "source": [
        "dict_data = {'a':1, 'b':2, 'c':3, 'd':4}\n",
        "ex3_series = Series(dict_data, dtype=float)\n",
        "ex3_series"
      ],
      "execution_count": null,
      "outputs": []
    },
    {
      "cell_type": "markdown",
      "metadata": {
        "id": "z7B0jGMDrFtu"
      },
      "source": [
        "#### 3-2.Series 다루기"
      ]
    },
    {
      "cell_type": "markdown",
      "metadata": {
        "id": "44Vqpn30rFtv"
      },
      "source": [
        "- 인덱스로 접근하여 데이터 수정 가능"
      ]
    },
    {
      "cell_type": "code",
      "metadata": {
        "id": "LRyiaqeirFtv"
      },
      "source": [
        "ex3_series['a']"
      ],
      "execution_count": null,
      "outputs": []
    },
    {
      "cell_type": "code",
      "metadata": {
        "id": "m5wANxsTrFty"
      },
      "source": [
        "ex3_series['a'] = 10.0\n",
        "ex3_series"
      ],
      "execution_count": null,
      "outputs": []
    },
    {
      "cell_type": "markdown",
      "metadata": {
        "id": "bWP-UtB0rFt0"
      },
      "source": [
        "- valus로 값만, index로 인덱스만 추출할 수 있다."
      ]
    },
    {
      "cell_type": "code",
      "metadata": {
        "id": "B89EafMCrFt1"
      },
      "source": [
        "ex3_series.values"
      ],
      "execution_count": null,
      "outputs": []
    },
    {
      "cell_type": "code",
      "metadata": {
        "id": "W96qoQuLrFt4"
      },
      "source": [
        "ex3_series.index"
      ],
      "execution_count": null,
      "outputs": []
    },
    {
      "cell_type": "markdown",
      "metadata": {
        "id": "wfY_pdMIrFt6"
      },
      "source": [
        "### 4.DataFrame\n",
        "- 여러 개의 Series가 연결된 집합으로 2차원 테이블(table) 형태\n",
        "- 각 컬럼(column)이 다른 데이터 타입을 가질수 있음\n",
        "- 행(row)과 열(column) 인덱스를 가짐\n",
        "- 크기는 삽입/삭제를 통해 변할 수 있음(mutable) \n"
      ]
    },
    {
      "cell_type": "markdown",
      "metadata": {
        "id": "O_WMqUML0lih"
      },
      "source": [
        "\n",
        "#### 4-1.DataFrame 생성"
      ]
    },
    {
      "cell_type": "code",
      "metadata": {
        "id": "MT_In9gzrFt7"
      },
      "source": [
        "raw_data = {'성': ['손', '이', '류', '김'],\n",
        "           '이름': ['흥민', '강인', '현진', '광현'],\n",
        "           '나이': [27, 19, 32, 31],\n",
        "            '팀': ['Tottenham', 'Valencia', 'Toronto', 'Saint Louis']}\n",
        "df = pd.DataFrame(raw_data)\n",
        "df"
      ],
      "execution_count": null,
      "outputs": []
    },
    {
      "cell_type": "markdown",
      "metadata": {
        "id": "v-RnGp_vrFt-"
      },
      "source": [
        "- 필요한 컬럼만으로 DataFrame을 만들 수 있으며\n",
        "- 새로운 컬럼을 추가할 수도 있다. 이때 NaN(Not a Number)가 기본값."
      ]
    },
    {
      "cell_type": "code",
      "metadata": {
        "id": "c5JkEVuYrFt_"
      },
      "source": [
        "team = pd.DataFrame(raw_data, columns=['이름','팀'])\n",
        "team"
      ],
      "execution_count": null,
      "outputs": []
    },
    {
      "cell_type": "code",
      "metadata": {
        "id": "uovRlx8HrFuB"
      },
      "source": [
        "income = pd.DataFrame(raw_data, columns=['성','이름','나이','팀','연봉'])\n",
        "income"
      ],
      "execution_count": null,
      "outputs": []
    },
    {
      "cell_type": "markdown",
      "metadata": {
        "id": "UpmHs_0CrFuE"
      },
      "source": [
        "#### 4-2.DataFrame 인덱싱/슬라이싱"
      ]
    },
    {
      "cell_type": "markdown",
      "metadata": {
        "id": "grTq_mifrFuE"
      },
      "source": [
        "- 한 개 컬럼 선택시 Series 추출"
      ]
    },
    {
      "cell_type": "code",
      "metadata": {
        "id": "uEI_NuBerFuE"
      },
      "source": [
        "name_series = df['이름'] \n",
        "name_series"
      ],
      "execution_count": null,
      "outputs": []
    },
    {
      "cell_type": "markdown",
      "metadata": {
        "id": "d7YpyXIJrFuI"
      },
      "source": [
        "- 두 개 이상의 컬럼은 DataFrame으로 추출"
      ]
    },
    {
      "cell_type": "code",
      "metadata": {
        "id": "8bN9hzhKrFuJ"
      },
      "source": [
        "df[['성', '이름']].head(2) # 리스트의 리스트"
      ],
      "execution_count": null,
      "outputs": []
    },
    {
      "cell_type": "markdown",
      "metadata": {
        "id": "_uBUKdnprFuM"
      },
      "source": [
        "- 원하는 행 슬라이싱"
      ]
    },
    {
      "cell_type": "code",
      "metadata": {
        "id": "4OmoimIdrFuN"
      },
      "source": [
        "df[:2]"
      ],
      "execution_count": null,
      "outputs": []
    },
    {
      "cell_type": "code",
      "metadata": {
        "id": "JdY1gWqWrFuQ"
      },
      "source": [
        "df['팀'][:2]"
      ],
      "execution_count": null,
      "outputs": []
    },
    {
      "cell_type": "markdown",
      "metadata": {
        "id": "EiX1mTA9rFuS"
      },
      "source": [
        "- iloc: 숫자를 이용해 인덱싱. 우리가 배워온 인덱싱과 같은 원리"
      ]
    },
    {
      "cell_type": "code",
      "metadata": {
        "id": "aInunIccrFuT"
      },
      "source": [
        "df.iloc[1] # 테이블에서 1번행을 가져옴"
      ],
      "execution_count": null,
      "outputs": []
    },
    {
      "cell_type": "code",
      "metadata": {
        "id": "1BlrxFFErFuW"
      },
      "source": [
        "df.iloc[1, 2:]"
      ],
      "execution_count": null,
      "outputs": []
    },
    {
      "cell_type": "markdown",
      "metadata": {
        "id": "Zswm1alWrFuY"
      },
      "source": [
        "- loc: 인덱스 '이름'을 기준으로 인덱싱"
      ]
    },
    {
      "cell_type": "code",
      "metadata": {
        "id": "5XtGtYMlrFuY"
      },
      "source": [
        "df.loc[1] # 테이블의 인덱스 이름이 '1'인 행을 가져옴. iloc와 다름"
      ],
      "execution_count": null,
      "outputs": []
    },
    {
      "cell_type": "markdown",
      "metadata": {
        "id": "LW_KCybwrFub"
      },
      "source": [
        "- iloc와 loc 비교"
      ]
    },
    {
      "cell_type": "code",
      "metadata": {
        "id": "Sc_VIg6DrFub"
      },
      "source": [
        "temp = pd.DataFrame(raw_data, index=[55, 56, 1, 2])\n",
        "temp"
      ],
      "execution_count": null,
      "outputs": []
    },
    {
      "cell_type": "code",
      "metadata": {
        "id": "Ahyahjn8rFud"
      },
      "source": [
        "temp.iloc[2] # 2번 행이 출력"
      ],
      "execution_count": null,
      "outputs": []
    },
    {
      "cell_type": "code",
      "metadata": {
        "id": "gxuFfV1mrFug"
      },
      "source": [
        "temp.loc[2] # 인덱스 이름이 '2'인 행이 추출"
      ],
      "execution_count": null,
      "outputs": []
    },
    {
      "cell_type": "code",
      "metadata": {
        "id": "8YskaY-OrFuk"
      },
      "source": [
        "temp.loc[56:1]"
      ],
      "execution_count": null,
      "outputs": []
    },
    {
      "cell_type": "markdown",
      "metadata": {
        "id": "hhnAKCwyrFun"
      },
      "source": [
        "- 조건에 맞는 행만 추출"
      ]
    },
    {
      "cell_type": "code",
      "metadata": {
        "id": "XNmqtexArFun"
      },
      "source": [
        "df[df['나이']<30]"
      ],
      "execution_count": null,
      "outputs": []
    },
    {
      "cell_type": "markdown",
      "metadata": {
        "id": "9Opg_U7VrFur"
      },
      "source": [
        "#### 4-3.DataFrame 다루기"
      ]
    },
    {
      "cell_type": "markdown",
      "metadata": {
        "id": "IlUT1klSrFuu"
      },
      "source": [
        "- DataFrame에 새로운 컬럼 추가"
      ]
    },
    {
      "cell_type": "code",
      "metadata": {
        "id": "byDxQMi_rFuu"
      },
      "source": [
        "df['old'] = df.나이 > 30\n",
        "df"
      ],
      "execution_count": null,
      "outputs": []
    },
    {
      "cell_type": "markdown",
      "metadata": {
        "id": "y9lkVsQOrFux"
      },
      "source": [
        "- DataFrame 전치"
      ]
    },
    {
      "cell_type": "code",
      "metadata": {
        "id": "XHNUqzmfrFux"
      },
      "source": [
        "df.T"
      ],
      "execution_count": null,
      "outputs": []
    },
    {
      "cell_type": "markdown",
      "metadata": {
        "id": "fweQa0carFuz"
      },
      "source": [
        "- 값 출력"
      ]
    },
    {
      "cell_type": "code",
      "metadata": {
        "id": "l7GBP6unrFuz"
      },
      "source": [
        "df.values"
      ],
      "execution_count": null,
      "outputs": []
    },
    {
      "cell_type": "code",
      "metadata": {
        "id": "X5TNAuNSrFu2"
      },
      "source": [
        "df['팀'].values"
      ],
      "execution_count": null,
      "outputs": []
    },
    {
      "cell_type": "markdown",
      "metadata": {
        "id": "O8JIBdhdrFu5"
      },
      "source": [
        "- 컬럼 삭제"
      ]
    },
    {
      "cell_type": "code",
      "metadata": {
        "id": "h2ryF0MPrFu6"
      },
      "source": [
        "del df['old']\n",
        "df"
      ],
      "execution_count": null,
      "outputs": []
    },
    {
      "cell_type": "code",
      "metadata": {
        "id": "a7LiXnvErFu9"
      },
      "source": [
        "df.drop('나이', axis=1) # df.drop(['나이', '팀'], axis=1)"
      ],
      "execution_count": null,
      "outputs": []
    },
    {
      "cell_type": "code",
      "metadata": {
        "id": "9noozM73rFvC"
      },
      "source": [
        "df"
      ],
      "execution_count": null,
      "outputs": []
    },
    {
      "cell_type": "markdown",
      "metadata": {
        "id": "JYS4nHdjrFvE"
      },
      "source": [
        "del 명령과 달리 drop은 가상으로만 삭제(view에서만 삭제)하고 실제로 삭제하지는 않는다. 삭제된 내용을 실제로 반영하려면 drop에 inplace=True 속성을 삽입한다."
      ]
    },
    {
      "cell_type": "code",
      "metadata": {
        "id": "4dbcMCuvrFvE"
      },
      "source": [
        "df.drop('나이', axis=1, inplace=True)\n",
        "df"
      ],
      "execution_count": null,
      "outputs": []
    },
    {
      "cell_type": "markdown",
      "metadata": {
        "id": "drUccNqtrFvG"
      },
      "source": [
        "- 행 삭제"
      ]
    },
    {
      "cell_type": "code",
      "metadata": {
        "id": "GngMEUZkrFvG"
      },
      "source": [
        "df.drop(1, inplace=True)\n",
        "df"
      ],
      "execution_count": null,
      "outputs": []
    },
    {
      "cell_type": "markdown",
      "metadata": {
        "id": "V0CyLVjRrFvI"
      },
      "source": [
        "### 5.DataFrame 연산"
      ]
    },
    {
      "cell_type": "markdown",
      "metadata": {
        "id": "eQK-qIKB1s3-"
      },
      "source": [
        "\n",
        "#### 5-1.Series 연산\n",
        "- index를 기준으로 연산 수행"
      ]
    },
    {
      "cell_type": "code",
      "metadata": {
        "id": "WGYx51xYrFvI"
      },
      "source": [
        "s1 = pd.Series(range(1,6), index=list('abcde'))\n",
        "s1"
      ],
      "execution_count": null,
      "outputs": []
    },
    {
      "cell_type": "code",
      "metadata": {
        "id": "pkw9aemurFvK"
      },
      "source": [
        "s2 = pd.Series(range(5,11), index=list('ebcdef'))\n",
        "s2"
      ],
      "execution_count": null,
      "outputs": []
    },
    {
      "cell_type": "code",
      "metadata": {
        "id": "9P7GzkkNrFvL"
      },
      "source": [
        "s1.add(s2) # s1+s2"
      ],
      "execution_count": null,
      "outputs": []
    },
    {
      "cell_type": "markdown",
      "metadata": {
        "id": "gySAUK0nrFvN"
      },
      "source": [
        "양쪽에 모두 있는 index끼리 연산하고, 한쪽만 있는 경우 NaN값으로 반환"
      ]
    },
    {
      "cell_type": "markdown",
      "metadata": {
        "id": "LxnYmSgVrFvN"
      },
      "source": [
        "#### 5-2.DataFrame 연산\n",
        "- column과 index를 모두 고려하여 연산 수행"
      ]
    },
    {
      "cell_type": "code",
      "metadata": {
        "id": "QFDhqSVWrFvO"
      },
      "source": [
        "import numpy as np\n",
        "df1 = pd.DataFrame(np.arange(9).reshape(3,3), columns=list('abc'))\n",
        "df1"
      ],
      "execution_count": null,
      "outputs": []
    },
    {
      "cell_type": "code",
      "metadata": {
        "id": "bni90aKsrFvP"
      },
      "source": [
        "df2 = pd.DataFrame(np.arange(16).reshape(4,4), columns=list('abcd'))\n",
        "df2"
      ],
      "execution_count": null,
      "outputs": []
    },
    {
      "cell_type": "code",
      "metadata": {
        "id": "bPtXd5i1rFvT"
      },
      "source": [
        "df1.add(df2) # df1.add(df2, fill_value=0)"
      ],
      "execution_count": null,
      "outputs": []
    },
    {
      "cell_type": "markdown",
      "metadata": {
        "id": "sxHAfHg_rFvU"
      },
      "source": [
        "#### 5-3.Series + DataFrame\n",
        "- broadcasting 실행"
      ]
    },
    {
      "cell_type": "code",
      "metadata": {
        "id": "PngEi-uCrFvV"
      },
      "source": [
        "s3 = pd.Series(np.arange(10, 14), index=list('abcd'))\n",
        "s3"
      ],
      "execution_count": null,
      "outputs": []
    },
    {
      "cell_type": "code",
      "metadata": {
        "id": "tf7KujDhrFvX"
      },
      "source": [
        "df3 = pd.DataFrame(np.arange(16).reshape(4,4), columns=list('abcd'))\n",
        "df3"
      ],
      "execution_count": null,
      "outputs": []
    },
    {
      "cell_type": "code",
      "metadata": {
        "id": "Ydc2eVPCrFvZ"
      },
      "source": [
        "df3.add(s3) # broadcasting"
      ],
      "execution_count": null,
      "outputs": []
    },
    {
      "cell_type": "markdown",
      "metadata": {
        "id": "nkh_ezOCrFvb"
      },
      "source": [
        "인덱스가 동일하도록 axis를 맞춰줘야 한다."
      ]
    },
    {
      "cell_type": "code",
      "metadata": {
        "id": "AqpQyrLGrFvc"
      },
      "source": [
        "s4 = pd.Series(np.arange(10, 14)) # 인덱스는 0,1,2,3\n",
        "s4"
      ],
      "execution_count": null,
      "outputs": []
    },
    {
      "cell_type": "code",
      "metadata": {
        "id": "Ec3mmGmyrFve"
      },
      "source": [
        "df3.add(s4, axis=0)"
      ],
      "execution_count": null,
      "outputs": []
    },
    {
      "cell_type": "markdown",
      "metadata": {
        "id": "CqrnrzGirFvf"
      },
      "source": [
        "--------------------\n",
        "## [Pandas built-in function]"
      ]
    },
    {
      "cell_type": "code",
      "metadata": {
        "id": "36vY_89zrT_O"
      },
      "source": [
        "# 데이터 로드\n",
        "!kaggle datasets download -d ljanjughazyan/wages"
      ],
      "execution_count": null,
      "outputs": []
    },
    {
      "cell_type": "code",
      "metadata": {
        "id": "NI5DI0FirT_i"
      },
      "source": [
        "# zip파일 압축 해제 후 현재 디렉토리의 파일 리스트 보기\n",
        "!unzip wages.zip\n",
        "!ls"
      ],
      "execution_count": null,
      "outputs": []
    },
    {
      "cell_type": "code",
      "metadata": {
        "id": "JZeiuBMarFvg"
      },
      "source": [
        "data = pd.read_csv('wages.csv')\n",
        "data.head(3)"
      ],
      "execution_count": null,
      "outputs": []
    },
    {
      "cell_type": "markdown",
      "metadata": {
        "id": "Dy5ZGamcrFvh"
      },
      "source": [
        "### 1.describe\n",
        "- 데이터 요약 정보 보여줌"
      ]
    },
    {
      "cell_type": "code",
      "metadata": {
        "id": "696U5n41rFvi"
      },
      "source": [
        "data.describe"
      ],
      "execution_count": null,
      "outputs": []
    },
    {
      "cell_type": "markdown",
      "metadata": {
        "id": "bO0dbOkRrFvl"
      },
      "source": [
        "### 2.unique\n",
        "- Series의 유일한 값을 list로 반환"
      ]
    },
    {
      "cell_type": "code",
      "metadata": {
        "id": "QudYnkmfrFvm"
      },
      "source": [
        "data['race'].unique()"
      ],
      "execution_count": null,
      "outputs": []
    },
    {
      "cell_type": "code",
      "metadata": {
        "id": "uflhAdlBrFvn"
      },
      "source": [
        "np.array(dict(enumerate(data['race'].unique())))"
      ],
      "execution_count": null,
      "outputs": []
    },
    {
      "cell_type": "markdown",
      "metadata": {
        "id": "ap_4oBrlrFvr"
      },
      "source": [
        "### 3.replace\n",
        "- 값을 변경할 때 많이 사용하는 함수"
      ]
    },
    {
      "cell_type": "code",
      "metadata": {
        "id": "bITy6_czrFvs"
      },
      "source": [
        "# 컬럼 'sex' 값을 숫자로 변경\n",
        "data['sex'].replace({'male':0, 'female':1}, inplace=True)\n",
        "data.head()"
      ],
      "execution_count": null,
      "outputs": []
    },
    {
      "cell_type": "code",
      "metadata": {
        "id": "TyZxlinQrFvu"
      },
      "source": [
        "# 컬럼 'race'의 값들을 숫자로 변경\n",
        "# race의 고유값들을 dict로 만들고\n",
        "race_dict = dict(enumerate(data['race'].unique()))\n",
        "\n",
        "# key와 value의 위치를 교환한 후\n",
        "race_dict = {v:k for k, v in race_dict.items()}\n",
        "\n",
        "# replace에 적용\n",
        "data['race'].replace(race_dict, inplace=True)\n",
        "data.head()"
      ],
      "execution_count": null,
      "outputs": []
    },
    {
      "cell_type": "markdown",
      "metadata": {
        "id": "tN8RoIdurFvw"
      },
      "source": [
        "### 4.sum, sub, mean, min, max, count, median, etc\n",
        "- 기본적인 수학, 통계 연산 지원"
      ]
    },
    {
      "cell_type": "code",
      "metadata": {
        "id": "pqtsPTKarFvw"
      },
      "source": [
        "data.sum(axis=0) # 컬럼 별로 합산"
      ],
      "execution_count": null,
      "outputs": []
    },
    {
      "cell_type": "markdown",
      "metadata": {
        "id": "DUjQtwxtrFvy"
      },
      "source": [
        "### 5.isnull\n",
        "- 행/열의 NaN 값의 index를 반환"
      ]
    },
    {
      "cell_type": "code",
      "metadata": {
        "id": "p-3v-elBrFvy"
      },
      "source": [
        "data.isnull().sum()"
      ],
      "execution_count": null,
      "outputs": []
    },
    {
      "cell_type": "markdown",
      "metadata": {
        "id": "ZqOggezFrFv0"
      },
      "source": [
        "### 6.sort_values\n",
        "- column을 기준으로 데이터 정렬"
      ]
    },
    {
      "cell_type": "code",
      "metadata": {
        "id": "dDycYfzprFv1"
      },
      "source": [
        "data.sort_values(['age', 'earn'], ascending=True).head(3)"
      ],
      "execution_count": null,
      "outputs": []
    },
    {
      "cell_type": "markdown",
      "metadata": {
        "id": "k6ACw-tkrFv2"
      },
      "source": [
        "### 7.corr & corrwith & cov \n",
        "- 상관계수"
      ]
    },
    {
      "cell_type": "code",
      "metadata": {
        "id": "8eLYi_ltrFv3"
      },
      "source": [
        "data['age'].corr(data['earn']) # 한 변수와의 상관관계"
      ],
      "execution_count": null,
      "outputs": []
    },
    {
      "cell_type": "code",
      "metadata": {
        "id": "dnV488UKrFv5"
      },
      "source": [
        "data.corrwith(data['earn'])  # 모든 변수와의 상관관계"
      ],
      "execution_count": null,
      "outputs": []
    },
    {
      "cell_type": "code",
      "metadata": {
        "id": "N0B8__UBrFv7"
      },
      "source": [
        "data.corr()"
      ],
      "execution_count": null,
      "outputs": []
    },
    {
      "cell_type": "markdown",
      "metadata": {
        "id": "yWKFNSO1rFv9"
      },
      "source": [
        "- 공분산\n",
        "\n",
        "\n"
      ]
    },
    {
      "cell_type": "code",
      "metadata": {
        "id": "rvsyLHHHrFv9"
      },
      "source": [
        "data['age'].cov(data['earn'])"
      ],
      "execution_count": null,
      "outputs": []
    },
    {
      "cell_type": "markdown",
      "metadata": {
        "id": "YvukRYkgrFv_"
      },
      "source": [
        "### 8.map & apply\n",
        "- map\n",
        "    - 함수와 sequence형 데이터를 인자로 받아\n",
        "    - 각 요소마다 입력받은 함수를 적용하여 list로 반환\n",
        "    - 일반적으로 함수는 lambda형태로 표현함\n",
        "    - map(func, sequence)"
      ]
    },
    {
      "cell_type": "code",
      "metadata": {
        "id": "NhWDch3qrFv_"
      },
      "source": [
        "ex = pd.Series(np.arange(10))\n",
        "ex.map(lambda x: x**2).head()"
      ],
      "execution_count": null,
      "outputs": []
    },
    {
      "cell_type": "markdown",
      "metadata": {
        "id": "cv69iaS4rFwB"
      },
      "source": [
        "- apply\n",
        "    - Series 전체(column)를 대상으로 함수를 적용 "
      ]
    },
    {
      "cell_type": "code",
      "metadata": {
        "id": "iQdtEczYrFwB"
      },
      "source": [
        "df_info = data[['earn', 'height', 'age']]\n",
        "df_info.apply(lambda x: x.max()-x.min())"
      ],
      "execution_count": null,
      "outputs": []
    },
    {
      "cell_type": "markdown",
      "metadata": {
        "id": "F6Yh9B9rrFwD"
      },
      "source": [
        "### 9.groupby\n",
        "- 데이터를 그룹핑할 때 많이 사용\n",
        "- groupby의 결과물도 DataFrame"
      ]
    },
    {
      "cell_type": "code",
      "metadata": {
        "id": "8eMpe26UrFwD"
      },
      "source": [
        "data.groupby('race')['earn'].mean()"
      ],
      "execution_count": null,
      "outputs": []
    },
    {
      "cell_type": "markdown",
      "metadata": {
        "id": "jisNZKC6rFwF"
      },
      "source": [
        "- 결과 race 컬럼을 기준으로 earn의 평균이 구해졌다.\n",
        "- 'race' 대신 ['race', 'sex']와 같이 리스트를 이용해 두 개 이상의 컬럼도 묶을 수 있다."
      ]
    },
    {
      "cell_type": "code",
      "metadata": {
        "id": "yONKihmIrFwF"
      },
      "source": [
        "grouped = data.groupby(['race', 'sex'])['earn'].max()\n",
        "grouped.head()"
      ],
      "execution_count": null,
      "outputs": []
    },
    {
      "cell_type": "code",
      "metadata": {
        "id": "QuYB5yx0rFwJ"
      },
      "source": [
        "grouped.unstack() # 그룹핑 결과를 matrix형태로 변환"
      ],
      "execution_count": null,
      "outputs": []
    },
    {
      "cell_type": "markdown",
      "metadata": {
        "id": "81KgjD2brFwL"
      },
      "source": [
        "- aggregation으로 그루핑 객체에 함수를 적용할 수 있다. "
      ]
    },
    {
      "cell_type": "code",
      "metadata": {
        "id": "KEKY_MhMrFwL"
      },
      "source": [
        "race = data.groupby('race')\n",
        "race.agg(np.mean)"
      ],
      "execution_count": null,
      "outputs": []
    },
    {
      "cell_type": "code",
      "metadata": {
        "id": "54Vg09SOrFwN"
      },
      "source": [
        "race['age'].agg([np.mean, np.max, np.min, np.std])"
      ],
      "execution_count": null,
      "outputs": []
    },
    {
      "cell_type": "markdown",
      "metadata": {
        "id": "XzN9fe57rFwP"
      },
      "source": [
        "### 10.DataFrame 저장과 불러오기(pickle)\n",
        "- 가장 일반적인 저장법"
      ]
    },
    {
      "cell_type": "code",
      "metadata": {
        "id": "c4W0Q4uwrFwP"
      },
      "source": [
        "data.to_pickle('data.pickle')"
      ],
      "execution_count": null,
      "outputs": []
    },
    {
      "cell_type": "code",
      "metadata": {
        "id": "cetNBi8krFwQ"
      },
      "source": [
        "df_recall = pd.read_pickle('data.pickle')\n",
        "df_recall.head()"
      ],
      "execution_count": null,
      "outputs": []
    }
  ]
}
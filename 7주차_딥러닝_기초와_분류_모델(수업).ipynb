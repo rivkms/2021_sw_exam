{
  "nbformat": 4,
  "nbformat_minor": 0,
  "metadata": {
    "colab": {
      "name": "7주차_딥러닝 기초와 분류 모델(수업).ipynb",
      "provenance": [],
      "collapsed_sections": [],
      "include_colab_link": true
    },
    "kernelspec": {
      "name": "python3",
      "display_name": "Python 3"
    },
    "accelerator": "GPU"
  },
  "cells": [
    {
      "cell_type": "markdown",
      "metadata": {
        "id": "view-in-github",
        "colab_type": "text"
      },
      "source": [
        "<a href=\"https://colab.research.google.com/github/rivkms/2021_sw_exam/blob/main/7%EC%A3%BC%EC%B0%A8_%EB%94%A5%EB%9F%AC%EB%8B%9D_%EA%B8%B0%EC%B4%88%EC%99%80_%EB%B6%84%EB%A5%98_%EB%AA%A8%EB%8D%B8(%EC%88%98%EC%97%85).ipynb\" target=\"_parent\"><img src=\"https://colab.research.google.com/assets/colab-badge.svg\" alt=\"Open In Colab\"/></a>"
      ]
    },
    {
      "cell_type": "markdown",
      "metadata": {
        "id": "Wyg8IYB7OI4_"
      },
      "source": [
        "-----\n",
        "##0.인공신경망과 딥러닝"
      ]
    },
    {
      "cell_type": "markdown",
      "metadata": {
        "id": "ss-rdzhHYN1x"
      },
      "source": [
        "### 0-1.퍼셉트론의 등장\n",
        "\n",
        "> 퍼셉트론(Perceptron)\n",
        "- 프랑크 로젠블라트(Frank Rosenblatt)가 1957년에 제안한 초기 형태의 인공 신경망으로 다수의 입력으로부터 하나의 결과를 내보내는 알고리즘\n",
        "- 입력값을 바탕으로 신호의 출력 여부를 결정한다는 점에서 뉴런과 비슷 \n",
        "- 각 노드의 가중치와 입력치를 곱한 것을 모두 합한 값이 **활성화 함수**에 의해 판단됨\n",
        "- 초기의 퍼셉트론에서는 그 값이 임계치(보통 0)보다 크면 뉴런이 활성화되고 결과값으로 1을 출력 \n",
        "\n",
        "인공지능 알고리즘이 점차 발전하면서 해결하려는 문제 상황에 적합한 활성화 함수를 개발하려는 노력이 계속되고 있음 \n",
        " \n",
        "<img src=\"https://www.simplilearn.com/ice9/free_resources_article_thumb/general-diagram-of-perceptron-for-supervised-learning.jpg\" width=500px>\n",
        "\n",
        "\n"
      ]
    },
    {
      "cell_type": "markdown",
      "metadata": {
        "id": "Lxt_jjwkPJTA"
      },
      "source": [
        "### 0-2.활성화 함수\n",
        "\n",
        "- 각 퍼셉트론의 노드를 활성화시킬 지에 대하여 결정하는 활성화 함수에는 매우 다양한 종류가 있음. \n",
        "- 대표적으로 아래의 6가지 활성화 함수가 많이 사용됨.\n",
        "\n",
        "\n",
        "<img src=\"https://cdn-images-1.medium.com/max/1600/1*RD0lIYqB5L2LrI2VTIZqGw.png\" width=600px>\n"
      ]
    },
    {
      "cell_type": "markdown",
      "metadata": {
        "id": "lT_t4bcvOr1v"
      },
      "source": [
        "### 0-3.인공신경망(NN)에서 딥러닝 모델(DNN)로\n",
        "\n",
        "<img src=\"https://verneglobal.com/uploads/DeepLearning.jpg\" width=700px >\n",
        "\n",
        "#### 0-3-1.인공신경망의 구조 \n",
        "- 입력층, 은닉층, 출력층으로 구성되어있음.\n",
        "- 각 층은 여러 개의 노드로 구성되어있음.\n",
        "- 다층으로 구성하면 신경망이 처리할 수 있는 연산의 복잡도가 증가함.\n",
        "\n",
        "#### 0-3-2.딥러닝 모델\n",
        "- 심층 신경망(Deep Neural Network, DNN) : 보통 은닉층이 2개 이상인 신경망을 일컫음.\n",
        "- 은닉층의 개수가 많아질수록 인공신경망이 ‘깊어졌다(deep)’고 부르며, 이렇게 충분히 깊어진 인공신경망을 러닝 모델로 사용하는 머신러닝 패러다임을 바로 딥러닝(Deep Learning)이라고 함. \n",
        "- 각 층을 구성하는 노드의 개수가 많아질수록 연산의 공간적, 시간적 복잡도가 증가함.\n",
        "- 노드가 많을수록 복잡한 연산이 가능하지만, 비용이 많이 든다는 단점이 존재함. "
      ]
    },
    {
      "cell_type": "markdown",
      "metadata": {
        "id": "scYt7140PwT9"
      },
      "source": [
        "### 0-4.딥러닝 모델의 학습\n"
      ]
    },
    {
      "cell_type": "markdown",
      "metadata": {
        "id": "3lpwYYIVHWB8"
      },
      "source": [
        "\n",
        "#### 0-4-1.딥러닝 모델의 학습 과정\n",
        "1. 임의의 가중치 W 설정\n",
        "2. 순전파를 통해 Cost 계산\n",
        "3. 오차역전파를 통하여 Gradient 계산\n",
        "4. W 가중치 조정 $W(t+1) = W(t)-\\frac{∂Cost}{∂W} $\n",
        "5. 2~5의 과정 반복"
      ]
    },
    {
      "cell_type": "markdown",
      "metadata": {
        "id": "Gqlcrh5mP8Jl"
      },
      "source": [
        "#### 0-4-2.경사하강법(Gradient Descent)\n",
        "\n",
        "- 오차 함수의 기울기(경사)를 구하여 기울기가 낮은 쪽으로 계속 이동시켜서 극값에 이를 때까지 반복시키는 것\n",
        "\n",
        "<img src=\"https://taewanmerepo.github.io/2018/08/mse/060.jpg\" width=400px>"
      ]
    },
    {
      "cell_type": "markdown",
      "metadata": {
        "id": "q7pbdEFqP4dN"
      },
      "source": [
        "#### 0-4-3.오차역전파(Error Back Propagation)\n",
        "\n",
        "\n",
        "\n",
        "Local Gradient 계산하기\n",
        "\n",
        "<img src=\"https://miro.medium.com/max/771/1*DcLWqOojI1b9jzQaLibUkQ.png\" width=500px>\n",
        "\n",
        "Chain Rule 에 의해 계산되는 Gradient\n",
        "\n",
        "<img src=\"https://cdn-media-1.freecodecamp.org/images/1*_KMMFvRP5X9kC59brI0ykw.png\" width=500px>"
      ]
    },
    {
      "cell_type": "markdown",
      "metadata": {
        "id": "YLe5ZISpIB4i"
      },
      "source": [
        "#### 0-4-4.옵티마이저\n",
        "\n",
        "- 손실 함수의 값을 줄여나가면서 학습하는 방법에 대한 알고리즘\n",
        "- 경사하강법(GD)에서 확률적 경사하강법(SGD)이 파생되었으며, 딥러닝 모델을 최적화하기 위한 다양한 알고리즘이 개발 중에 있음\n",
        "- 안정적인 성능을 보여 현재 대표적으로 많이 사용되는 옵티마이저는 SGD, RMSProp, Adam이 있음\n",
        "\n",
        "<img src=\"https://img1.daumcdn.net/thumb/R720x0.q80/?scode=mtistory2&fname=http%3A%2F%2Fcfile27.uf.tistory.com%2Fimage%2F993D383359D86C280DD74F\" >\n",
        "\n",
        "<img src=\"https://img1.daumcdn.net/thumb/R720x0.q80/?scode=mtistory2&fname=http%3A%2F%2Fcfile28.uf.tistory.com%2Fimage%2F99EF38455AB85F5B227DAE\" width=500px>\n",
        "\n",
        "[옵티마이저 참고자료](https://hiddenbeginner.github.io/deeplearning/2019/09/22/optimization_algorithms_in_deep_learning.html)"
      ]
    },
    {
      "cell_type": "markdown",
      "metadata": {
        "id": "EK6fa7KtbdDt"
      },
      "source": [
        "--------------\n",
        "## 1.딥러닝 모델로 분류 문제 해결하기\n"
      ]
    },
    {
      "cell_type": "markdown",
      "metadata": {
        "id": "_80TyL0341SC"
      },
      "source": [
        "\n",
        "### 1-1.문제 정의(분류 문제)\n"
      ]
    },
    {
      "cell_type": "markdown",
      "metadata": {
        "id": "3WFqfREo42yG"
      },
      "source": [
        "\n",
        "### 1-2.데이터 수집(캐글 데이터셋 이용)"
      ]
    },
    {
      "cell_type": "code",
      "metadata": {
        "id": "CFOwYyT8ssH_"
      },
      "source": [
        "from google.colab import drive\n",
        "drive.mount('/content/drive')"
      ],
      "execution_count": null,
      "outputs": []
    },
    {
      "cell_type": "code",
      "metadata": {
        "id": "A6RQuNxXUeAG"
      },
      "source": [
        "%ls '/content/drive/My Drive/Colab Notebooks'"
      ],
      "execution_count": null,
      "outputs": []
    },
    {
      "cell_type": "code",
      "metadata": {
        "id": "Y50pokk8Yud9"
      },
      "source": [
        "import os\n",
        "os.environ['KAGGLE_CONFIG_DIR'] = '/content/drive/My Drive/Colab Notebooks/.kaggle'\n",
        "# '/content/drive/My Drive/Colab Notebooks' is the path where kaggle.json is present in the Google Drive"
      ],
      "execution_count": null,
      "outputs": []
    },
    {
      "cell_type": "code",
      "metadata": {
        "id": "3WW84RZJZEP2"
      },
      "source": [
        "#changing the working directory\n",
        "%cd /content/drive/My Drive/Colab Notebooks"
      ],
      "execution_count": null,
      "outputs": []
    },
    {
      "cell_type": "code",
      "metadata": {
        "id": "L2RHA4odZP2h"
      },
      "source": [
        "%pwd"
      ],
      "execution_count": null,
      "outputs": []
    },
    {
      "cell_type": "code",
      "metadata": {
        "id": "hCFcw0N0eup8"
      },
      "source": [
        "# Pima Indian Diabetes 데이터셋 다운로드\n",
        "!kaggle datasets download -d uciml/pima-indians-diabetes-database"
      ],
      "execution_count": null,
      "outputs": []
    },
    {
      "cell_type": "code",
      "metadata": {
        "id": "38H7JaIMfRUd"
      },
      "source": [
        "# zip파일 압축 해제 후 현재 디렉토리의 파일 리스트 보기\n",
        "!unzip pima-indians-diabetes-database.zip\n",
        "!ls"
      ],
      "execution_count": null,
      "outputs": []
    },
    {
      "cell_type": "markdown",
      "metadata": {
        "id": "vSbC9vr2jI_b"
      },
      "source": [
        "### 1-3.데이터 전처리"
      ]
    },
    {
      "cell_type": "code",
      "metadata": {
        "id": "j4aoKlP0fduQ",
        "colab": {
          "base_uri": "https://localhost:8080/",
          "height": 250
        },
        "outputId": "5e6cebfc-6707-4c76-c0e5-c00a49ba898e"
      },
      "source": [
        "import numpy as np\n",
        "import pandas as pd\n",
        "import matplotlib.pyplot as plt\n",
        "%matplotlib inline\n",
        "\n",
        "seed = 7\n",
        "np.random.seed(seed)\n",
        "\n",
        "from sklearn.model_selection import train_test_split\n",
        "from sklearn.preprocessing import StandardScaler\n",
        "\n",
        "# csv 파일을 pandas dataframe으로 읽기\n",
        "diabetes_data = pd.read_csv('/content/diabetes.csv')\n",
        "\n",
        "# Outcome(당뇨:1 당뇨아님:0)행의 value를 count\n",
        "print(diabetes_data['Outcome'].value_counts())\n",
        "\n",
        "# 상위 5개 행을 출력\n",
        "diabetes_data.head(5)"
      ],
      "execution_count": null,
      "outputs": [
        {
          "output_type": "stream",
          "text": [
            "0    500\n",
            "1    268\n",
            "Name: Outcome, dtype: int64\n"
          ],
          "name": "stdout"
        },
        {
          "output_type": "execute_result",
          "data": {
            "text/html": [
              "<div>\n",
              "<style scoped>\n",
              "    .dataframe tbody tr th:only-of-type {\n",
              "        vertical-align: middle;\n",
              "    }\n",
              "\n",
              "    .dataframe tbody tr th {\n",
              "        vertical-align: top;\n",
              "    }\n",
              "\n",
              "    .dataframe thead th {\n",
              "        text-align: right;\n",
              "    }\n",
              "</style>\n",
              "<table border=\"1\" class=\"dataframe\">\n",
              "  <thead>\n",
              "    <tr style=\"text-align: right;\">\n",
              "      <th></th>\n",
              "      <th>Pregnancies</th>\n",
              "      <th>Glucose</th>\n",
              "      <th>BloodPressure</th>\n",
              "      <th>SkinThickness</th>\n",
              "      <th>Insulin</th>\n",
              "      <th>BMI</th>\n",
              "      <th>DiabetesPedigreeFunction</th>\n",
              "      <th>Age</th>\n",
              "      <th>Outcome</th>\n",
              "    </tr>\n",
              "  </thead>\n",
              "  <tbody>\n",
              "    <tr>\n",
              "      <th>0</th>\n",
              "      <td>6</td>\n",
              "      <td>148</td>\n",
              "      <td>72</td>\n",
              "      <td>35</td>\n",
              "      <td>0</td>\n",
              "      <td>33.6</td>\n",
              "      <td>0.627</td>\n",
              "      <td>50</td>\n",
              "      <td>1</td>\n",
              "    </tr>\n",
              "    <tr>\n",
              "      <th>1</th>\n",
              "      <td>1</td>\n",
              "      <td>85</td>\n",
              "      <td>66</td>\n",
              "      <td>29</td>\n",
              "      <td>0</td>\n",
              "      <td>26.6</td>\n",
              "      <td>0.351</td>\n",
              "      <td>31</td>\n",
              "      <td>0</td>\n",
              "    </tr>\n",
              "    <tr>\n",
              "      <th>2</th>\n",
              "      <td>8</td>\n",
              "      <td>183</td>\n",
              "      <td>64</td>\n",
              "      <td>0</td>\n",
              "      <td>0</td>\n",
              "      <td>23.3</td>\n",
              "      <td>0.672</td>\n",
              "      <td>32</td>\n",
              "      <td>1</td>\n",
              "    </tr>\n",
              "    <tr>\n",
              "      <th>3</th>\n",
              "      <td>1</td>\n",
              "      <td>89</td>\n",
              "      <td>66</td>\n",
              "      <td>23</td>\n",
              "      <td>94</td>\n",
              "      <td>28.1</td>\n",
              "      <td>0.167</td>\n",
              "      <td>21</td>\n",
              "      <td>0</td>\n",
              "    </tr>\n",
              "    <tr>\n",
              "      <th>4</th>\n",
              "      <td>0</td>\n",
              "      <td>137</td>\n",
              "      <td>40</td>\n",
              "      <td>35</td>\n",
              "      <td>168</td>\n",
              "      <td>43.1</td>\n",
              "      <td>2.288</td>\n",
              "      <td>33</td>\n",
              "      <td>1</td>\n",
              "    </tr>\n",
              "  </tbody>\n",
              "</table>\n",
              "</div>"
            ],
            "text/plain": [
              "   Pregnancies  Glucose  BloodPressure  ...  DiabetesPedigreeFunction  Age  Outcome\n",
              "0            6      148             72  ...                     0.627   50        1\n",
              "1            1       85             66  ...                     0.351   31        0\n",
              "2            8      183             64  ...                     0.672   32        1\n",
              "3            1       89             66  ...                     0.167   21        0\n",
              "4            0      137             40  ...                     2.288   33        1\n",
              "\n",
              "[5 rows x 9 columns]"
            ]
          },
          "metadata": {
            "tags": []
          },
          "execution_count": 1
        }
      ]
    },
    {
      "cell_type": "code",
      "metadata": {
        "id": "In-IFaMLCjE4",
        "colab": {
          "base_uri": "https://localhost:8080/"
        },
        "outputId": "38a66ad0-2d0f-454f-da53-8ab58c576c85"
      },
      "source": [
        "# 0값을 검사할 피처명 리스트 객체 설정\n",
        "zero_features = ['Glucose', 'BloodPressure','SkinThickness','Insulin','BMI']\n",
        "\n",
        "# 전체 데이터 건수\n",
        "total_count = diabetes_data['Glucose'].count()\n",
        "\n",
        "# 피처별로 반복 하면서 데이터 값이 0 인 데이터 건수 추출하고, 퍼센트 계산\n",
        "for feature in zero_features:\n",
        "    zero_count = diabetes_data[diabetes_data[feature]==0][feature].count()\n",
        "    print('{0} 0 건수는 {1}, 퍼센트는 {2:.2f} %'.format(feature, zero_count, 100*zero_count/total_count))"
      ],
      "execution_count": null,
      "outputs": [
        {
          "output_type": "stream",
          "text": [
            "Glucose 0 건수는 5, 퍼센트는 0.65 %\n",
            "BloodPressure 0 건수는 35, 퍼센트는 4.56 %\n",
            "SkinThickness 0 건수는 227, 퍼센트는 29.56 %\n",
            "Insulin 0 건수는 374, 퍼센트는 48.70 %\n",
            "BMI 0 건수는 11, 퍼센트는 1.43 %\n"
          ],
          "name": "stdout"
        }
      ]
    },
    {
      "cell_type": "code",
      "metadata": {
        "id": "pOJPOzWVClVN"
      },
      "source": [
        "# zero_features 리스트 내부에 저장된 개별 피처들에 대해서 0값을 평균 값으로 대체\n",
        "diabetes_data[zero_features]=diabetes_data[zero_features].replace(0, diabetes_data[zero_features].mean())"
      ],
      "execution_count": null,
      "outputs": []
    },
    {
      "cell_type": "code",
      "metadata": {
        "id": "sX0BMdtUCnuM"
      },
      "source": [
        "x = diabetes_data.iloc[:, :-1]\n",
        "y = diabetes_data.iloc[:, -1]\n",
        "\n",
        "# StandardScaler 클래스를 이용해 피처 데이터 세트에 일괄적으로 스케일링 적용\n",
        "scaler = StandardScaler()\n",
        "x_scaled = scaler.fit_transform(x)\n",
        "\n",
        "x_train, x_test, y_train, y_test = train_test_split(x_scaled, y, test_size = 0.2, random_state = 156, stratify=y)"
      ],
      "execution_count": null,
      "outputs": []
    },
    {
      "cell_type": "markdown",
      "metadata": {
        "id": "vj9vlvs6jNjE"
      },
      "source": [
        "### 1-4.모델 학습"
      ]
    },
    {
      "cell_type": "markdown",
      "metadata": {
        "id": "CdTbmSGRFlSX"
      },
      "source": [
        "[Sequential 관련 공식문서](https://www.tensorflow.org/api_docs/python/tf/keras/Sequential)\n",
        "\n",
        "[Dense 관련 공식문서](https://www.tensorflow.org/api_docs/python/tf/keras/layers/Dense)"
      ]
    },
    {
      "cell_type": "code",
      "metadata": {
        "id": "BKoReYamCkXr"
      },
      "source": [
        "from tensorflow.keras.models import Sequential\n",
        "from tensorflow.keras.layers import Dense"
      ],
      "execution_count": null,
      "outputs": []
    },
    {
      "cell_type": "code",
      "metadata": {
        "id": "_5P-rjg5Ckdq"
      },
      "source": [
        "NB_EPOCHS = 100  # num of epochs\n",
        "BATCH_SIZE = 16\n",
        "\n",
        "## 모델 정의\n",
        "model = Sequential()\n",
        "\n",
        "model.add(Dense(12, input_dim=8, kernel_initializer='random_uniform', activation='relu'))\n",
        "model.add(Dense(8, kernel_initializer='random_uniform', activation='relu'))\n",
        "model.add(Dense(1, kernel_initializer='random_uniform', activation='sigmoid' ))\n",
        "\n",
        "# 모델 컴파일\n",
        "model.compile(loss='binary_crossentropy', \n",
        "             optimizer='adam',\n",
        "             metrics=['accuracy'])"
      ],
      "execution_count": null,
      "outputs": []
    },
    {
      "cell_type": "code",
      "metadata": {
        "id": "2CSggSzWDpow",
        "colab": {
          "base_uri": "https://localhost:8080/"
        },
        "outputId": "4ff1b750-d990-4738-c661-15c3bd4eb394"
      },
      "source": [
        "# 모델 학습\n",
        "history = model.fit(x_train, y_train,\n",
        "                    validation_data=(x_test, y_test),\n",
        "                    epochs=NB_EPOCHS,\n",
        "                    batch_size=BATCH_SIZE,\n",
        "                    verbose=2) # 0 = silent, 1 = progress bar, 2 = one line per epoch."
      ],
      "execution_count": null,
      "outputs": [
        {
          "output_type": "stream",
          "text": [
            "Epoch 1/100\n",
            "39/39 - 4s - loss: 0.6902 - accuracy: 0.6482 - val_loss: 0.6858 - val_accuracy: 0.6494\n",
            "Epoch 2/100\n",
            "39/39 - 0s - loss: 0.6781 - accuracy: 0.6515 - val_loss: 0.6656 - val_accuracy: 0.6494\n",
            "Epoch 3/100\n",
            "39/39 - 0s - loss: 0.6443 - accuracy: 0.6661 - val_loss: 0.6160 - val_accuracy: 0.7532\n",
            "Epoch 4/100\n",
            "39/39 - 0s - loss: 0.5826 - accuracy: 0.7590 - val_loss: 0.5504 - val_accuracy: 0.7857\n",
            "Epoch 5/100\n",
            "39/39 - 0s - loss: 0.5234 - accuracy: 0.7655 - val_loss: 0.5056 - val_accuracy: 0.7662\n",
            "Epoch 6/100\n",
            "39/39 - 0s - loss: 0.4929 - accuracy: 0.7671 - val_loss: 0.4855 - val_accuracy: 0.7727\n",
            "Epoch 7/100\n",
            "39/39 - 0s - loss: 0.4788 - accuracy: 0.7655 - val_loss: 0.4781 - val_accuracy: 0.7727\n",
            "Epoch 8/100\n",
            "39/39 - 0s - loss: 0.4715 - accuracy: 0.7704 - val_loss: 0.4728 - val_accuracy: 0.7727\n",
            "Epoch 9/100\n",
            "39/39 - 0s - loss: 0.4669 - accuracy: 0.7655 - val_loss: 0.4726 - val_accuracy: 0.7597\n",
            "Epoch 10/100\n",
            "39/39 - 0s - loss: 0.4639 - accuracy: 0.7736 - val_loss: 0.4703 - val_accuracy: 0.7532\n",
            "Epoch 11/100\n",
            "39/39 - 0s - loss: 0.4604 - accuracy: 0.7704 - val_loss: 0.4699 - val_accuracy: 0.7532\n",
            "Epoch 12/100\n",
            "39/39 - 0s - loss: 0.4587 - accuracy: 0.7736 - val_loss: 0.4702 - val_accuracy: 0.7532\n",
            "Epoch 13/100\n",
            "39/39 - 0s - loss: 0.4570 - accuracy: 0.7687 - val_loss: 0.4700 - val_accuracy: 0.7532\n",
            "Epoch 14/100\n",
            "39/39 - 0s - loss: 0.4561 - accuracy: 0.7769 - val_loss: 0.4695 - val_accuracy: 0.7532\n",
            "Epoch 15/100\n",
            "39/39 - 0s - loss: 0.4535 - accuracy: 0.7752 - val_loss: 0.4690 - val_accuracy: 0.7468\n",
            "Epoch 16/100\n",
            "39/39 - 0s - loss: 0.4527 - accuracy: 0.7752 - val_loss: 0.4673 - val_accuracy: 0.7532\n",
            "Epoch 17/100\n",
            "39/39 - 0s - loss: 0.4520 - accuracy: 0.7720 - val_loss: 0.4663 - val_accuracy: 0.7597\n",
            "Epoch 18/100\n",
            "39/39 - 0s - loss: 0.4507 - accuracy: 0.7769 - val_loss: 0.4658 - val_accuracy: 0.7727\n",
            "Epoch 19/100\n",
            "39/39 - 0s - loss: 0.4503 - accuracy: 0.7785 - val_loss: 0.4653 - val_accuracy: 0.7727\n",
            "Epoch 20/100\n",
            "39/39 - 0s - loss: 0.4497 - accuracy: 0.7785 - val_loss: 0.4650 - val_accuracy: 0.7532\n",
            "Epoch 21/100\n",
            "39/39 - 0s - loss: 0.4491 - accuracy: 0.7704 - val_loss: 0.4646 - val_accuracy: 0.7468\n",
            "Epoch 22/100\n",
            "39/39 - 0s - loss: 0.4483 - accuracy: 0.7720 - val_loss: 0.4639 - val_accuracy: 0.7597\n",
            "Epoch 23/100\n",
            "39/39 - 0s - loss: 0.4475 - accuracy: 0.7736 - val_loss: 0.4630 - val_accuracy: 0.7792\n",
            "Epoch 24/100\n",
            "39/39 - 0s - loss: 0.4461 - accuracy: 0.7769 - val_loss: 0.4633 - val_accuracy: 0.7597\n",
            "Epoch 25/100\n",
            "39/39 - 0s - loss: 0.4461 - accuracy: 0.7752 - val_loss: 0.4642 - val_accuracy: 0.7727\n",
            "Epoch 26/100\n",
            "39/39 - 0s - loss: 0.4450 - accuracy: 0.7785 - val_loss: 0.4631 - val_accuracy: 0.7727\n",
            "Epoch 27/100\n",
            "39/39 - 0s - loss: 0.4441 - accuracy: 0.7801 - val_loss: 0.4644 - val_accuracy: 0.7597\n",
            "Epoch 28/100\n",
            "39/39 - 0s - loss: 0.4434 - accuracy: 0.7834 - val_loss: 0.4635 - val_accuracy: 0.7662\n",
            "Epoch 29/100\n",
            "39/39 - 0s - loss: 0.4431 - accuracy: 0.7818 - val_loss: 0.4642 - val_accuracy: 0.7597\n",
            "Epoch 30/100\n",
            "39/39 - 0s - loss: 0.4420 - accuracy: 0.7801 - val_loss: 0.4632 - val_accuracy: 0.7597\n",
            "Epoch 31/100\n",
            "39/39 - 0s - loss: 0.4418 - accuracy: 0.7801 - val_loss: 0.4632 - val_accuracy: 0.7597\n",
            "Epoch 32/100\n",
            "39/39 - 0s - loss: 0.4406 - accuracy: 0.7818 - val_loss: 0.4642 - val_accuracy: 0.7597\n",
            "Epoch 33/100\n",
            "39/39 - 0s - loss: 0.4416 - accuracy: 0.7801 - val_loss: 0.4645 - val_accuracy: 0.7532\n",
            "Epoch 34/100\n",
            "39/39 - 0s - loss: 0.4394 - accuracy: 0.7785 - val_loss: 0.4628 - val_accuracy: 0.7662\n",
            "Epoch 35/100\n",
            "39/39 - 0s - loss: 0.4403 - accuracy: 0.7785 - val_loss: 0.4642 - val_accuracy: 0.7597\n",
            "Epoch 36/100\n",
            "39/39 - 0s - loss: 0.4385 - accuracy: 0.7785 - val_loss: 0.4630 - val_accuracy: 0.7662\n",
            "Epoch 37/100\n",
            "39/39 - 0s - loss: 0.4377 - accuracy: 0.7834 - val_loss: 0.4631 - val_accuracy: 0.7597\n",
            "Epoch 38/100\n",
            "39/39 - 0s - loss: 0.4372 - accuracy: 0.7850 - val_loss: 0.4648 - val_accuracy: 0.7727\n",
            "Epoch 39/100\n",
            "39/39 - 0s - loss: 0.4369 - accuracy: 0.7801 - val_loss: 0.4660 - val_accuracy: 0.7597\n",
            "Epoch 40/100\n",
            "39/39 - 0s - loss: 0.4366 - accuracy: 0.7801 - val_loss: 0.4654 - val_accuracy: 0.7597\n",
            "Epoch 41/100\n",
            "39/39 - 0s - loss: 0.4361 - accuracy: 0.7801 - val_loss: 0.4664 - val_accuracy: 0.7662\n",
            "Epoch 42/100\n",
            "39/39 - 0s - loss: 0.4344 - accuracy: 0.7866 - val_loss: 0.4660 - val_accuracy: 0.7532\n",
            "Epoch 43/100\n",
            "39/39 - 0s - loss: 0.4342 - accuracy: 0.7834 - val_loss: 0.4670 - val_accuracy: 0.7597\n",
            "Epoch 44/100\n",
            "39/39 - 0s - loss: 0.4334 - accuracy: 0.7834 - val_loss: 0.4663 - val_accuracy: 0.7597\n",
            "Epoch 45/100\n",
            "39/39 - 0s - loss: 0.4331 - accuracy: 0.7883 - val_loss: 0.4668 - val_accuracy: 0.7662\n",
            "Epoch 46/100\n",
            "39/39 - 0s - loss: 0.4324 - accuracy: 0.7834 - val_loss: 0.4675 - val_accuracy: 0.7597\n",
            "Epoch 47/100\n",
            "39/39 - 0s - loss: 0.4317 - accuracy: 0.7883 - val_loss: 0.4678 - val_accuracy: 0.7662\n",
            "Epoch 48/100\n",
            "39/39 - 0s - loss: 0.4310 - accuracy: 0.7866 - val_loss: 0.4676 - val_accuracy: 0.7662\n",
            "Epoch 49/100\n",
            "39/39 - 0s - loss: 0.4301 - accuracy: 0.7850 - val_loss: 0.4674 - val_accuracy: 0.7792\n",
            "Epoch 50/100\n",
            "39/39 - 0s - loss: 0.4296 - accuracy: 0.7883 - val_loss: 0.4681 - val_accuracy: 0.7792\n",
            "Epoch 51/100\n",
            "39/39 - 0s - loss: 0.4293 - accuracy: 0.7850 - val_loss: 0.4682 - val_accuracy: 0.7857\n",
            "Epoch 52/100\n",
            "39/39 - 0s - loss: 0.4286 - accuracy: 0.7883 - val_loss: 0.4680 - val_accuracy: 0.7792\n",
            "Epoch 53/100\n",
            "39/39 - 0s - loss: 0.4284 - accuracy: 0.7883 - val_loss: 0.4681 - val_accuracy: 0.7727\n",
            "Epoch 54/100\n",
            "39/39 - 0s - loss: 0.4275 - accuracy: 0.7899 - val_loss: 0.4680 - val_accuracy: 0.7792\n",
            "Epoch 55/100\n",
            "39/39 - 0s - loss: 0.4274 - accuracy: 0.7866 - val_loss: 0.4689 - val_accuracy: 0.7727\n",
            "Epoch 56/100\n",
            "39/39 - 0s - loss: 0.4260 - accuracy: 0.7915 - val_loss: 0.4682 - val_accuracy: 0.7727\n",
            "Epoch 57/100\n",
            "39/39 - 0s - loss: 0.4269 - accuracy: 0.7899 - val_loss: 0.4689 - val_accuracy: 0.7792\n",
            "Epoch 58/100\n",
            "39/39 - 0s - loss: 0.4259 - accuracy: 0.7915 - val_loss: 0.4693 - val_accuracy: 0.7792\n",
            "Epoch 59/100\n",
            "39/39 - 0s - loss: 0.4254 - accuracy: 0.7883 - val_loss: 0.4692 - val_accuracy: 0.7727\n",
            "Epoch 60/100\n",
            "39/39 - 0s - loss: 0.4251 - accuracy: 0.7866 - val_loss: 0.4703 - val_accuracy: 0.7727\n",
            "Epoch 61/100\n",
            "39/39 - 0s - loss: 0.4242 - accuracy: 0.7883 - val_loss: 0.4700 - val_accuracy: 0.7727\n",
            "Epoch 62/100\n",
            "39/39 - 0s - loss: 0.4240 - accuracy: 0.7899 - val_loss: 0.4706 - val_accuracy: 0.7727\n",
            "Epoch 63/100\n",
            "39/39 - 0s - loss: 0.4240 - accuracy: 0.7818 - val_loss: 0.4705 - val_accuracy: 0.7727\n",
            "Epoch 64/100\n",
            "39/39 - 0s - loss: 0.4230 - accuracy: 0.7866 - val_loss: 0.4708 - val_accuracy: 0.7662\n",
            "Epoch 65/100\n",
            "39/39 - 0s - loss: 0.4231 - accuracy: 0.7834 - val_loss: 0.4723 - val_accuracy: 0.7597\n",
            "Epoch 66/100\n",
            "39/39 - 0s - loss: 0.4224 - accuracy: 0.7850 - val_loss: 0.4719 - val_accuracy: 0.7727\n",
            "Epoch 67/100\n",
            "39/39 - 0s - loss: 0.4221 - accuracy: 0.7834 - val_loss: 0.4730 - val_accuracy: 0.7597\n",
            "Epoch 68/100\n",
            "39/39 - 0s - loss: 0.4209 - accuracy: 0.7883 - val_loss: 0.4725 - val_accuracy: 0.7727\n",
            "Epoch 69/100\n",
            "39/39 - 0s - loss: 0.4218 - accuracy: 0.7850 - val_loss: 0.4743 - val_accuracy: 0.7597\n",
            "Epoch 70/100\n",
            "39/39 - 0s - loss: 0.4202 - accuracy: 0.7866 - val_loss: 0.4711 - val_accuracy: 0.7727\n",
            "Epoch 71/100\n",
            "39/39 - 0s - loss: 0.4191 - accuracy: 0.7866 - val_loss: 0.4741 - val_accuracy: 0.7662\n",
            "Epoch 72/100\n",
            "39/39 - 0s - loss: 0.4193 - accuracy: 0.7850 - val_loss: 0.4757 - val_accuracy: 0.7532\n",
            "Epoch 73/100\n",
            "39/39 - 0s - loss: 0.4185 - accuracy: 0.7818 - val_loss: 0.4755 - val_accuracy: 0.7468\n",
            "Epoch 74/100\n",
            "39/39 - 0s - loss: 0.4179 - accuracy: 0.7818 - val_loss: 0.4769 - val_accuracy: 0.7532\n",
            "Epoch 75/100\n",
            "39/39 - 0s - loss: 0.4178 - accuracy: 0.7899 - val_loss: 0.4793 - val_accuracy: 0.7532\n",
            "Epoch 76/100\n",
            "39/39 - 0s - loss: 0.4174 - accuracy: 0.7883 - val_loss: 0.4792 - val_accuracy: 0.7468\n",
            "Epoch 77/100\n",
            "39/39 - 0s - loss: 0.4175 - accuracy: 0.7866 - val_loss: 0.4797 - val_accuracy: 0.7532\n",
            "Epoch 78/100\n",
            "39/39 - 0s - loss: 0.4161 - accuracy: 0.7883 - val_loss: 0.4818 - val_accuracy: 0.7403\n",
            "Epoch 79/100\n",
            "39/39 - 0s - loss: 0.4153 - accuracy: 0.7883 - val_loss: 0.4796 - val_accuracy: 0.7532\n",
            "Epoch 80/100\n",
            "39/39 - 0s - loss: 0.4156 - accuracy: 0.7899 - val_loss: 0.4815 - val_accuracy: 0.7403\n",
            "Epoch 81/100\n",
            "39/39 - 0s - loss: 0.4141 - accuracy: 0.7899 - val_loss: 0.4820 - val_accuracy: 0.7532\n",
            "Epoch 82/100\n",
            "39/39 - 0s - loss: 0.4140 - accuracy: 0.7915 - val_loss: 0.4825 - val_accuracy: 0.7532\n",
            "Epoch 83/100\n",
            "39/39 - 0s - loss: 0.4133 - accuracy: 0.7915 - val_loss: 0.4835 - val_accuracy: 0.7403\n",
            "Epoch 84/100\n",
            "39/39 - 0s - loss: 0.4129 - accuracy: 0.7818 - val_loss: 0.4858 - val_accuracy: 0.7403\n",
            "Epoch 85/100\n",
            "39/39 - 0s - loss: 0.4132 - accuracy: 0.7932 - val_loss: 0.4833 - val_accuracy: 0.7532\n",
            "Epoch 86/100\n",
            "39/39 - 0s - loss: 0.4119 - accuracy: 0.7899 - val_loss: 0.4849 - val_accuracy: 0.7338\n",
            "Epoch 87/100\n",
            "39/39 - 0s - loss: 0.4114 - accuracy: 0.7850 - val_loss: 0.4830 - val_accuracy: 0.7468\n",
            "Epoch 88/100\n",
            "39/39 - 0s - loss: 0.4110 - accuracy: 0.7932 - val_loss: 0.4847 - val_accuracy: 0.7597\n",
            "Epoch 89/100\n",
            "39/39 - 0s - loss: 0.4098 - accuracy: 0.7866 - val_loss: 0.4882 - val_accuracy: 0.7403\n",
            "Epoch 90/100\n",
            "39/39 - 0s - loss: 0.4098 - accuracy: 0.7818 - val_loss: 0.4864 - val_accuracy: 0.7468\n",
            "Epoch 91/100\n",
            "39/39 - 0s - loss: 0.4095 - accuracy: 0.7932 - val_loss: 0.4864 - val_accuracy: 0.7468\n",
            "Epoch 92/100\n",
            "39/39 - 0s - loss: 0.4098 - accuracy: 0.7915 - val_loss: 0.4889 - val_accuracy: 0.7403\n",
            "Epoch 93/100\n",
            "39/39 - 0s - loss: 0.4100 - accuracy: 0.7883 - val_loss: 0.4880 - val_accuracy: 0.7468\n",
            "Epoch 94/100\n",
            "39/39 - 0s - loss: 0.4076 - accuracy: 0.7866 - val_loss: 0.4873 - val_accuracy: 0.7727\n",
            "Epoch 95/100\n",
            "39/39 - 0s - loss: 0.4078 - accuracy: 0.7915 - val_loss: 0.4866 - val_accuracy: 0.7532\n",
            "Epoch 96/100\n",
            "39/39 - 0s - loss: 0.4071 - accuracy: 0.7915 - val_loss: 0.4895 - val_accuracy: 0.7403\n",
            "Epoch 97/100\n",
            "39/39 - 0s - loss: 0.4069 - accuracy: 0.7932 - val_loss: 0.4889 - val_accuracy: 0.7468\n",
            "Epoch 98/100\n",
            "39/39 - 0s - loss: 0.4060 - accuracy: 0.7850 - val_loss: 0.4865 - val_accuracy: 0.7662\n",
            "Epoch 99/100\n",
            "39/39 - 0s - loss: 0.4061 - accuracy: 0.7915 - val_loss: 0.4875 - val_accuracy: 0.7532\n",
            "Epoch 100/100\n",
            "39/39 - 0s - loss: 0.4053 - accuracy: 0.7883 - val_loss: 0.4886 - val_accuracy: 0.7662\n"
          ],
          "name": "stdout"
        }
      ]
    },
    {
      "cell_type": "markdown",
      "metadata": {
        "id": "7w7_sC4tjR_5"
      },
      "source": [
        "### 1-5.모델 예측 및 평가"
      ]
    },
    {
      "cell_type": "code",
      "metadata": {
        "id": "wqqSs6zMKo5D"
      },
      "source": [
        "# 학습 결과 그래프 출력\n",
        "def modelplot(history, data, val_data):\n",
        "  plt.plot(history.history[data])\n",
        "  plt.plot(history.history[val_data])\n",
        "  plt.title('Model'+ data)\n",
        "  plt.ylabel(data)\n",
        "  plt.xlabel('epoch')\n",
        "  plt.legend(['train', 'test'])\n",
        "  plt.show()"
      ],
      "execution_count": null,
      "outputs": []
    },
    {
      "cell_type": "code",
      "metadata": {
        "id": "OA_O2rEAMcug",
        "colab": {
          "base_uri": "https://localhost:8080/",
          "height": 295
        },
        "outputId": "060cfb52-dcaf-4be7-ea99-a2d3fafa4bb4"
      },
      "source": [
        "modelplot(history, 'loss', 'val_loss')"
      ],
      "execution_count": null,
      "outputs": [
        {
          "output_type": "display_data",
          "data": {
            "image/png": "[encoded data removed]",
            "text/plain": [
              "<Figure size 432x288 with 1 Axes>"
            ]
          },
          "metadata": {
            "tags": [],
            "needs_background": "light"
          }
        }
      ]
    },
    {
      "cell_type": "code",
      "metadata": {
        "id": "05s2wglHMnnt",
        "colab": {
          "base_uri": "https://localhost:8080/",
          "height": 295
        },
        "outputId": "ad446ad0-d514-44cd-ac87-86cba04971a0"
      },
      "source": [
        "modelplot(history, 'accuracy', 'val_accuracy')"
      ],
      "execution_count": null,
      "outputs": [
        {
          "output_type": "display_data",
          "data": {
            "image/png": "[encoded data removed]",
            "text/plain": [
              "<Figure size 432x288 with 1 Axes>"
            ]
          },
          "metadata": {
            "tags": [],
            "needs_background": "light"
          }
        }
      ]
    },
    {
      "cell_type": "code",
      "metadata": {
        "id": "5_s-6bTVPsq1"
      },
      "source": [
        ""
      ],
      "execution_count": null,
      "outputs": []
    }
  ]
}
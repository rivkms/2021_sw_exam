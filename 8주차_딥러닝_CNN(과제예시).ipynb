{
  "nbformat": 4,
  "nbformat_minor": 0,
  "metadata": {
    "colab": {
      "name": "8주차_딥러닝_CNN(과제예시).ipynb",
      "provenance": [],
      "collapsed_sections": [],
      "include_colab_link": true
    },
    "kernelspec": {
      "name": "python3",
      "display_name": "Python 3"
    }
  },
  "cells": [
    {
      "cell_type": "markdown",
      "metadata": {
        "id": "view-in-github",
        "colab_type": "text"
      },
      "source": [
        "<a href=\"https://colab.research.google.com/github/rivkms/2021_sw_exam/blob/main/8%EC%A3%BC%EC%B0%A8_%EB%94%A5%EB%9F%AC%EB%8B%9D_CNN(%EA%B3%BC%EC%A0%9C%EC%98%88%EC%8B%9C).ipynb\" target=\"_parent\"><img src=\"https://colab.research.google.com/assets/colab-badge.svg\" alt=\"Open In Colab\"/></a>"
      ]
    },
    {
      "cell_type": "markdown",
      "metadata": {
        "id": "gGk-DLz7Qs4H"
      },
      "source": [
        "## 0. 문제 해결 과정\n",
        "#### 문제 정의 -> 데이터 수집 -> 데이터 전처리 -> 모델 학습 -> 모델 예측 및 평가\n",
        "\n",
        "## 1. 문제 정의\n",
        "### 1-1. 이미지 인식\n",
        "\n",
        "컴퓨터는 이미지 데이터를 픽셀(pixel)들의 모음으로 이해한다. 픽셀은 이미지를 구성하는 최소 단위로 0 ~ 255의 값으로 표현된다. 아래 흑백 이미지는 너비 12개, 높이 16개, 총 12 X 16 (192)개의 픽셀로 이루어져있다. 각 픽셀은 0(검정색) ~ 255(흰색)의 값으로 표현되어있는 것을 볼 수 있다. 즉, 컴퓨터는 이미지를 숫자로 받아들이며, 이 숫자를 이용하여 연산을 수행할 수 있다.\n",
        "<img src=\"https://ai.stanford.edu/~syyeung/cvweb/Pictures1/imagematrix.png\" width=600 align=center>\n",
        "\n",
        "컬러 이미지 데이터는 다양한 색을 표현하기 위해 3개의 채널(RGB)을 가진다. 흑백 이미지 데이터는 흑백 표현을 위한 1개의 채널을, 컬러 이미지 데이터는 빨강, 초록, 파랑 표현을 위한 3개의 채널을 지닌다.\n",
        "\n",
        "<img src=\"https://habrastorage.org/webt/56/h5/g6/56h5g6loe_bu4_oiuu0-vy_unoc.png\" width=350px>\n",
        "\n",
        "<img src=\"https://habrastorage.org/webt/nn/2r/q6/nn2rq6itb9gz5suamhcl5kvjwtu.png\" width=350px>\n",
        "\n",
        "\n",
        "\n",
        "### 1-2. MNIST 손글씨 인식하기\n",
        "- 0 ~ 9 손글씨 숫자 데이터 총 70000개의 28 * 28 크기 데이터\n",
        "- 학습 데이터 60000개, 테스트 데이터 10000개로 구성\n",
        "\n",
        "\n",
        "<img src=\"https://learnmachinelearning.files.wordpress.com/2017/08/mnist.png?w=638\" height=\"150px\">"
      ]
    },
    {
      "cell_type": "markdown",
      "metadata": {
        "id": "Ht1MT8xWQ94u"
      },
      "source": [
        "## 2. 데이터 수집\n",
        "### 2-1. 데이터 로드하기"
      ]
    },
    {
      "cell_type": "code",
      "metadata": {
        "id": "vm6PDFzBPJOk"
      },
      "source": [
        "# 필요한 라이브러리 호출\n",
        "import numpy as np\n",
        "import keras\n",
        "import matplotlib.pyplot as plt\n",
        "%matplotlib inline"
      ],
      "execution_count": null,
      "outputs": []
    },
    {
      "cell_type": "code",
      "metadata": {
        "id": "RdRagsnsPvc7",
        "colab": {
          "base_uri": "https://localhost:8080/"
        },
        "outputId": "4ca05e45-2b3b-42a4-b241-af9f20acd3ca"
      },
      "source": [
        "# MNIST 데이터셋 로드\n",
        "from keras.datasets import mnist\n",
        "# X_train: 학습 데이터   y_train: 학습 레이블(정답)\n",
        "# X_test: 테스트 데이터  y_test: 테스트 레이블(정답)\n",
        "(X_train, y_train), (X_test, y_test) = mnist.load_data()"
      ],
      "execution_count": null,
      "outputs": [
        {
          "output_type": "stream",
          "text": [
            "Downloading data from https://storage.googleapis.com/tensorflow/tf-keras-datasets/mnist.npz\n",
            "11493376/11490434 [==============================] - 0s 0us/step\n"
          ],
          "name": "stdout"
        }
      ]
    },
    {
      "cell_type": "code",
      "metadata": {
        "id": "DI4qOM-Vq6Dc",
        "colab": {
          "base_uri": "https://localhost:8080/"
        },
        "outputId": "02221c61-3a40-4080-8ec1-535c954d4d44"
      },
      "source": [
        "# 훈련 데이터 형태 확인\n",
        "X_train.shape, y_train.shape"
      ],
      "execution_count": null,
      "outputs": [
        {
          "output_type": "execute_result",
          "data": {
            "text/plain": [
              "((60000, 28, 28), (60000,))"
            ]
          },
          "metadata": {
            "tags": []
          },
          "execution_count": 3
        }
      ]
    },
    {
      "cell_type": "code",
      "metadata": {
        "id": "ixrNCVE3QEy5",
        "colab": {
          "base_uri": "https://localhost:8080/",
          "height": 282
        },
        "outputId": "6c49b07b-f2ad-4884-d7f8-0bcbbae3bd99"
      },
      "source": [
        "# 학습 데이터 이미지로 출력해보기\n",
        "plt.imshow(X_train[3], cmap='gray')"
      ],
      "execution_count": null,
      "outputs": [
        {
          "output_type": "execute_result",
          "data": {
            "text/plain": [
              "<matplotlib.image.AxesImage at 0x7fdf7932bf90>"
            ]
          },
          "metadata": {
            "tags": []
          },
          "execution_count": 4
        },
        {
          "output_type": "display_data",
          "data": {
            "image/png": "[encoded data removed]",
            "text/plain": [
              "<Figure size 432x288 with 1 Axes>"
            ]
          },
          "metadata": {
            "tags": [],
            "needs_background": "light"
          }
        }
      ]
    },
    {
      "cell_type": "code",
      "metadata": {
        "id": "qB63t6D6Mhfu",
        "colab": {
          "base_uri": "https://localhost:8080/"
        },
        "outputId": "dd8b1403-8c9f-4c4b-ab45-41544ce65c5c"
      },
      "source": [
        "X_train[3]"
      ],
      "execution_count": null,
      "outputs": [
        {
          "output_type": "execute_result",
          "data": {
            "text/plain": [
              "array([[  0,   0,   0,   0,   0,   0,   0,   0,   0,   0,   0,   0,   0,\n",
              "          0,   0,   0,   0,   0,   0,   0,   0,   0,   0,   0,   0,   0,\n",
              "          0,   0],\n",
              "       [  0,   0,   0,   0,   0,   0,   0,   0,   0,   0,   0,   0,   0,\n",
              "          0,   0,   0,   0,   0,   0,   0,   0,   0,   0,   0,   0,   0,\n",
              "          0,   0],\n",
              "       [  0,   0,   0,   0,   0,   0,   0,   0,   0,   0,   0,   0,   0,\n",
              "          0,   0,   0,   0,   0,   0,   0,   0,   0,   0,   0,   0,   0,\n",
              "          0,   0],\n",
              "       [  0,   0,   0,   0,   0,   0,   0,   0,   0,   0,   0,   0,   0,\n",
              "          0,   0,   0,   0,   0,   0,   0,   0,   0,   0,   0,   0,   0,\n",
              "          0,   0],\n",
              "       [  0,   0,   0,   0,   0,   0,   0,   0,   0,   0,   0,   0,   0,\n",
              "          0,   0,   0,   0,   0,   0,   0,   0,   0,   0,   0,   0,   0,\n",
              "          0,   0],\n",
              "       [  0,   0,   0,   0,   0,   0,   0,   0,   0,   0,   0,   0,   0,\n",
              "          0,   0,   0,   0,   0, 124, 253, 255,  63,   0,   0,   0,   0,\n",
              "          0,   0],\n",
              "       [  0,   0,   0,   0,   0,   0,   0,   0,   0,   0,   0,   0,   0,\n",
              "          0,   0,   0,   0,  96, 244, 251, 253,  62,   0,   0,   0,   0,\n",
              "          0,   0],\n",
              "       [  0,   0,   0,   0,   0,   0,   0,   0,   0,   0,   0,   0,   0,\n",
              "          0,   0,   0,   0, 127, 251, 251, 253,  62,   0,   0,   0,   0,\n",
              "          0,   0],\n",
              "       [  0,   0,   0,   0,   0,   0,   0,   0,   0,   0,   0,   0,   0,\n",
              "          0,   0,   0,  68, 236, 251, 211,  31,   8,   0,   0,   0,   0,\n",
              "          0,   0],\n",
              "       [  0,   0,   0,   0,   0,   0,   0,   0,   0,   0,   0,   0,   0,\n",
              "          0,   0,  60, 228, 251, 251,  94,   0,   0,   0,   0,   0,   0,\n",
              "          0,   0],\n",
              "       [  0,   0,   0,   0,   0,   0,   0,   0,   0,   0,   0,   0,   0,\n",
              "          0,   0, 155, 253, 253, 189,   0,   0,   0,   0,   0,   0,   0,\n",
              "          0,   0],\n",
              "       [  0,   0,   0,   0,   0,   0,   0,   0,   0,   0,   0,   0,   0,\n",
              "          0,  20, 253, 251, 235,  66,   0,   0,   0,   0,   0,   0,   0,\n",
              "          0,   0],\n",
              "       [  0,   0,   0,   0,   0,   0,   0,   0,   0,   0,   0,   0,   0,\n",
              "         32, 205, 253, 251, 126,   0,   0,   0,   0,   0,   0,   0,   0,\n",
              "          0,   0],\n",
              "       [  0,   0,   0,   0,   0,   0,   0,   0,   0,   0,   0,   0,   0,\n",
              "        104, 251, 253, 184,  15,   0,   0,   0,   0,   0,   0,   0,   0,\n",
              "          0,   0],\n",
              "       [  0,   0,   0,   0,   0,   0,   0,   0,   0,   0,   0,   0,  80,\n",
              "        240, 251, 193,  23,   0,   0,   0,   0,   0,   0,   0,   0,   0,\n",
              "          0,   0],\n",
              "       [  0,   0,   0,   0,   0,   0,   0,   0,   0,   0,   0,  32, 253,\n",
              "        253, 253, 159,   0,   0,   0,   0,   0,   0,   0,   0,   0,   0,\n",
              "          0,   0],\n",
              "       [  0,   0,   0,   0,   0,   0,   0,   0,   0,   0,   0, 151, 251,\n",
              "        251, 251,  39,   0,   0,   0,   0,   0,   0,   0,   0,   0,   0,\n",
              "          0,   0],\n",
              "       [  0,   0,   0,   0,   0,   0,   0,   0,   0,   0,  48, 221, 251,\n",
              "        251, 172,   0,   0,   0,   0,   0,   0,   0,   0,   0,   0,   0,\n",
              "          0,   0],\n",
              "       [  0,   0,   0,   0,   0,   0,   0,   0,   0,   0, 234, 251, 251,\n",
              "        196,  12,   0,   0,   0,   0,   0,   0,   0,   0,   0,   0,   0,\n",
              "          0,   0],\n",
              "       [  0,   0,   0,   0,   0,   0,   0,   0,   0,   0, 253, 251, 251,\n",
              "         89,   0,   0,   0,   0,   0,   0,   0,   0,   0,   0,   0,   0,\n",
              "          0,   0],\n",
              "       [  0,   0,   0,   0,   0,   0,   0,   0,   0, 159, 255, 253, 253,\n",
              "         31,   0,   0,   0,   0,   0,   0,   0,   0,   0,   0,   0,   0,\n",
              "          0,   0],\n",
              "       [  0,   0,   0,   0,   0,   0,   0,   0,  48, 228, 253, 247, 140,\n",
              "          8,   0,   0,   0,   0,   0,   0,   0,   0,   0,   0,   0,   0,\n",
              "          0,   0],\n",
              "       [  0,   0,   0,   0,   0,   0,   0,   0,  64, 251, 253, 220,   0,\n",
              "          0,   0,   0,   0,   0,   0,   0,   0,   0,   0,   0,   0,   0,\n",
              "          0,   0],\n",
              "       [  0,   0,   0,   0,   0,   0,   0,   0,  64, 251, 253, 220,   0,\n",
              "          0,   0,   0,   0,   0,   0,   0,   0,   0,   0,   0,   0,   0,\n",
              "          0,   0],\n",
              "       [  0,   0,   0,   0,   0,   0,   0,   0,  24, 193, 253, 220,   0,\n",
              "          0,   0,   0,   0,   0,   0,   0,   0,   0,   0,   0,   0,   0,\n",
              "          0,   0],\n",
              "       [  0,   0,   0,   0,   0,   0,   0,   0,   0,   0,   0,   0,   0,\n",
              "          0,   0,   0,   0,   0,   0,   0,   0,   0,   0,   0,   0,   0,\n",
              "          0,   0],\n",
              "       [  0,   0,   0,   0,   0,   0,   0,   0,   0,   0,   0,   0,   0,\n",
              "          0,   0,   0,   0,   0,   0,   0,   0,   0,   0,   0,   0,   0,\n",
              "          0,   0],\n",
              "       [  0,   0,   0,   0,   0,   0,   0,   0,   0,   0,   0,   0,   0,\n",
              "          0,   0,   0,   0,   0,   0,   0,   0,   0,   0,   0,   0,   0,\n",
              "          0,   0]], dtype=uint8)"
            ]
          },
          "metadata": {
            "tags": []
          },
          "execution_count": 5
        }
      ]
    },
    {
      "cell_type": "code",
      "metadata": {
        "id": "AD94waR1QVGo",
        "colab": {
          "base_uri": "https://localhost:8080/"
        },
        "outputId": "8a902df7-128b-4ed0-9558-a272e10769af"
      },
      "source": [
        "# 학습 데이터 레이블 확인하기\n",
        "y_train[3]"
      ],
      "execution_count": null,
      "outputs": [
        {
          "output_type": "execute_result",
          "data": {
            "text/plain": [
              "1"
            ]
          },
          "metadata": {
            "tags": []
          },
          "execution_count": 6
        }
      ]
    },
    {
      "cell_type": "markdown",
      "metadata": {
        "id": "AQvIGbYxDybv"
      },
      "source": [
        "## 3. 기본 딥러닝 프레임 만들기(완전 연결 신경망 dencely connected network)\n",
        "### 3-1. 데이터 전처리\n",
        "- (독립변수) 정규화(normalization)\n",
        "\n",
        "픽셀 값을 255로 나누어 0~1사이의 값을 가지도록 변환하는 것처럼 데이터를 특정 범위로 변환하는 처리를 정규화(normalization)라고 한다. 딥러닝에서는 데이터의 전처리가 매우 중요한데, 실제 현업에서는 데이터 전체의 분포를 고려해 전처리하는 경우가 많다. 대표적으로 데이터 전체 평균이 0, 표준편차가 1이 되도록 정규화하는 표준화(standardization)가 있다."
      ]
    },
    {
      "cell_type": "code",
      "metadata": {
        "id": "RiRXEazRQqMe"
      },
      "source": [
        "# 픽셀값 0 ~ 255 를 0 ~ 1 사이의 값으로 정규화\n",
        "X_train = X_train / 255\n",
        "X_test = X_test / 255"
      ],
      "execution_count": null,
      "outputs": []
    },
    {
      "cell_type": "markdown",
      "metadata": {
        "id": "a7Q1KNjvClbB"
      },
      "source": [
        "- (종속변수) 원핫인코딩(one-hot encoding) \n",
        "\n",
        "<img src=\"https://encrypted-tbn0.gstatic.com/images?q=tbn%3AANd9GcTvLSynURni0v1cF_weoBFSKkC94cGrOH8yPblJkIP68QjiaN-4\" width=200px>\n",
        "\n"
      ]
    },
    {
      "cell_type": "code",
      "metadata": {
        "id": "1p093P_BCe53"
      },
      "source": [
        "from keras.utils import to_categorical\n",
        "\n",
        "# 레이블 0 ~ 9를 원핫인코딩\n",
        "y_train = to_categorical(y_train)\n",
        "y_test = to_categorical(y_test)"
      ],
      "execution_count": null,
      "outputs": []
    },
    {
      "cell_type": "code",
      "metadata": {
        "id": "SRIVemkKR2iJ",
        "colab": {
          "base_uri": "https://localhost:8080/"
        },
        "outputId": "32e7a34e-c9f2-48a6-efba-a23ddf5e2347"
      },
      "source": [
        "y_train[:4]"
      ],
      "execution_count": null,
      "outputs": [
        {
          "output_type": "execute_result",
          "data": {
            "text/plain": [
              "array([[0., 0., 0., 0., 0., 1., 0., 0., 0., 0.],\n",
              "       [1., 0., 0., 0., 0., 0., 0., 0., 0., 0.],\n",
              "       [0., 0., 0., 0., 1., 0., 0., 0., 0., 0.],\n",
              "       [0., 1., 0., 0., 0., 0., 0., 0., 0., 0.]], dtype=float32)"
            ]
          },
          "metadata": {
            "tags": []
          },
          "execution_count": 9
        }
      ]
    },
    {
      "cell_type": "code",
      "metadata": {
        "id": "FRSnWYBP9rPA"
      },
      "source": [
        "# 자주 사용되는 값을 변수로 지정\n",
        "num_classes = y_train.shape[1] # 10\n",
        "num_pixels = X_train.shape[1]*X_train.shape[2] # 이미지의 가로*세로 크기 = 784(=28*28)"
      ],
      "execution_count": null,
      "outputs": []
    },
    {
      "cell_type": "markdown",
      "metadata": {
        "id": "LnghAkd4ESxF"
      },
      "source": [
        "### 3-2. 모델 구성"
      ]
    },
    {
      "cell_type": "code",
      "metadata": {
        "id": "13FGsiL_CKEi"
      },
      "source": [
        "from keras.models import Sequential\n",
        "from keras.layers import Flatten, Dense\n",
        "\n",
        "# 모델 구성\n",
        "model1 = Sequential()\n",
        "model1.add(Flatten())\n",
        "model1.add(Dense(1000, input_dim=num_pixels, activation = 'relu'))\n",
        "model1.add(Dense(num_classes, activation = 'softmax'))\n",
        "\n",
        "# 모델 컴파일\n",
        "model1.compile(loss='categorical_crossentropy',optimizer='adam', metrics=['accuracy'])"
      ],
      "execution_count": null,
      "outputs": []
    },
    {
      "cell_type": "markdown",
      "metadata": {
        "id": "sprQdv-0EFYE"
      },
      "source": [
        "### 3-3. 모델 학습 모니터링"
      ]
    },
    {
      "cell_type": "code",
      "metadata": {
        "id": "a1gv6ahX-SE9"
      },
      "source": [
        "# 모델 학습\n",
        "history1 = model1.fit(X_train, y_train, validation_data=(X_test, y_test), epochs=10, batch_size=200, verbose=0)"
      ],
      "execution_count": null,
      "outputs": []
    },
    {
      "cell_type": "markdown",
      "metadata": {
        "id": "X9eMB0k5Eekp"
      },
      "source": [
        "### 3-4. 모델 예측 및 평가"
      ]
    },
    {
      "cell_type": "code",
      "metadata": {
        "id": "d0VdX5HbDaWa"
      },
      "source": [
        "def loss_graph(history):\n",
        "  # 손실값 그래프 그리기\n",
        "  plt.figure(figsize=[8,6])\n",
        "  plt.plot(history.history['loss'],'r',linewidth=3.0)\n",
        "  plt.plot(history.history['val_loss'],'b',linewidth=3.0)\n",
        "  plt.legend(['Training loss','Validation Loss'],fontsize=18)\n",
        "  plt.xlabel('Epochs',fontsize=16)\n",
        "  plt.ylabel('Loss',fontsize=16)\n",
        "  plt.title('Loss Curves',fontsize=16)"
      ],
      "execution_count": null,
      "outputs": []
    },
    {
      "cell_type": "code",
      "metadata": {
        "id": "UM_TqecmDaWg",
        "colab": {
          "base_uri": "https://localhost:8080/",
          "height": 411
        },
        "outputId": "b0b9fc20-97d4-4a62-a602-3b35f9d33664"
      },
      "source": [
        "# 손실값 그래프 그리기\n",
        "loss_graph(history1)"
      ],
      "execution_count": null,
      "outputs": [
        {
          "output_type": "display_data",
          "data": {
            "image/png": "[encoded data removed]",
            "text/plain": [
              "<Figure size 576x432 with 1 Axes>"
            ]
          },
          "metadata": {
            "tags": [],
            "needs_background": "light"
          }
        }
      ]
    },
    {
      "cell_type": "code",
      "metadata": {
        "id": "r2nrHT3iYSTp"
      },
      "source": [
        "# 테스트 데이터로 모델 평가하기위한 함수\n",
        "def evaluate_model(model):\n",
        "    scores = model.evaluate(X_test, y_test, verbose=0)\n",
        "    print(\"모델 에러율 : %.2f%%\" % (100-scores[1]*100))"
      ],
      "execution_count": null,
      "outputs": []
    },
    {
      "cell_type": "code",
      "metadata": {
        "id": "JXiLWhfDFf0c",
        "colab": {
          "base_uri": "https://localhost:8080/"
        },
        "outputId": "53d037e3-f6f3-4d57-d4f0-7f8ea471937a"
      },
      "source": [
        "# 모델 에러율\n",
        "evaluate_model(model1)"
      ],
      "execution_count": null,
      "outputs": [
        {
          "output_type": "stream",
          "text": [
            "모델 에러율 : 1.75%\n"
          ],
          "name": "stdout"
        }
      ]
    },
    {
      "cell_type": "markdown",
      "metadata": {
        "id": "jBMzUj5KUmSo"
      },
      "source": [
        "## 4. 이미지 처리에 좋은 성능을 보이는 신경망(CNN, 합성곱 신경망)\n",
        "### 4-1. 완전 연결 신경망의 문제점\n",
        "- 완전 연결 신경망은 전역패턴을 학습하기 때문에 같은 모양도 다른 위치에 나타나면 새로운 패턴으로 학습해야 한다.(반면, 현실에서 연필들의 위치가 다르다고 서로 다른건 아니다. 즉, 평행이동으로 움직인 것을 다른 것으로 인식하지 않는다.)\n",
        "- 완전 연결 신경망에 입력할 때는 데이터를 평평한 1차원 데이터로 평탄화하여 데이터의 공간 구조를 학습할 수 없다.(반면, 현실은 공간 계층 구조를 가진다.)\n",
        "\n",
        "\n",
        "\n",
        "### 4-2. 합성곱 신경망에서 중요한 2가지\n",
        "CNN은 심층 신경망에 **합성곱 층(convolution layer)**와 **풀링 층(pooling layer)**이라는 고유의 구조를 더한 인공 신경망이다. 기존의 이미지를 처리하는 인공신경망은 이미지 데이터를 단순히 숫자의 모음으로 인식하여 1차원의 숫자 배열 형태로 주욱 펼쳐 연산하였다. 반면 CNN에는 이미지 데이터를 주입할 때, 이미지가 갖추고 있는 3차원 데이터 구조를 파괴하지 않고 마치 퍼즐들의 모음인 것처럼 전달하여 이미지의 특성을 잘 추출할 수 있도록 돕는다. \n",
        "\n",
        "<img src=\"https://cdn-images-1.medium.com/max/1600/1*NQQiyYqJJj4PSYAeWvxutg.png\" width=\"700px\">\n",
        "\n",
        "- 합성곱 층\n",
        "  - 지역패턴을 학습하고, 층을 구성함으로써 공간 패턴도 학습\n",
        "  <img src=\"https://t1.daumcdn.net/brunch/service/user/4Jol/image/qQKlk9ZC_z3MMTT8aUCCCpnHU-s\" width=\"400px\">\n",
        "\n",
        "  - 커널(kernel), 스트라이드(stride), 패딩(padding)\n",
        "    - 커널: 이미지를 지역적으로 추출하기 위한 도구\n",
        "    - 스트라이드: 커널이 움직이는 보폭\n",
        "    - 패딩: 특징맵이 줄어드는 것을 방지하고 이미지 경계를 표시\n",
        "<img src=\"https://i.stack.imgur.com/uEoXw.gif\" width=\"600px\">\n",
        "\n",
        "  - 입력: Conv2D(32, (5, 5), input_shape=X_train.shape[1:], activation='relu')\n",
        "  - 출력: (height, width, kernels)크기의 3D 텐서\n",
        "-풀링 층\n",
        "  - 가중치 개수를 줄이는 방법. 방법론으로 최대풀링(max pooling)과 평균풀링(average pooling) 등이 있다. \n",
        "  <img src=\"https://t1.daumcdn.net/cfile/tistory/993A5B465C4D32D32C\" width=\"400px\">\n",
        "\n",
        "  - 입력: MaxPooling2D(pool_size=(2, 2))\n",
        "  - 출력: (height, width, kernels)크기의 3D 텐서\n",
        "\n",
        "### 4-3. 합성곱 층과 풀링 층을 이용한 서브샘플링 전략\n",
        "- CNN의 목적은 합성곱 연산과 풀링 연산을 반복하며 이미지의 특성을 추출해 나가는 것이다. \n",
        "- 가장 일반적인 서브샘플링 전략\n",
        "  1. 스트라이드가 없는 합성곱으로 조밀한 특성 맵을 만들고 \n",
        "  2. 그 다음 작은 패치에 대해 최대풀링을 이용한다. \n",
        "  3. 충분히 합성곱 연산을 수행하여 이미지의 특성 맵을 추출한다.\n",
        "  4. 데이터의 차원을 펼쳐 완전연결망에 주입하여 이미지를 분류하는 것이 일반적이다.\n",
        "\n",
        "\n"
      ]
    },
    {
      "cell_type": "code",
      "metadata": {
        "id": "SrqKSj_KcGof",
        "colab": {
          "base_uri": "https://localhost:8080/"
        },
        "outputId": "ac21ec83-ee09-4d54-da3a-76904b092064"
      },
      "source": [
        "# 학습 데이터 형태 확인\n",
        "X_train.shape"
      ],
      "execution_count": null,
      "outputs": [
        {
          "output_type": "execute_result",
          "data": {
            "text/plain": [
              "(60000, 28, 28)"
            ]
          },
          "metadata": {
            "tags": []
          },
          "execution_count": 17
        }
      ]
    },
    {
      "cell_type": "code",
      "metadata": {
        "id": "yg7rl6O0ce-L",
        "colab": {
          "base_uri": "https://localhost:8080/"
        },
        "outputId": "3088aa6e-cf3e-43b6-dc66-336122c5878c"
      },
      "source": [
        "# Conv2D()의 input_shape=(행, 열, 색상 or 흑백)이므로 채널 차원을 추가하여 데이터의 shape 변환 [samples][width][height][channels]\n",
        "X_train = X_train.reshape(-1,28,28,1)\n",
        "X_test = X_test.reshape(-1,28,28,1)\n",
        "print(X_train.shape, X_test.shape)"
      ],
      "execution_count": null,
      "outputs": [
        {
          "output_type": "stream",
          "text": [
            "(60000, 28, 28, 1) (10000, 28, 28, 1)\n"
          ],
          "name": "stdout"
        }
      ]
    },
    {
      "cell_type": "markdown",
      "metadata": {
        "id": "br2m9Yu_sq23"
      },
      "source": [
        "### 5-1. 모델 구성"
      ]
    },
    {
      "cell_type": "code",
      "metadata": {
        "id": "noxjlYBCVX4I"
      },
      "source": [
        "from keras.layers import Conv2D, MaxPooling2D, Dropout\n",
        "# 모델 구성\n",
        "model2 = Sequential()\n",
        "model2.add(Conv2D(32, (5,5), input_shape=X_train.shape[1:], activation='relu'))\n",
        "model2.add(MaxPooling2D(pool_size=(2, 2)))\n",
        "model2.add(Dropout(0.2))\n",
        "\n",
        "model2.add(Flatten())\n",
        "model2.add(Dense(128, activation='relu'))\n",
        "model2.add(Dense(num_classes, activation='softmax'))\n",
        "# 모델 컴파일\n",
        "model2.compile(loss='categorical_crossentropy', optimizer='adam', metrics=['accuracy'])"
      ],
      "execution_count": null,
      "outputs": []
    },
    {
      "cell_type": "code",
      "metadata": {
        "id": "RCa9bkyXasNU",
        "colab": {
          "base_uri": "https://localhost:8080/"
        },
        "outputId": "bbc2f81e-9c31-4f6b-f15a-026e2e7fc07f"
      },
      "source": [
        "# model2 요약 보기\n",
        "model2.summary()"
      ],
      "execution_count": null,
      "outputs": [
        {
          "output_type": "stream",
          "text": [
            "Model: \"sequential_1\"\n",
            "_________________________________________________________________\n",
            "Layer (type)                 Output Shape              Param #   \n",
            "=================================================================\n",
            "conv2d (Conv2D)              (None, 24, 24, 32)        832       \n",
            "_________________________________________________________________\n",
            "max_pooling2d (MaxPooling2D) (None, 12, 12, 32)        0         \n",
            "_________________________________________________________________\n",
            "dropout (Dropout)            (None, 12, 12, 32)        0         \n",
            "_________________________________________________________________\n",
            "flatten_1 (Flatten)          (None, 4608)              0         \n",
            "_________________________________________________________________\n",
            "dense_2 (Dense)              (None, 128)               589952    \n",
            "_________________________________________________________________\n",
            "dense_3 (Dense)              (None, 10)                1290      \n",
            "=================================================================\n",
            "Total params: 592,074\n",
            "Trainable params: 592,074\n",
            "Non-trainable params: 0\n",
            "_________________________________________________________________\n"
          ],
          "name": "stdout"
        }
      ]
    },
    {
      "cell_type": "markdown",
      "metadata": {
        "id": "T_pMCAuSK4eB"
      },
      "source": [
        "- 드롭아웃(dropout)\n",
        "  - 과적합 방지 목적\n",
        "  - 특정 가중치를 무작위로 그리고 일시적으로 학습에서 배제하는 것\n",
        "  - 특정 가중치가 커지면(과적합됨을 의미) 다른 가중치 학습이 상대적으로 느려지거나 못할 수 있는 것을 방지한다.\n",
        "  - \n",
        "<img src='https://leonardoaraujosantos.gitbooks.io/artificial-inteligence/content/image_folder_5/dropout.jpeg' width=350>\n",
        "<img src='https://leonardoaraujosantos.gitbooks.io/artificial-inteligence/content/image_folder_5/With_Without_Dropout.png' width=300>\n"
      ]
    },
    {
      "cell_type": "markdown",
      "metadata": {
        "id": "vyZaLfkqsy7p"
      },
      "source": [
        "### 5-2. 모델 학습 모니터링"
      ]
    },
    {
      "cell_type": "code",
      "metadata": {
        "id": "m244RWjaYxDg",
        "colab": {
          "base_uri": "https://localhost:8080/"
        },
        "outputId": "d34741b5-8825-4f65-820e-739dec5a6e2e"
      },
      "source": [
        "# 모델 학습\n",
        "history2 = model2.fit(X_train, y_train, validation_data=(X_test,y_test),epochs=10,batch_size=200,verbose=2)"
      ],
      "execution_count": null,
      "outputs": [
        {
          "output_type": "stream",
          "text": [
            "Epoch 1/10\n",
            "300/300 - 28s - loss: 0.2490 - accuracy: 0.9282 - val_loss: 0.0719 - val_accuracy: 0.9787\n",
            "Epoch 2/10\n",
            "300/300 - 28s - loss: 0.0726 - accuracy: 0.9782 - val_loss: 0.0522 - val_accuracy: 0.9832\n",
            "Epoch 3/10\n",
            "300/300 - 28s - loss: 0.0528 - accuracy: 0.9844 - val_loss: 0.0400 - val_accuracy: 0.9879\n",
            "Epoch 4/10\n",
            "300/300 - 28s - loss: 0.0415 - accuracy: 0.9872 - val_loss: 0.0382 - val_accuracy: 0.9868\n",
            "Epoch 5/10\n",
            "300/300 - 28s - loss: 0.0343 - accuracy: 0.9893 - val_loss: 0.0409 - val_accuracy: 0.9853\n",
            "Epoch 6/10\n",
            "300/300 - 28s - loss: 0.0270 - accuracy: 0.9915 - val_loss: 0.0363 - val_accuracy: 0.9876\n",
            "Epoch 7/10\n",
            "300/300 - 28s - loss: 0.0237 - accuracy: 0.9923 - val_loss: 0.0300 - val_accuracy: 0.9901\n",
            "Epoch 8/10\n",
            "300/300 - 28s - loss: 0.0202 - accuracy: 0.9936 - val_loss: 0.0329 - val_accuracy: 0.9888\n",
            "Epoch 9/10\n",
            "300/300 - 28s - loss: 0.0164 - accuracy: 0.9947 - val_loss: 0.0313 - val_accuracy: 0.9898\n",
            "Epoch 10/10\n",
            "300/300 - 28s - loss: 0.0158 - accuracy: 0.9948 - val_loss: 0.0302 - val_accuracy: 0.9899\n"
          ],
          "name": "stdout"
        }
      ]
    },
    {
      "cell_type": "markdown",
      "metadata": {
        "id": "9RP8cbSntI5O"
      },
      "source": [
        "### 5-3. 모델v2 예측 및 평가"
      ]
    },
    {
      "cell_type": "code",
      "metadata": {
        "id": "96x1gFoYY1Rm",
        "colab": {
          "base_uri": "https://localhost:8080/",
          "height": 411
        },
        "outputId": "ba17d470-1cac-4c65-cf9f-901c13d4b7c9"
      },
      "source": [
        "# 손실값 그래프 그리기\n",
        "loss_graph(history2)"
      ],
      "execution_count": null,
      "outputs": [
        {
          "output_type": "display_data",
          "data": {
            "image/png": "[encoded data removed]",
            "text/plain": [
              "<Figure size 576x432 with 1 Axes>"
            ]
          },
          "metadata": {
            "tags": [],
            "needs_background": "light"
          }
        }
      ]
    },
    {
      "cell_type": "code",
      "metadata": {
        "id": "FxKb4KNPd_E7",
        "colab": {
          "base_uri": "https://localhost:8080/"
        },
        "outputId": "169e492a-25d0-4407-f205-ed503be3b775"
      },
      "source": [
        "# 테스트 데이터로 모델 평가\n",
        "evaluate_model(model2)"
      ],
      "execution_count": null,
      "outputs": [
        {
          "output_type": "stream",
          "text": [
            "모델 에러율 : 1.01%\n"
          ],
          "name": "stdout"
        }
      ]
    },
    {
      "cell_type": "markdown",
      "metadata": {
        "id": "0IfIzcWNwNzs"
      },
      "source": [
        "<img src='https://k.kakaocdn.net/dn/LKjVe/btqExtbibd4/cyB053kBmX1u1HQmHghjuk/img.png'>\n",
        "\n",
        "[참고자료] [CNN을 활용한 알고리즘 Case Study-김성훈교수님](https://www.youtube.com/watch?v=KbNbWTnlYXs)"
      ]
    },
    {
      "cell_type": "markdown",
      "metadata": {
        "id": "33TbL7Vovtd4"
      },
      "source": [
        "### 5-4. 내 손글씨를 테스트 데이터로 사용하기\n"
      ]
    },
    {
      "cell_type": "code",
      "metadata": {
        "id": "m6dXxnOWfF6H",
        "colab": {
          "resources": {
            "http://localhost:8080/nbextensions/google.colab/files.js": {
              "data": "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",
              "ok": true,
              "headers": [
                [
                  "content-type",
                  "application/javascript"
                ]
              ],
              "status": 200,
              "status_text": ""
            }
          },
          "base_uri": "https://localhost:8080/",
          "height": 181
        },
        "outputId": "bc738ee7-61dc-42f6-efca-f964fb2f2556"
      },
      "source": [
        "from google.colab import files\n",
        "uploaded = files.upload()"
      ],
      "execution_count": null,
      "outputs": [
        {
          "output_type": "display_data",
          "data": {
            "text/html": [
              "\n",
              "     <input type=\"file\" id=\"files-0939a1e2-e42b-4ed4-adf0-a280cd5f45c3\" name=\"files[]\" multiple disabled\n",
              "        style=\"border:none\" />\n",
              "     <output id=\"result-0939a1e2-e42b-4ed4-adf0-a280cd5f45c3\">\n",
              "      Upload widget is only available when the cell has been executed in the\n",
              "      current browser session. Please rerun this cell to enable.\n",
              "      </output>\n",
              "      <script src=\"/nbextensions/google.colab/files.js\"></script> "
            ],
            "text/plain": [
              "<IPython.core.display.HTML object>"
            ]
          },
          "metadata": {
            "tags": []
          }
        },
        {
          "output_type": "stream",
          "text": [
            "Saving 제목 없음1.png to 제목 없음1.png\n",
            "Saving 제목 없음2.png to 제목 없음2.png\n",
            "Saving 제목 없음3.png to 제목 없음3.png\n",
            "Saving 제목 없음4.png to 제목 없음4.png\n"
          ],
          "name": "stdout"
        }
      ]
    },
    {
      "cell_type": "code",
      "metadata": {
        "id": "TaohNQ0ogmNP",
        "colab": {
          "base_uri": "https://localhost:8080/",
          "height": 45
        },
        "outputId": "821ff630-8a93-4504-b275-08dab9a745ca"
      },
      "source": [
        "from tensorflow.keras.preprocessing import image\n",
        "\n",
        "s = image.load_img('제목 없음1.png', target_size=(28, 28), color_mode=\"grayscale\")\n",
        "s"
      ],
      "execution_count": null,
      "outputs": [
        {
          "output_type": "execute_result",
          "data": {
            "image/png": "[encoded data removed]",
            "text/plain": [
              "<PIL.Image.Image image mode=L size=28x28 at 0x7FC61CAA9080>"
            ]
          },
          "metadata": {
            "tags": []
          },
          "execution_count": 26
        }
      ]
    },
    {
      "cell_type": "code",
      "metadata": {
        "id": "YXftUAwcozNE",
        "colab": {
          "base_uri": "https://localhost:8080/"
        },
        "outputId": "c97727f5-80b3-4ffc-f029-92380f3d9d65"
      },
      "source": [
        "# samples 변수에 손글씨 파일명 입력하기\n",
        "samples = ['제목 없음1.png','제목 없음2.png','제목 없음3.png','제목 없음4.png']\n",
        "\n",
        "# 내 손글씨 예측하기\n",
        "for sample in samples:\n",
        "    s = image.load_img(sample, target_size=(28, 28), color_mode=\"grayscale\")\n",
        "    img = image.img_to_array(s).astype('float32')\n",
        "    print(np.argmax(model2.predict(img.reshape(-1,28,28,1))))"
      ],
      "execution_count": null,
      "outputs": [
        {
          "output_type": "stream",
          "text": [
            "5\n",
            "4\n",
            "9\n",
            "7\n"
          ],
          "name": "stdout"
        }
      ]
    },
    {
      "cell_type": "code",
      "metadata": {
        "id": "V6iJMHO4w9tQ"
      },
      "source": [
        ""
      ],
      "execution_count": null,
      "outputs": []
    }
  ]
}
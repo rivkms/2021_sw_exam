{
  "nbformat": 4,
  "nbformat_minor": 0,
  "metadata": {
    "colab": {
      "name": "7주차_딥러닝 기초와 분류 모델(과제).ipynb",
      "provenance": [],
      "collapsed_sections": [],
      "include_colab_link": true
    },
    "kernelspec": {
      "name": "python3",
      "display_name": "Python 3"
    },
    "accelerator": "GPU"
  },
  "cells": [
    {
      "cell_type": "markdown",
      "metadata": {
        "id": "view-in-github",
        "colab_type": "text"
      },
      "source": [
        "<a href=\"https://colab.research.google.com/github/rivkms/2021_sw_exam/blob/main/7%EC%A3%BC%EC%B0%A8_%EB%94%A5%EB%9F%AC%EB%8B%9D_%EA%B8%B0%EC%B4%88%EC%99%80_%EB%B6%84%EB%A5%98_%EB%AA%A8%EB%8D%B8(%EA%B3%BC%EC%A0%9C).ipynb\" target=\"_parent\"><img src=\"https://colab.research.google.com/assets/colab-badge.svg\" alt=\"Open In Colab\"/></a>"
      ]
    },
    {
      "cell_type": "markdown",
      "metadata": {
        "id": "NBDkzTazaoNo"
      },
      "source": [
        "# 7주차 딥러닝 분류 실습과제\n",
        "\n",
        "- 과제를 완성하여 클래스룸에 기한내에 제출합니다.\n",
        "- 머신러닝 프로세스(데이터 수집 -> 데이터 전처리 -> 모델 학습 -> 모델 예측 및 평가)대로 실습을 진행합니다.\n",
        "- 모델을 완성한 후, '6.모델 분석'에서 자신의 모델을 분석한 결과를 작성합니다."
      ]
    },
    {
      "cell_type": "markdown",
      "metadata": {
        "id": "_80TyL0341SC"
      },
      "source": [
        "\n",
        "## 1.문제 정의\n",
        "\n",
        "\n",
        "- 오렌지와 자몽을 분류하는 이진 분류 문제!\n",
        "\n",
        "<img src=\"https://pbs.twimg.com/media/Duewjc7UYAAOXFD.jpg\" width=300px>\n"
      ]
    },
    {
      "cell_type": "markdown",
      "metadata": {
        "id": "3WFqfREo42yG"
      },
      "source": [
        "\n",
        "##2.데이터 수집(캐글 데이터셋 이용)\n",
        "\n",
        "데이터셋 :\n",
        "\n",
        "각 컬럼이 의미하는 내용을 숙지하세요.\n",
        "https://www.kaggle.com/joshmcadams/oranges-vs-grapefruit"
      ]
    },
    {
      "cell_type": "code",
      "metadata": {
        "id": "CFOwYyT8ssH_"
      },
      "source": [
        "from google.colab import drive\n",
        "drive.mount('/content/drive')"
      ],
      "execution_count": null,
      "outputs": []
    },
    {
      "cell_type": "code",
      "metadata": {
        "id": "A6RQuNxXUeAG"
      },
      "source": [
        "%ls '/content/drive/My Drive/Colab Notebooks'"
      ],
      "execution_count": null,
      "outputs": []
    },
    {
      "cell_type": "code",
      "metadata": {
        "id": "Y50pokk8Yud9"
      },
      "source": [
        "import os\n",
        "os.environ['KAGGLE_CONFIG_DIR'] = '/content/drive/My Drive/Colab Notebooks/.kaggle'\n",
        "# '/content/drive/My Drive/Colab Notebooks' is the path where kaggle.json is present in the Google Drive"
      ],
      "execution_count": null,
      "outputs": []
    },
    {
      "cell_type": "code",
      "metadata": {
        "id": "3WW84RZJZEP2"
      },
      "source": [
        "#changing the working directory\n",
        "%cd /content/drive/My Drive/Colab Notebooks"
      ],
      "execution_count": null,
      "outputs": []
    },
    {
      "cell_type": "code",
      "metadata": {
        "id": "L2RHA4odZP2h"
      },
      "source": [
        "%pwd"
      ],
      "execution_count": null,
      "outputs": []
    },
    {
      "cell_type": "code",
      "metadata": {
        "id": "hCFcw0N0eup8"
      },
      "source": [
        "# Pima Indian Diabetes 데이터셋 다운로드\n",
        "!kaggle datasets download -d joshmcadams/oranges-vs-grapefruit"
      ],
      "execution_count": null,
      "outputs": []
    },
    {
      "cell_type": "code",
      "metadata": {
        "id": "38H7JaIMfRUd"
      },
      "source": [
        "# zip파일 압축 해제 후 현재 디렉토리의 파일 리스트 보기\n",
        "!unzip oranges-vs-grapefruit.zip\n",
        "!ls"
      ],
      "execution_count": null,
      "outputs": []
    },
    {
      "cell_type": "markdown",
      "metadata": {
        "id": "vSbC9vr2jI_b"
      },
      "source": [
        "##3.데이터 전처리"
      ]
    },
    {
      "cell_type": "markdown",
      "metadata": {
        "id": "pjISvSrNekJX"
      },
      "source": [
        "- csv 파일에 저장되어있는 데이터를 dataframe으로 저장하고, head(), info(), describe() 등 함수를 활용하여 데이터를 확인하세요."
      ]
    },
    {
      "cell_type": "code",
      "metadata": {
        "id": "4tB--vvWeurP"
      },
      "source": [
        ""
      ],
      "execution_count": null,
      "outputs": []
    },
    {
      "cell_type": "markdown",
      "metadata": {
        "id": "1zjB_YamdWNL"
      },
      "source": [
        "- 각 클래스의 개수를 출력하세요."
      ]
    },
    {
      "cell_type": "code",
      "metadata": {
        "id": "4qPQjAl1a03u"
      },
      "source": [
        ""
      ],
      "execution_count": null,
      "outputs": []
    },
    {
      "cell_type": "markdown",
      "metadata": {
        "id": "5deRqKiXdhA9"
      },
      "source": [
        "- 피처 변수 x에 클래스를 제외한 피처를 저장하고, 클래스 변수 y에 'graplefruit'와 'orange'을 각각 0과 1로 바꾸어 저장하세요."
      ]
    },
    {
      "cell_type": "code",
      "metadata": {
        "id": "NVt_6oKNbVk_"
      },
      "source": [
        ""
      ],
      "execution_count": null,
      "outputs": []
    },
    {
      "cell_type": "markdown",
      "metadata": {
        "id": "vL9VkWxdeGER"
      },
      "source": [
        "- 피처 스케일링 등 전처리가 필요하다면 수행하세요."
      ]
    },
    {
      "cell_type": "code",
      "metadata": {
        "id": "sX0BMdtUCnuM"
      },
      "source": [
        ""
      ],
      "execution_count": null,
      "outputs": []
    },
    {
      "cell_type": "markdown",
      "metadata": {
        "id": "IghdnqxUe1Um"
      },
      "source": [
        "- 데이터를 train set과 test set으로 나누세요."
      ]
    },
    {
      "cell_type": "code",
      "metadata": {
        "id": "D8JFqcURe6M_"
      },
      "source": [
        ""
      ],
      "execution_count": null,
      "outputs": []
    },
    {
      "cell_type": "markdown",
      "metadata": {
        "id": "vj9vlvs6jNjE"
      },
      "source": [
        "## 4.모델 학습"
      ]
    },
    {
      "cell_type": "code",
      "metadata": {
        "id": "BKoReYamCkXr"
      },
      "source": [
        "from tensorflow.keras.models import Sequential\n",
        "from tensorflow.keras.layers import Dense"
      ],
      "execution_count": null,
      "outputs": []
    },
    {
      "cell_type": "markdown",
      "metadata": {
        "id": "AuHJjmRLc6g4"
      },
      "source": [
        "- 적절한 층의 개수, 노드의 개수, 활성화 함수는 무엇인지 고민하고 Sequential과 Dense를 이용하여 모델을 정의하고 컴파일하세요. "
      ]
    },
    {
      "cell_type": "code",
      "metadata": {
        "id": "_5P-rjg5Ckdq"
      },
      "source": [
        "## 모델 정의\n",
        "\n",
        "\n",
        "# 모델 컴파일\n"
      ],
      "execution_count": null,
      "outputs": []
    },
    {
      "cell_type": "markdown",
      "metadata": {
        "id": "WGSXSqV4dDBl"
      },
      "source": [
        "- fit을 이용하여 모델 학습을 진행하세요."
      ]
    },
    {
      "cell_type": "code",
      "metadata": {
        "id": "2CSggSzWDpow"
      },
      "source": [
        "# 모델 학습\n"
      ],
      "execution_count": null,
      "outputs": []
    },
    {
      "cell_type": "markdown",
      "metadata": {
        "id": "7w7_sC4tjR_5"
      },
      "source": [
        "##5.모델 예측 및 평가\n",
        "\n",
        "- train loss와 validation loss를 그래프로 출력하세요."
      ]
    },
    {
      "cell_type": "code",
      "metadata": {
        "id": "wqqSs6zMKo5D"
      },
      "source": [
        ""
      ],
      "execution_count": null,
      "outputs": []
    },
    {
      "cell_type": "markdown",
      "metadata": {
        "id": "uHl5Nkm4cZ9A"
      },
      "source": [
        "- train accuracy와 validation accuracy를 그래프로 출력하세요."
      ]
    },
    {
      "cell_type": "code",
      "metadata": {
        "id": "05s2wglHMnnt"
      },
      "source": [
        ""
      ],
      "execution_count": null,
      "outputs": []
    },
    {
      "cell_type": "markdown",
      "metadata": {
        "id": "VHuhgGExfTFC"
      },
      "source": [
        "## 6.모델 분석\n",
        "- 모델의 문제점은? : \n",
        "\n",
        "- 모델의 개선 가능성은? :"
      ]
    },
    {
      "cell_type": "markdown",
      "metadata": {
        "id": "X-6Rvc8TknWq"
      },
      "source": [
        "## 7.[선택과제] 모델 개선"
      ]
    },
    {
      "cell_type": "code",
      "metadata": {
        "id": "Tl_hZYiTktCQ"
      },
      "source": [
        ""
      ],
      "execution_count": null,
      "outputs": []
    }
  ]
}
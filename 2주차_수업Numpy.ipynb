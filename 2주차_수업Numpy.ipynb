{
  "nbformat": 4,
  "nbformat_minor": 0,
  "metadata": {
    "kernelspec": {
      "display_name": "Python 3",
      "language": "python",
      "name": "python3"
    },
    "language_info": {
      "codemirror_mode": {
        "name": "ipython",
        "version": 3
      },
      "file_extension": ".py",
      "mimetype": "text/x-python",
      "name": "python",
      "nbconvert_exporter": "python",
      "pygments_lexer": "ipython3",
      "version": "3.7.3"
    },
    "colab": {
      "name": "2주차-수업Numpy(학번).ipynb의 사본",
      "provenance": [],
      "include_colab_link": true
    }
  },
  "cells": [
    {
      "cell_type": "markdown",
      "metadata": {
        "id": "view-in-github",
        "colab_type": "text"
      },
      "source": [
        "<a href=\"https://colab.research.google.com/github/rivkms/2021_sw_exam/blob/main/2%EC%A3%BC%EC%B0%A8_%EC%88%98%EC%97%85Numpy.ipynb\" target=\"_parent\"><img src=\"https://colab.research.google.com/assets/colab-badge.svg\" alt=\"Open In Colab\"/></a>"
      ]
    },
    {
      "cell_type": "markdown",
      "metadata": {
        "id": "ttWndG1x6HWG"
      },
      "source": [
        "# 2주차. Numpy(넘파이)\n",
        "\n",
        "다음 수식을 코드로 표현해보자. \n",
        "\n",
        "![exp](https://img1.daumcdn.net/thumb/R1280x0/?scode=mtistory2&fname=https%3A%2F%2Fk.kakaocdn.net%2Fdn%2FbwB6B9%2FbtqDjdVBFNr%2F5Zy9Wvg5USkMkDb5pz9KN1%2Fimg.png)"
      ]
    },
    {
      "cell_type": "markdown",
      "metadata": {
        "id": "Jnu2dhPEbYHf"
      },
      "source": [
        "print(\"hello\")"
      ]
    },
    {
      "cell_type": "code",
      "metadata": {
        "id": "g2DSXakR6HWL"
      },
      "source": [
        "coef_matrix = [[2,2,1], [2,-1,2], [1,-1,2]]\n",
        "const_vector = [9, 6, 5]"
      ],
      "execution_count": null,
      "outputs": []
    },
    {
      "cell_type": "markdown",
      "metadata": {
        "id": "NExfTtSZ6HWZ"
      },
      "source": [
        "- 파이썬 list로도 표현 가능함\n",
        "- 문제는 실제 우리가 접하게 될 데이터는 처리할 양이 매우 크다는 것.\n",
        "- 복잡한 Matrix 표현문제와 파이썬(인터프리터)의 처리속도가 문제\n",
        "\n",
        "#### Numpy는\n",
        "\n",
        "- Numerical Python\n",
        "- 파이썬의 고성능 과학 계산용 패키지\n",
        "- Matrix와 Vector와 같은 Array 연산의 표준이 되었음\n",
        "\n",
        "#### Numpy 특징\n",
        "- 파이썬 list에 비해 빠르고 메모리 효율적\n",
        "- 반복문 없이 배열 처리 지원\n",
        "- 선형대수와 관련된 연산 제공\n",
        "\n",
        "#### Numpy 설치방법\n",
        "- pip install numpy(아나콘다와 함께 설치됨)"
      ]
    },
    {
      "cell_type": "markdown",
      "metadata": {
        "id": "i3Bs5f8x6HWb"
      },
      "source": [
        "## [Live Coding1]\n",
        "실습 데이터는 영화평점 데이터로 Movielens 웹 사이트에서 지속적으로 수집하여 업데이트 해주는 영화관련 정보로 2차원 데이터다. 2018년 9월 기준 600명이 9,000개의 영화에 대해 평가한 100,000개의 데이터를 가지고 있다. (출처: https://grouplens.org/datasets/movielens/)\n",
        "\n",
        "<img src='https://img1.daumcdn.net/thumb/R1280x0/?scode=mtistory2&fname=https%3A%2F%2Fk.kakaocdn.net%2Fdn%2FbAOrY6%2FbtqDjHWpQjm%2FnXJpkkSHXCNImTpKZHeqa1%2Fimg.png' width=500 title='live'>"
      ]
    },
    {
      "cell_type": "code",
      "metadata": {
        "id": "_J8DkoTc6HWd"
      },
      "source": [
        ""
      ],
      "execution_count": null,
      "outputs": []
    },
    {
      "cell_type": "markdown",
      "metadata": {
        "id": "2W30MFX96HWl"
      },
      "source": [
        "## [Live Coding2]\n",
        "mnist는 케라스에 포함된 이미지 데이터셋으로 머신러닝 학습에서 기초 데이터로 많이 사용되는 자료로서 3차원 데이터이다.\n",
        "\n",
        "- 케라스\n",
        "    - 딥러닝 모델을 간편하게 만들고 훈련시킬 수 있는 프레임워크\n",
        "    - 사용하기 쉬운 API\n",
        "    - 케라스는 딥러닝을 위한 고수준 구성요소를 제공하며 저수준 연산은 백엔드 엔진(Tensorflow)이 맡음\n",
        "\n",
        "- mnist 데이터셋\n",
        "<img src='https://upload.wikimedia.org/wikipedia/commons/2/27/MnistExamples.png' width=300>"
      ]
    },
    {
      "cell_type": "code",
      "metadata": {
        "id": "sN3pXWmW6HWm"
      },
      "source": [
        ""
      ],
      "execution_count": null,
      "outputs": []
    },
    {
      "cell_type": "markdown",
      "metadata": {
        "id": "JSSMg2Yx6HWt"
      },
      "source": [
        "## 1. 데이터 표현 종류\n",
        "<img src='https://img1.daumcdn.net/thumb/R1280x0/?scode=mtistory2&fname=https%3A%2F%2Fk.kakaocdn.net%2Fdn%2FbrE6MZ%2FbtqDiaE2a0Y%2FGfpVheNi2IqJBtiPUXxlT0%2Fimg.png' width=600 title='tensor'>\n",
        "\n",
        "|종류|Scalar(0D tensor)|Vector(1D tensor)|Matrix(2D tensor)|3D Tensor|4D Tensor|\n",
        "|:---:|:---|:---|:---|:---|:---|\n",
        "|차원|0차원|1차원|2차원|3차원|4차원|\n",
        "|특징|- 숫자|    - 숫자의 배열, 1개의 축(axis)을 가짐|    - 행과 열, 2개의 축을 가짐|    - (samples, width, height) 크기의 3D 텐서<br>- 사례: mnist 이미지|    - 딥러닝에서는 보통 0D~4D까지의 데이터를 다룸<br>- (samples, channels, width, height) 크기의 4D 텐서<br>- 사례: 컬러 이미지|\n",
        "|표현| ( ) | (1, ) | (1, 10) | (1, 10, 100) | (1, 10, 100, 1000) |"
      ]
    },
    {
      "cell_type": "markdown",
      "metadata": {
        "id": "QWmHzKvJ6HWu"
      },
      "source": [
        "## 2. 배열의 생성과 형태 탐색\n",
        "#### 가. import\n",
        "\n",
        "- 일반적으로 np라는 별칭으로 호출함"
      ]
    },
    {
      "cell_type": "code",
      "metadata": {
        "id": "r0n2H53T6HWv"
      },
      "source": [
        "import numpy as np"
      ],
      "execution_count": null,
      "outputs": []
    },
    {
      "cell_type": "markdown",
      "metadata": {
        "id": "SVg24_uE6HW1"
      },
      "source": [
        "#### 나. 배열 생성\n",
        "\n",
        "- numpy는 np.array 함수를 활용하여 ndarray 배열을 생성함\n",
        "- numpy 배열은 동일한 데이터 타입만 저장할 수 있음(list와 다른점)\n",
        "- C의 Array를 사용하여 배열을 생성함(처리속도가 빠름)\n"
      ]
    },
    {
      "cell_type": "code",
      "metadata": {
        "id": "6oApN-S16HW2"
      },
      "source": [
        "arr = np.array([1, 4, 2, '9'], float)\n",
        "arr"
      ],
      "execution_count": null,
      "outputs": []
    },
    {
      "cell_type": "code",
      "metadata": {
        "id": "5ddpCpDK6HW7"
      },
      "source": [
        "arr[3]"
      ],
      "execution_count": null,
      "outputs": []
    },
    {
      "cell_type": "code",
      "metadata": {
        "id": "JYSQ_3fN6HXA"
      },
      "source": [
        "type(arr)"
      ],
      "execution_count": null,
      "outputs": []
    },
    {
      "cell_type": "code",
      "metadata": {
        "id": "kvl-RqWy6HXE"
      },
      "source": [
        "arr.dtype"
      ],
      "execution_count": null,
      "outputs": []
    },
    {
      "cell_type": "markdown",
      "metadata": {
        "id": "sSdYsR676HXI"
      },
      "source": [
        "Array shape 종류: 넘파이 배열의 차원 구성을 반환함\n",
        "\n",
        "1. scalar: 숫자값이며 ( )처럼 표현함.\n",
        "2. vector: 1차원 데이터이며 (4, )처럼 표현함.\n",
        "3. matrix: 2차원 데이터이며 (3, 4)처럼 표현함.\n",
        "4. tensor: 3차원 데이터이며 (4, 3, 4)처럼 표현함."
      ]
    },
    {
      "cell_type": "code",
      "metadata": {
        "id": "o8vtSXJK6HXJ"
      },
      "source": [
        "arr.shape"
      ],
      "execution_count": null,
      "outputs": []
    },
    {
      "cell_type": "markdown",
      "metadata": {
        "id": "iTnHRlD86HXM"
      },
      "source": [
        "- ndim: 차원의 개수를 반환함.\n",
        "- size: 데이터의 개수를 반환함."
      ]
    },
    {
      "cell_type": "code",
      "metadata": {
        "id": "IwEx8Gvn6HXN"
      },
      "source": [
        "arr.ndim"
      ],
      "execution_count": null,
      "outputs": []
    },
    {
      "cell_type": "code",
      "metadata": {
        "id": "tGn4asu_6HXR"
      },
      "source": [
        "arr.size"
      ],
      "execution_count": null,
      "outputs": []
    },
    {
      "cell_type": "code",
      "metadata": {
        "id": "lc0lWR276HXU"
      },
      "source": [
        "arr1 = np.array([[1, 2, 3], \n",
        "                [4.5, 5, 6]], dtype=int)\n",
        "arr1"
      ],
      "execution_count": null,
      "outputs": []
    },
    {
      "cell_type": "code",
      "metadata": {
        "id": "nqmqoAmq6HXX"
      },
      "source": [
        "print('데이터 type: {}'.format(arr1.dtype))\n",
        "print('데이터 shape: {}'.format(arr1.shape))\n",
        "print('데이터 ndim: {}'.format(arr1.ndim))\n",
        "print('데이터 size: {}'.format(arr1.size))\n",
        "print('데이터 nbytes: {}'.format(arr1.nbytes))"
      ],
      "execution_count": null,
      "outputs": []
    },
    {
      "cell_type": "markdown",
      "metadata": {
        "id": "9BhxZRMw6HXa"
      },
      "source": [
        "## 3. 배열 차원 다루기\n",
        "\n",
        "#### 가. reshape"
      ]
    },
    {
      "cell_type": "code",
      "metadata": {
        "id": "KaCMeN476HXb"
      },
      "source": [
        "matrix = np.array([[1,2,5,8], \n",
        "                   [1,2,5,8]])\n",
        "matrix.shape"
      ],
      "execution_count": null,
      "outputs": []
    },
    {
      "cell_type": "markdown",
      "metadata": {
        "id": "O96s4usv6HXe"
      },
      "source": [
        "<img src=\"https://img1.daumcdn.net/thumb/R1280x0/?scode=mtistory2&fname=https%3A%2F%2Fk.kakaocdn.net%2Fdn%2FrmTCj%2FbtqDjHvlVIf%2F4hMcqzN3OB2nTBzKSam9T1%2Fimg.png\" width=600px title='reshape'>\n",
        "\n",
        "- reshape: size만 같다면 다차원으로 자유롭게 변형 가능"
      ]
    },
    {
      "cell_type": "code",
      "metadata": {
        "id": "VZ8_01Nh6HXf"
      },
      "source": [
        "matrix.reshape(8, )"
      ],
      "execution_count": null,
      "outputs": []
    },
    {
      "cell_type": "code",
      "metadata": {
        "id": "4RghB__66HXk"
      },
      "source": [
        "matrix.reshape(-1, 1) # -1은 size를 기반으로 전체 row를 결정"
      ],
      "execution_count": null,
      "outputs": []
    },
    {
      "cell_type": "code",
      "metadata": {
        "id": "5iLyyoXd6HXn"
      },
      "source": [
        "matrix.reshape(-1, 2) # -1은 size를 기반으로 전체 row를 결정"
      ],
      "execution_count": null,
      "outputs": []
    },
    {
      "cell_type": "code",
      "metadata": {
        "id": "kFF-bV6u6HXr"
      },
      "source": [
        "matrix.reshape(2, 2, 2)"
      ],
      "execution_count": null,
      "outputs": []
    },
    {
      "cell_type": "markdown",
      "metadata": {
        "id": "K7h_UqG96HXz"
      },
      "source": [
        "#### 나. flatten\n",
        "![flatten](https://img1.daumcdn.net/thumb/R1280x0/?scode=mtistory2&fname=https%3A%2F%2Fk.kakaocdn.net%2Fdn%2FslQnB%2FbtqDhuRknyw%2Fcypbuh6kP9bCbXh2PZgAu0%2Fimg.png)"
      ]
    },
    {
      "cell_type": "code",
      "metadata": {
        "id": "Q-tecCfn6HX0"
      },
      "source": [
        "matrix2 = np.array([[[1,2,3,4],\n",
        "                     [1,2,5,8]],\n",
        "                    \n",
        "                    [[1,2,3,4],\n",
        "                     [1,2,5,8]]])\n",
        "matrix2.shape"
      ],
      "execution_count": null,
      "outputs": []
    },
    {
      "cell_type": "code",
      "metadata": {
        "id": "x8vb36pK6HX3"
      },
      "source": [
        "matrix2.flatten()"
      ],
      "execution_count": null,
      "outputs": []
    },
    {
      "cell_type": "markdown",
      "metadata": {
        "id": "P0VRE8yu6HX6"
      },
      "source": [
        "## 4. 인덱싱과 슬라이싱\n",
        "\n",
        "#### 가. 인덱싱(indexing)\n",
        "\n",
        "- list와 달리 [0,0] 같은 표기법을 제공함"
      ]
    },
    {
      "cell_type": "code",
      "metadata": {
        "id": "AtiPlKsD6HX6"
      },
      "source": [
        "insl = np.array([[1,2,3],\n",
        "                 [4,5,6]])\n",
        "print(insl[0,1], insl[0][1])"
      ],
      "execution_count": null,
      "outputs": []
    },
    {
      "cell_type": "code",
      "metadata": {
        "id": "H0t_IsQL6HX9"
      },
      "source": [
        "insl[0][0] = 10\n",
        "insl"
      ],
      "execution_count": null,
      "outputs": []
    },
    {
      "cell_type": "markdown",
      "metadata": {
        "id": "HtT5SwoA6HYA"
      },
      "source": [
        "#### 나. 슬라이싱(slicing)\n",
        "\n",
        "- list와 달리 행과 열 부분을 나눠서 슬라이싱 가능함\n",
        "- matrix의 부분집합을 추출할 때 유용함\n",
        "![slicing](https://img1.daumcdn.net/thumb/R1280x0/?scode=mtistory2&fname=https%3A%2F%2Fk.kakaocdn.net%2Fdn%2FWkrbQ%2FbtqDhwn0yWO%2FRSHjcdbEqypN8L3kiMbtx0%2Fimg.png)"
      ]
    },
    {
      "cell_type": "code",
      "metadata": {
        "id": "ePm5qwbS6HYC"
      },
      "source": [
        "insl[ : , 2:]  # [행 전체, 2열 이상]"
      ],
      "execution_count": null,
      "outputs": []
    },
    {
      "cell_type": "code",
      "metadata": {
        "id": "SPL7to8O6HYF"
      },
      "source": [
        "insl[1, 1:3] # [1행, 1열~2열]"
      ],
      "execution_count": null,
      "outputs": []
    },
    {
      "cell_type": "code",
      "metadata": {
        "id": "XPFCZmx56HYI"
      },
      "source": [
        "insl[1:3] # 하나만 입력하면 행만 타겟, 1행~2행"
      ],
      "execution_count": null,
      "outputs": []
    },
    {
      "cell_type": "markdown",
      "metadata": {
        "id": "86s8yxwh6HYL"
      },
      "source": [
        "## 5. 독특한 배열 생성\n",
        "\n",
        "#### 가. arange\n",
        "- 범위를 지정하여 array를 만듬"
      ]
    },
    {
      "cell_type": "code",
      "metadata": {
        "id": "AJz7fe1F6HYM"
      },
      "source": [
        "np.arange(10)"
      ],
      "execution_count": null,
      "outputs": []
    },
    {
      "cell_type": "markdown",
      "metadata": {
        "id": "YVXIAt766HYO"
      },
      "source": [
        "- np.arange(시작, 끝, step): step에 실수도 가능.(파이썬 list에서는 정수만 가능)"
      ]
    },
    {
      "cell_type": "code",
      "metadata": {
        "id": "-eYCAj2J6HYP"
      },
      "source": [
        "np.arange(0, 5, 0.5) "
      ],
      "execution_count": null,
      "outputs": []
    },
    {
      "cell_type": "code",
      "metadata": {
        "id": "wgBDiYdD6HYS"
      },
      "source": [
        "np.arange(30).reshape(-1, 6)"
      ],
      "execution_count": null,
      "outputs": []
    },
    {
      "cell_type": "markdown",
      "metadata": {
        "id": "L0wBaYiA6HYV"
      },
      "source": [
        "#### 나. zeros\n",
        "- 0으로 가득찬 ndarray 생성"
      ]
    },
    {
      "cell_type": "code",
      "metadata": {
        "id": "dO0E3wNx6HYW"
      },
      "source": [
        "np.zeros(shape=(10,), dtype=int)"
      ],
      "execution_count": null,
      "outputs": []
    },
    {
      "cell_type": "code",
      "metadata": {
        "id": "isMJbdnq6HYZ"
      },
      "source": [
        "np.zeros((2,5))"
      ],
      "execution_count": null,
      "outputs": []
    },
    {
      "cell_type": "markdown",
      "metadata": {
        "id": "DjqI9Hbp6HYc"
      },
      "source": [
        "#### 다. ones\n",
        "- 1로 가득찬 ndarray 생성"
      ]
    },
    {
      "cell_type": "code",
      "metadata": {
        "id": "QBiJKBiu6HYc"
      },
      "source": [
        "np.ones(shape=(10,), dtype=float)"
      ],
      "execution_count": null,
      "outputs": []
    },
    {
      "cell_type": "markdown",
      "metadata": {
        "id": "4T6fAvX66HYh"
      },
      "source": [
        "#### 다. empty\n",
        "- shape만 주어지고 비어있는 ndarray 생성(메모리 초기화 안됨)"
      ]
    },
    {
      "cell_type": "code",
      "metadata": {
        "id": "7vZo_7oW6HYh"
      },
      "source": [
        "np.empty((3, 5), dtype=int)"
      ],
      "execution_count": null,
      "outputs": []
    },
    {
      "cell_type": "markdown",
      "metadata": {
        "id": "h7j-M0H96HYl"
      },
      "source": [
        "#### 라. something_like\n",
        "- 기존 ndarray의 shape크기만큼 (zeros, ones, empty)배열을 반환"
      ]
    },
    {
      "cell_type": "code",
      "metadata": {
        "id": "LdHy1aRX6HYo"
      },
      "source": [
        "arr3 = np.arange(30).reshape(5, 6)\n",
        "np.ones_like(arr3)"
      ],
      "execution_count": null,
      "outputs": []
    },
    {
      "cell_type": "markdown",
      "metadata": {
        "id": "kk8Zwb0I6HYr"
      },
      "source": [
        "#### 마. identity\n",
        "- 단위 행렬을 생성"
      ]
    },
    {
      "cell_type": "code",
      "metadata": {
        "id": "Fr9znmrP6HYs"
      },
      "source": [
        "np.identity(n=3, dtype=int)"
      ],
      "execution_count": null,
      "outputs": []
    },
    {
      "cell_type": "markdown",
      "metadata": {
        "id": "iq9A5g1M6HYu"
      },
      "source": [
        "#### 바. eye\n",
        "- 대각선이 1인 행렬, k값의 시작 index변경 가능"
      ]
    },
    {
      "cell_type": "code",
      "metadata": {
        "id": "D2mXrgg56HYv"
      },
      "source": [
        "np.eye(N=3, M=5, dtype=int)"
      ],
      "execution_count": null,
      "outputs": []
    },
    {
      "cell_type": "code",
      "metadata": {
        "id": "FW2mZqEA6HYy"
      },
      "source": [
        "np.eye(3)"
      ],
      "execution_count": null,
      "outputs": []
    },
    {
      "cell_type": "code",
      "metadata": {
        "id": "nZTYCbH56HY2"
      },
      "source": [
        "np.eye(3, 5, k=2) # k = 시작 index"
      ],
      "execution_count": null,
      "outputs": []
    },
    {
      "cell_type": "markdown",
      "metadata": {
        "id": "bL05WseC6HY7"
      },
      "source": [
        "#### 사. diag\n",
        "- 대각 행렬의 값을 추출함\n"
      ]
    },
    {
      "cell_type": "code",
      "metadata": {
        "id": "3kPxAWQF6HY8"
      },
      "source": [
        "arr4 = np.arange(9).reshape(3, 3)\n",
        "arr4"
      ],
      "execution_count": null,
      "outputs": []
    },
    {
      "cell_type": "code",
      "metadata": {
        "id": "1vD7gyuS6HZB"
      },
      "source": [
        "np.diag(arr4)"
      ],
      "execution_count": null,
      "outputs": []
    },
    {
      "cell_type": "markdown",
      "metadata": {
        "id": "SRBZvCEj6HZG"
      },
      "source": [
        "#### 아. random sampling\n",
        "- 데이터 분포에 따른 sampling으로 배열 생성\n",
        "\n",
        "- 균등분포(uniform): 0~1사이의 각 숫자가 나타날 확률이 균등한 분포. 일반적으로 난수생성기가 만들어주는 방식."
      ]
    },
    {
      "cell_type": "code",
      "metadata": {
        "id": "CZ9ONhmX6HZH"
      },
      "source": [
        "np.random.uniform(0, 1, 12).reshape(-1, 3) # 균등분포"
      ],
      "execution_count": null,
      "outputs": []
    },
    {
      "cell_type": "markdown",
      "metadata": {
        "id": "2F5ZXkcv6HZL"
      },
      "source": [
        "- 정규분포(normal): 0~1사이의 각 숫자가 나타날 확률이 엎어진 종모양을 따르는 분포. 우리 일상생활에서 많이 사용됨."
      ]
    },
    {
      "cell_type": "code",
      "metadata": {
        "id": "QkVzyUcr6HZM"
      },
      "source": [
        "np.random.normal(0, 1, 12).reshape(-1, 3) # 정규분포"
      ],
      "execution_count": null,
      "outputs": []
    },
    {
      "cell_type": "markdown",
      "metadata": {
        "id": "3_DO6uIF6HZO"
      },
      "source": [
        "## 6. 배열 합치고 쪼개기\n",
        "\n",
        "#### 1. vstack & hstack\n",
        "![hstack](https://img1.daumcdn.net/thumb/R1280x0/?scode=mtistory2&fname=https%3A%2F%2Fk.kakaocdn.net%2Fdn%2FmYx7F%2FbtqDgyGB701%2FQtSfB44Q3vhAaGtzUjE2g0%2Fimg.png)"
      ]
    },
    {
      "cell_type": "code",
      "metadata": {
        "id": "rpOyktv56HZP"
      },
      "source": [
        "a = np.array([1, 2, 3])\n",
        "b = np.array([2, 3, 4])\n",
        "c = np.vstack((a, b))\n",
        "c"
      ],
      "execution_count": null,
      "outputs": []
    },
    {
      "cell_type": "code",
      "metadata": {
        "id": "B_Q_g9EV6HZT"
      },
      "source": [
        "a = np.array([[1],[2],[3]])\n",
        "b = np.array([[2],[3],[4]])\n",
        "c = np.hstack((a, b))\n",
        "c"
      ],
      "execution_count": null,
      "outputs": []
    },
    {
      "cell_type": "markdown",
      "metadata": {
        "id": "DL0_Ubhg6HZW"
      },
      "source": [
        "#### 나. concatenate"
      ]
    },
    {
      "cell_type": "code",
      "metadata": {
        "id": "jQATgQKJ6HZW"
      },
      "source": [
        "a = np.array([1, 2, 3])\n",
        "b = np.array([2, 3, 4])\n",
        "np.concatenate((a, b))"
      ],
      "execution_count": null,
      "outputs": []
    },
    {
      "cell_type": "markdown",
      "metadata": {
        "id": "c8ytMHAY6HZY"
      },
      "source": [
        "#### 다. 배열 연산"
      ]
    },
    {
      "cell_type": "code",
      "metadata": {
        "id": "E-0BEz9d6HZZ"
      },
      "source": [
        "a = np.array([[1,2,3],[4,5,6]])\n",
        "a"
      ],
      "execution_count": null,
      "outputs": []
    },
    {
      "cell_type": "code",
      "metadata": {
        "id": "kLmOPORi6HZb"
      },
      "source": [
        "a + a"
      ],
      "execution_count": null,
      "outputs": []
    },
    {
      "cell_type": "code",
      "metadata": {
        "id": "p0f8hbA16HZe"
      },
      "source": [
        "a - a"
      ],
      "execution_count": null,
      "outputs": []
    },
    {
      "cell_type": "code",
      "metadata": {
        "id": "oyTxziZx6HZj"
      },
      "source": [
        "a * a"
      ],
      "execution_count": null,
      "outputs": []
    },
    {
      "cell_type": "markdown",
      "metadata": {
        "id": "nYmG6agW6HZq"
      },
      "source": [
        "#### 라. Dot product 연산\n",
        "![dot](https://img1.daumcdn.net/thumb/R1280x0/?scode=mtistory2&fname=https%3A%2F%2Fk.kakaocdn.net%2Fdn%2FEeRjx%2FbtqDg4rHzNl%2FrZOINeS4Pl0XGgKHoVZHp0%2Fimg.png)"
      ]
    },
    {
      "cell_type": "code",
      "metadata": {
        "id": "YsxHbVTL6HZq"
      },
      "source": [
        "a = np.arange(1,7).reshape(2,3)\n",
        "b = np.arange(7,13).reshape(3,2)\n",
        "a.dot(b)"
      ],
      "execution_count": null,
      "outputs": []
    },
    {
      "cell_type": "markdown",
      "metadata": {
        "id": "kZV_p1pK6HZv"
      },
      "source": [
        "#### 마. transpose\n",
        "- 전치행렬\n",
        "- T 속성으로도 구현가능"
      ]
    },
    {
      "cell_type": "code",
      "metadata": {
        "id": "quA_cvXx6HZx"
      },
      "source": [
        "a = np.arange(1,7).reshape(2,3)\n",
        "a"
      ],
      "execution_count": null,
      "outputs": []
    },
    {
      "cell_type": "code",
      "metadata": {
        "id": "i2r6_TNz6HZ0"
      },
      "source": [
        "a.transpose()"
      ],
      "execution_count": null,
      "outputs": []
    },
    {
      "cell_type": "code",
      "metadata": {
        "id": "RMuTtP4J6HZ3"
      },
      "source": [
        "a.T"
      ],
      "execution_count": null,
      "outputs": []
    },
    {
      "cell_type": "markdown",
      "metadata": {
        "id": "z8fM6fwp6HZ6"
      },
      "source": [
        "#### 바. broadcasting\n",
        "- shape이 다른 배열끼리 연산하는 방법\n",
        "\n",
        "![broad](https://img1.daumcdn.net/thumb/R1280x0/?scode=mtistory2&fname=https%3A%2F%2Fk.kakaocdn.net%2Fdn%2FHOXdN%2FbtqDj2zfDOB%2FnnKQwuDShJKcOHpOrL39P1%2Fimg.png)"
      ]
    },
    {
      "cell_type": "code",
      "metadata": {
        "id": "y9l3_8DZ6HZ6"
      },
      "source": [
        "a = np.arange(1,7).reshape(2,3)\n",
        "scalar = 3\n",
        "a + scalar"
      ],
      "execution_count": null,
      "outputs": []
    },
    {
      "cell_type": "code",
      "metadata": {
        "id": "57VmbXnU6HZ9"
      },
      "source": [
        "a - scalar"
      ],
      "execution_count": null,
      "outputs": []
    },
    {
      "cell_type": "code",
      "metadata": {
        "id": "2knIHFGp6HaD"
      },
      "source": [
        "a * scalar"
      ],
      "execution_count": null,
      "outputs": []
    },
    {
      "cell_type": "code",
      "metadata": {
        "id": "8n8h6j1d6HaG"
      },
      "source": [
        "a ** 2"
      ],
      "execution_count": null,
      "outputs": []
    },
    {
      "cell_type": "markdown",
      "metadata": {
        "id": "t--XajrW6HaI"
      },
      "source": [
        "- scalar외에 vector, matrix간 연산도 지원\n",
        "\n",
        "![broad1](https://img1.daumcdn.net/thumb/R1280x0/?scode=mtistory2&fname=https%3A%2F%2Fk.kakaocdn.net%2Fdn%2F7o6FU%2FbtqDiE6Zwdi%2FhE2j9MT59PhDwVN7eiL390%2Fimg.png)"
      ]
    },
    {
      "cell_type": "code",
      "metadata": {
        "id": "mnhVXgJu6HaI"
      },
      "source": [
        "a = np.array([[0],[10],[20],[30]])\n",
        "b = np.array([0, 1, 2])\n",
        "a + b"
      ],
      "execution_count": null,
      "outputs": []
    },
    {
      "cell_type": "markdown",
      "metadata": {
        "id": "aLVhhKpZ6HaK"
      },
      "source": [
        "## 7. 수학 통계 함수\n",
        "\n",
        "#### 가. sum\n",
        "- 요소 값들의 합을 구함. "
      ]
    },
    {
      "cell_type": "code",
      "metadata": {
        "id": "8aAk__n86HaK"
      },
      "source": [
        "arr5 = np.arange(1, 13).reshape(3, 4)\n",
        "arr5"
      ],
      "execution_count": null,
      "outputs": []
    },
    {
      "cell_type": "code",
      "metadata": {
        "id": "xPd_vGx66HaM"
      },
      "source": [
        "np.sum(arr5, dtype=float)"
      ],
      "execution_count": null,
      "outputs": []
    },
    {
      "cell_type": "markdown",
      "metadata": {
        "id": "fAFH7guK6HaO"
      },
      "source": [
        "#### 나. axis\n",
        "- 모든 함수를 실행할 때, 기준이 되는 dimension 축\n",
        "\n",
        "![axis1](https://img1.daumcdn.net/thumb/R1280x0/?scode=mtistory2&fname=https%3A%2F%2Fk.kakaocdn.net%2Fdn%2Fbz8dxL%2FbtqDjH3cJc8%2FTWvYY8HUSxUJLeG2wslWOk%2Fimg.png)\n",
        "\n",
        "- tip: 1차원에서 2차원배열이 될때 추가되는 축이 axis=0이 됨"
      ]
    },
    {
      "cell_type": "code",
      "metadata": {
        "id": "VoAzMC4J6HaO"
      },
      "source": [
        "np.sum(arr5, axis=1)"
      ],
      "execution_count": null,
      "outputs": []
    },
    {
      "cell_type": "code",
      "metadata": {
        "id": "LzJCI9si6HaQ"
      },
      "source": [
        "np.sum(arr5, axis=0)"
      ],
      "execution_count": null,
      "outputs": []
    },
    {
      "cell_type": "markdown",
      "metadata": {
        "id": "OcrkeWjY6HaS"
      },
      "source": [
        "![axis2](https://img1.daumcdn.net/thumb/R1280x0/?scode=mtistory2&fname=https%3A%2F%2Fk.kakaocdn.net%2Fdn%2Fb6On6z%2FbtqDjfeL7Kv%2F7RmgbvyPQAMdSSFShqYKs1%2Fimg.png)"
      ]
    },
    {
      "cell_type": "code",
      "metadata": {
        "id": "MEcxXY2-6HaS"
      },
      "source": [
        "arr5.reshape(3,2,2) # 3차원으로 변경"
      ],
      "execution_count": null,
      "outputs": []
    },
    {
      "cell_type": "code",
      "metadata": {
        "id": "uSVqSJJq6HaU"
      },
      "source": [
        "np.sum(arr5.reshape(3,2,2),axis=0)"
      ],
      "execution_count": null,
      "outputs": []
    },
    {
      "cell_type": "code",
      "metadata": {
        "id": "Eumh1CPd6HaW"
      },
      "source": [
        "np.sum(arr5.reshape(3,2,2),axis=1)"
      ],
      "execution_count": null,
      "outputs": []
    },
    {
      "cell_type": "code",
      "metadata": {
        "id": "D5ZDEEFa6HaZ"
      },
      "source": [
        "np.sum(arr5.reshape(3,2,2),axis=2)"
      ],
      "execution_count": null,
      "outputs": []
    },
    {
      "cell_type": "markdown",
      "metadata": {
        "id": "_OZJerZ36Hab"
      },
      "source": [
        "#### 다. 기초 통계 함수"
      ]
    },
    {
      "cell_type": "code",
      "metadata": {
        "id": "mKf3OtDp6Hac"
      },
      "source": [
        "np.mean(arr5) # 평균\n",
        "\n",
        "np.mean(arr5, axis=0) # 평균구할때 축 기준 넣기\n",
        "\n",
        "np.std(arr5) # 표준편차\n",
        "\n",
        "np.var(arr5) # 분산\n",
        "\n",
        "np.max(arr5), np.min(arr5) # 최대값, 최소값\n",
        "np.argmax(arr5), np.argmin(arr5) # 최대값의 위치, 최소값의 위치\n",
        "\n",
        "np.median(arr5) # 중앙값\n",
        "\n",
        "np.percentile(arr5, 25) # 1사분위 수\n",
        "\n",
        "np.percentile(arr5, 50) # 2사분위 수=중앙값\n",
        "\n",
        "np.percentile(arr5, 75) # 3사분위 수"
      ],
      "execution_count": null,
      "outputs": []
    },
    {
      "cell_type": "markdown",
      "metadata": {
        "id": "5wwf_Z0t6Had"
      },
      "source": [
        "#### 라. 수학관련 함수\n",
        "- np.something 방식으로 호출\n",
        "- exp, log, power, sqrt 등 \n"
      ]
    },
    {
      "cell_type": "code",
      "metadata": {
        "id": "Uzhh-cBs6Hae"
      },
      "source": [
        "np.exp(arr5)"
      ],
      "execution_count": null,
      "outputs": []
    },
    {
      "cell_type": "markdown",
      "metadata": {
        "id": "uHHHhK616Haj"
      },
      "source": [
        "## 8. 기타\n",
        "\n",
        "#### 가. all & any"
      ]
    },
    {
      "cell_type": "code",
      "metadata": {
        "id": "vk1anPbn6Hak"
      },
      "source": [
        "arr6 = np.arange(10)\n",
        "arr6"
      ],
      "execution_count": null,
      "outputs": []
    },
    {
      "cell_type": "code",
      "metadata": {
        "id": "fphmUUdS6Ham"
      },
      "source": [
        "np.all(arr6<10) # 원소 모두가 조건 만족하면 True"
      ],
      "execution_count": null,
      "outputs": []
    },
    {
      "cell_type": "code",
      "metadata": {
        "id": "lrfI5-696Hao"
      },
      "source": [
        "np.all(arr6) # 0은 거짓, 0이 아닌 값은 참"
      ],
      "execution_count": null,
      "outputs": []
    },
    {
      "cell_type": "code",
      "metadata": {
        "id": "QR_UmB0i6Hap"
      },
      "source": [
        "np.any(arr6>5) # 각 요소가 하나라도 조건에 맞으면 True"
      ],
      "execution_count": null,
      "outputs": []
    },
    {
      "cell_type": "markdown",
      "metadata": {
        "id": "WmfW7lo06Hat"
      },
      "source": [
        "나. 비교"
      ]
    },
    {
      "cell_type": "code",
      "metadata": {
        "id": "H6MILChk6Hat"
      },
      "source": [
        "temp1 = np.array([1, 3, 0])\n",
        "temp2 = np.array([5, 2, 0])\n",
        "temp1 > temp2  # 각 요소끼리 비교 결과를 boolean 타입으로 반환"
      ],
      "execution_count": null,
      "outputs": []
    },
    {
      "cell_type": "code",
      "metadata": {
        "id": "G1XoVYHO6Haw"
      },
      "source": [
        "temp1 == temp2"
      ],
      "execution_count": null,
      "outputs": []
    },
    {
      "cell_type": "code",
      "metadata": {
        "id": "P1t-ERtk6Hay"
      },
      "source": [
        "(temp1 > temp2).any()"
      ],
      "execution_count": null,
      "outputs": []
    },
    {
      "cell_type": "code",
      "metadata": {
        "id": "tEK9Z8PO6Ha0"
      },
      "source": [
        "temp1 > 2"
      ],
      "execution_count": null,
      "outputs": []
    },
    {
      "cell_type": "markdown",
      "metadata": {
        "id": "v4GeaP_96Ha5"
      },
      "source": [
        "#### 다. where"
      ]
    },
    {
      "cell_type": "code",
      "metadata": {
        "id": "9YFH5qtM6Ha5"
      },
      "source": [
        "temp4 = np.array([10,20,30,40,50,60])\n",
        "temp4"
      ],
      "execution_count": null,
      "outputs": []
    },
    {
      "cell_type": "code",
      "metadata": {
        "id": "qile9-Er6Ha7"
      },
      "source": [
        "np.where(temp4 < 35) # index 값 반환"
      ],
      "execution_count": null,
      "outputs": []
    },
    {
      "cell_type": "code",
      "metadata": {
        "id": "0sHyj9J96Ha8"
      },
      "source": [
        "np.where(temp4 > 10, 1, 0) # where(condition, True, False)"
      ],
      "execution_count": null,
      "outputs": []
    },
    {
      "cell_type": "markdown",
      "metadata": {
        "id": "i-g6f1Z36Ha-"
      },
      "source": [
        "#### 라. 부정형 값"
      ]
    },
    {
      "cell_type": "code",
      "metadata": {
        "id": "cA7ey-OU6Ha-"
      },
      "source": [
        "temp3 = np.array([1, np.NaN, np.Inf]) # Not a number & Infinite number\n",
        "temp3"
      ],
      "execution_count": null,
      "outputs": []
    },
    {
      "cell_type": "code",
      "metadata": {
        "id": "oFAls55w6HbA"
      },
      "source": [
        "np.isnan(temp3) # Not a number가 있는지 체크"
      ],
      "execution_count": null,
      "outputs": []
    },
    {
      "cell_type": "code",
      "metadata": {
        "id": "mUdBeYBt6HbC"
      },
      "source": [
        "np.isfinite(temp3) # 유한값이 있는지 체크"
      ],
      "execution_count": null,
      "outputs": []
    },
    {
      "cell_type": "markdown",
      "metadata": {
        "id": "Ik9rKXHx6HbE"
      },
      "source": [
        "#### 마. boolean 인덱싱"
      ]
    },
    {
      "cell_type": "code",
      "metadata": {
        "id": "BejGVF7x6HbE"
      },
      "source": [
        "temp4"
      ],
      "execution_count": null,
      "outputs": []
    },
    {
      "cell_type": "code",
      "metadata": {
        "id": "uGJ37JWH6HbG"
      },
      "source": [
        "temp4[temp4 > 35] # 조건이 True인 요소만 추출"
      ],
      "execution_count": null,
      "outputs": []
    },
    {
      "cell_type": "markdown",
      "metadata": {
        "id": "JJf_syMt6HbI"
      },
      "source": [
        "#### 바. fancy 인덱싱"
      ]
    },
    {
      "cell_type": "code",
      "metadata": {
        "id": "baqgZsX76HbI"
      },
      "source": [
        "temp5 = np.array([2, 4, 6, 8])\n",
        "temp6 = np.array([0,0,3,2,1,2], int) # temp5가 가진 인덱스만으로 반드시 int로 선언\n",
        "temp5[temp6] # temp6의 요소를 temp5의 인덱스로 받아서 해당 값들을 배열로 반환"
      ],
      "execution_count": null,
      "outputs": []
    },
    {
      "cell_type": "markdown",
      "metadata": {
        "id": "43MjJ55o6HbJ"
      },
      "source": [
        "## 9. Numpy 파일 입출력\n",
        "\n",
        "#### 가. loadtxt & savetxt"
      ]
    },
    {
      "cell_type": "code",
      "metadata": {
        "id": "adC3oW4x6HbK"
      },
      "source": [
        "data = np.loadtxt('ratings.csv', delimiter=',', skiprows=1)"
      ],
      "execution_count": null,
      "outputs": []
    },
    {
      "cell_type": "code",
      "metadata": {
        "id": "B2YsrTIK6HbL"
      },
      "source": [
        "np.savetxt('result.csv', data, delimiter=',')"
      ],
      "execution_count": null,
      "outputs": []
    },
    {
      "cell_type": "markdown",
      "metadata": {
        "id": "4JXEH7Cj6HbN"
      },
      "source": [
        "#### 나. load & save\n",
        "- Numpy object(pickle) 형태로 데이터를 저장하고 불러옴.\n",
        "- Binary파일 형태로 저장"
      ]
    },
    {
      "cell_type": "code",
      "metadata": {
        "id": "32X7tAKn6HbN"
      },
      "source": [
        "np.save('test_npy', arr=temp6)"
      ],
      "execution_count": null,
      "outputs": []
    },
    {
      "cell_type": "code",
      "metadata": {
        "id": "p3RLwVzg6HbO"
      },
      "source": [
        "npy = np.load('test_npy.npy')\n",
        "npy"
      ],
      "execution_count": null,
      "outputs": []
    },
    {
      "cell_type": "markdown",
      "metadata": {
        "id": "IZzwOmtB6HbS"
      },
      "source": [
        "> 위에서 특별히 언급되지 않은 이미지는 다음 출처: https://www.edwith.org/aipython/joinLectures/27853"
      ]
    }
  ]
}
{
  "nbformat": 4,
  "nbformat_minor": 0,
  "metadata": {
    "accelerator": "TPU",
    "colab": {
      "name": "수업머신러닝_분류1(결정트리).ipynb",
      "provenance": [],
      "collapsed_sections": [],
      "toc_visible": true,
      "include_colab_link": true
    },
    "kernelspec": {
      "display_name": "Python 3",
      "language": "python",
      "name": "python3"
    },
    "language_info": {
      "codemirror_mode": {
        "name": "ipython",
        "version": 3
      },
      "file_extension": ".py",
      "mimetype": "text/x-python",
      "name": "python",
      "nbconvert_exporter": "python",
      "pygments_lexer": "ipython3",
      "version": "3.7.3"
    }
  },
  "cells": [
    {
      "cell_type": "markdown",
      "metadata": {
        "id": "view-in-github",
        "colab_type": "text"
      },
      "source": [
        "<a href=\"https://colab.research.google.com/github/rivkms/2021_sw_exam/blob/main/%EC%88%98%EC%97%85%EB%A8%B8%EC%8B%A0%EB%9F%AC%EB%8B%9D_%EB%B6%84%EB%A5%981(%EA%B2%B0%EC%A0%95%ED%8A%B8%EB%A6%AC)%20%EA%B3%BC%EC%A0%9C%EC%A0%9C%EC%B6%9C%EC%9A%A9.ipynb\" target=\"_parent\"><img src=\"https://colab.research.google.com/assets/colab-badge.svg\" alt=\"Open In Colab\"/></a>"
      ]
    },
    {
      "cell_type": "markdown",
      "metadata": {
        "id": "j5EWB_sYbVCZ"
      },
      "source": [
        "## 1. 머신러닝 프로세스\n",
        "\n",
        "\n",
        "\n",
        "> 문제 정의 -> 데이터 수집 -> 데이터 전처리 -> 모델 학습 -> 모델 예측 및 평가\n",
        "\n"
      ]
    },
    {
      "cell_type": "markdown",
      "metadata": {
        "id": "EK6fa7KtbdDt"
      },
      "source": [
        "----------------\n",
        "## [Live Coding] 동물 분류하기(feat. 결정트리 모델)\n",
        "\n",
        "### 1. 문제 정의(분류 문제)\n",
        "- 우리가 사용할 데이터는 동물의 특성과 동물의 종류를 담은 데이터셋으로 동물의 특성을 학습한 후 이를 통해 어떤 동물인지 예측하는 문제.\n",
        "- 데이터에 대한 설명은 https://www.kaggle.com/uciml/zoo-animal-classification 에 서술되어 있다.\n",
        "\n",
        "### 2. 데이터 수집(캐글 데이터셋 이용)"
      ]
    },
    {
      "cell_type": "code",
      "metadata": {
        "colab": {
          "resources": {
            "http://localhost:8080/nbextensions/google.colab/files.js": {
              "data": "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",
              "ok": true,
              "headers": [
                [
                  "content-type",
                  "application/javascript"
                ]
              ],
              "status": 200,
              "status_text": ""
            }
          },
          "base_uri": "https://localhost:8080/",
          "height": 287
        },
        "id": "Wzc7dilrM56I",
        "outputId": "07c77539-232f-4b5c-9710-be0cbd89ef1b"
      },
      "source": [
        "# 캐글과 코랩 연동을 위한 kaggle.jason 파일(캐글-My Account에서 다운로드) 업로드\n",
        "!pip install kaggle\n",
        "from google.colab import files\n",
        "files.upload()"
      ],
      "execution_count": null,
      "outputs": [
        {
          "output_type": "stream",
          "text": [
            "Requirement already satisfied: kaggle in /usr/local/lib/python3.7/dist-packages (1.5.10)\n",
            "Requirement already satisfied: python-dateutil in /usr/local/lib/python3.7/dist-packages (from kaggle) (2.8.1)\n",
            "Requirement already satisfied: python-slugify in /usr/local/lib/python3.7/dist-packages (from kaggle) (4.0.1)\n",
            "Requirement already satisfied: urllib3 in /usr/local/lib/python3.7/dist-packages (from kaggle) (1.24.3)\n",
            "Requirement already satisfied: requests in /usr/local/lib/python3.7/dist-packages (from kaggle) (2.23.0)\n",
            "Requirement already satisfied: certifi in /usr/local/lib/python3.7/dist-packages (from kaggle) (2020.12.5)\n",
            "Requirement already satisfied: tqdm in /usr/local/lib/python3.7/dist-packages (from kaggle) (4.41.1)\n",
            "Requirement already satisfied: six>=1.10 in /usr/local/lib/python3.7/dist-packages (from kaggle) (1.15.0)\n",
            "Requirement already satisfied: text-unidecode>=1.3 in /usr/local/lib/python3.7/dist-packages (from python-slugify->kaggle) (1.3)\n",
            "Requirement already satisfied: chardet<4,>=3.0.2 in /usr/local/lib/python3.7/dist-packages (from requests->kaggle) (3.0.4)\n",
            "Requirement already satisfied: idna<3,>=2.5 in /usr/local/lib/python3.7/dist-packages (from requests->kaggle) (2.10)\n"
          ],
          "name": "stdout"
        },
        {
          "output_type": "display_data",
          "data": {
            "text/html": [
              "\n",
              "     <input type=\"file\" id=\"files-d16040f5-4dcf-43b8-97c4-1175a67496dd\" name=\"files[]\" multiple disabled\n",
              "        style=\"border:none\" />\n",
              "     <output id=\"result-d16040f5-4dcf-43b8-97c4-1175a67496dd\">\n",
              "      Upload widget is only available when the cell has been executed in the\n",
              "      current browser session. Please rerun this cell to enable.\n",
              "      </output>\n",
              "      <script src=\"/nbextensions/google.colab/files.js\"></script> "
            ],
            "text/plain": [
              "<IPython.core.display.HTML object>"
            ]
          },
          "metadata": {
            "tags": []
          }
        },
        {
          "output_type": "stream",
          "text": [
            "Saving kaggle.json to kaggle (1).json\n"
          ],
          "name": "stdout"
        },
        {
          "output_type": "execute_result",
          "data": {
            "text/plain": [
              "{'kaggle.json': b'{\"username\":\"rivmsk\",\"key\":\"44785b015bcf0f2c0006647fe333e1ed\"}'}"
            ]
          },
          "metadata": {
            "tags": []
          },
          "execution_count": 1
        }
      ]
    },
    {
      "cell_type": "code",
      "metadata": {
        "id": "1soS41T1Mx1O"
      },
      "source": [
        "# kaggle.json 파일을 적절한 디렉토리로 이동\n",
        "!mkdir -p ~/.kaggle\n",
        "!cp kaggle.json ~/.kaggle/\n",
        "\n",
        "# Permission Warning 이 일어나지 않도록 함 \n",
        "!chmod 600 ~/.kaggle/kaggle.json"
      ],
      "execution_count": null,
      "outputs": []
    },
    {
      "cell_type": "code",
      "metadata": {
        "colab": {
          "base_uri": "https://localhost:8080/"
        },
        "id": "hCFcw0N0eup8",
        "outputId": "549550a0-7c13-40ec-989f-8c8612651acf"
      },
      "source": [
        "# zoo-animal-classification 데이터셋 다운로드\n",
        "!kaggle datasets download -d uciml/zoo-animal-classification"
      ],
      "execution_count": null,
      "outputs": [
        {
          "output_type": "stream",
          "text": [
            "Downloading zoo-animal-classification.zip to /content\n",
            "\r  0% 0.00/1.85k [00:00<?, ?B/s]\n",
            "\r100% 1.85k/1.85k [00:00<00:00, 3.05MB/s]\n"
          ],
          "name": "stdout"
        }
      ]
    },
    {
      "cell_type": "code",
      "metadata": {
        "colab": {
          "base_uri": "https://localhost:8080/"
        },
        "id": "38H7JaIMfRUd",
        "outputId": "8b34712a-df5f-48f7-b470-8f72d2744fac"
      },
      "source": [
        "# zip파일 압축 해제 후 현재 디렉토리의 파일 리스트 보기\n",
        "!unzip zoo-animal-classification.zip\n",
        "!ls"
      ],
      "execution_count": null,
      "outputs": [
        {
          "output_type": "stream",
          "text": [
            "Archive:  zoo-animal-classification.zip\n",
            "replace class.csv? [y]es, [n]o, [A]ll, [N]one, [r]ename: no\n",
            "replace zoo.csv? [y]es, [n]o, [A]ll, [N]one, [r]ename: no\n",
            "class.csv     kaggle.json  zoo-animal-classification.zip\n",
            "diabetes.csv  sample_data  zoo.csv\n"
          ],
          "name": "stdout"
        }
      ]
    },
    {
      "cell_type": "markdown",
      "metadata": {
        "id": "LoEXCGl4V54c"
      },
      "source": [
        "### 3. 데이터 전처리"
      ]
    },
    {
      "cell_type": "code",
      "metadata": {
        "colab": {
          "base_uri": "https://localhost:8080/",
          "height": 215
        },
        "id": "j4aoKlP0fduQ",
        "outputId": "c085c143-b044-4024-f116-138d40567498"
      },
      "source": [
        "import numpy as np\n",
        "import pandas as pd\n",
        "\n",
        "# csv 파일을 pandas dataframe으로 읽기\n",
        "data = pd.read_csv('zoo.csv')\n",
        "\n",
        "# 상위 5개 행 출력\n",
        "data.head()"
      ],
      "execution_count": null,
      "outputs": [
        {
          "output_type": "execute_result",
          "data": {
            "text/html": [
              "<div>\n",
              "<style scoped>\n",
              "    .dataframe tbody tr th:only-of-type {\n",
              "        vertical-align: middle;\n",
              "    }\n",
              "\n",
              "    .dataframe tbody tr th {\n",
              "        vertical-align: top;\n",
              "    }\n",
              "\n",
              "    .dataframe thead th {\n",
              "        text-align: right;\n",
              "    }\n",
              "</style>\n",
              "<table border=\"1\" class=\"dataframe\">\n",
              "  <thead>\n",
              "    <tr style=\"text-align: right;\">\n",
              "      <th></th>\n",
              "      <th>animal_name</th>\n",
              "      <th>hair</th>\n",
              "      <th>feathers</th>\n",
              "      <th>eggs</th>\n",
              "      <th>milk</th>\n",
              "      <th>airborne</th>\n",
              "      <th>aquatic</th>\n",
              "      <th>predator</th>\n",
              "      <th>toothed</th>\n",
              "      <th>backbone</th>\n",
              "      <th>breathes</th>\n",
              "      <th>venomous</th>\n",
              "      <th>fins</th>\n",
              "      <th>legs</th>\n",
              "      <th>tail</th>\n",
              "      <th>domestic</th>\n",
              "      <th>catsize</th>\n",
              "      <th>class_type</th>\n",
              "    </tr>\n",
              "  </thead>\n",
              "  <tbody>\n",
              "    <tr>\n",
              "      <th>0</th>\n",
              "      <td>aardvark</td>\n",
              "      <td>1</td>\n",
              "      <td>0</td>\n",
              "      <td>0</td>\n",
              "      <td>1</td>\n",
              "      <td>0</td>\n",
              "      <td>0</td>\n",
              "      <td>1</td>\n",
              "      <td>1</td>\n",
              "      <td>1</td>\n",
              "      <td>1</td>\n",
              "      <td>0</td>\n",
              "      <td>0</td>\n",
              "      <td>4</td>\n",
              "      <td>0</td>\n",
              "      <td>0</td>\n",
              "      <td>1</td>\n",
              "      <td>1</td>\n",
              "    </tr>\n",
              "    <tr>\n",
              "      <th>1</th>\n",
              "      <td>antelope</td>\n",
              "      <td>1</td>\n",
              "      <td>0</td>\n",
              "      <td>0</td>\n",
              "      <td>1</td>\n",
              "      <td>0</td>\n",
              "      <td>0</td>\n",
              "      <td>0</td>\n",
              "      <td>1</td>\n",
              "      <td>1</td>\n",
              "      <td>1</td>\n",
              "      <td>0</td>\n",
              "      <td>0</td>\n",
              "      <td>4</td>\n",
              "      <td>1</td>\n",
              "      <td>0</td>\n",
              "      <td>1</td>\n",
              "      <td>1</td>\n",
              "    </tr>\n",
              "    <tr>\n",
              "      <th>2</th>\n",
              "      <td>bass</td>\n",
              "      <td>0</td>\n",
              "      <td>0</td>\n",
              "      <td>1</td>\n",
              "      <td>0</td>\n",
              "      <td>0</td>\n",
              "      <td>1</td>\n",
              "      <td>1</td>\n",
              "      <td>1</td>\n",
              "      <td>1</td>\n",
              "      <td>0</td>\n",
              "      <td>0</td>\n",
              "      <td>1</td>\n",
              "      <td>0</td>\n",
              "      <td>1</td>\n",
              "      <td>0</td>\n",
              "      <td>0</td>\n",
              "      <td>4</td>\n",
              "    </tr>\n",
              "    <tr>\n",
              "      <th>3</th>\n",
              "      <td>bear</td>\n",
              "      <td>1</td>\n",
              "      <td>0</td>\n",
              "      <td>0</td>\n",
              "      <td>1</td>\n",
              "      <td>0</td>\n",
              "      <td>0</td>\n",
              "      <td>1</td>\n",
              "      <td>1</td>\n",
              "      <td>1</td>\n",
              "      <td>1</td>\n",
              "      <td>0</td>\n",
              "      <td>0</td>\n",
              "      <td>4</td>\n",
              "      <td>0</td>\n",
              "      <td>0</td>\n",
              "      <td>1</td>\n",
              "      <td>1</td>\n",
              "    </tr>\n",
              "    <tr>\n",
              "      <th>4</th>\n",
              "      <td>boar</td>\n",
              "      <td>1</td>\n",
              "      <td>0</td>\n",
              "      <td>0</td>\n",
              "      <td>1</td>\n",
              "      <td>0</td>\n",
              "      <td>0</td>\n",
              "      <td>1</td>\n",
              "      <td>1</td>\n",
              "      <td>1</td>\n",
              "      <td>1</td>\n",
              "      <td>0</td>\n",
              "      <td>0</td>\n",
              "      <td>4</td>\n",
              "      <td>1</td>\n",
              "      <td>0</td>\n",
              "      <td>1</td>\n",
              "      <td>1</td>\n",
              "    </tr>\n",
              "  </tbody>\n",
              "</table>\n",
              "</div>"
            ],
            "text/plain": [
              "  animal_name  hair  feathers  eggs  ...  tail  domestic  catsize  class_type\n",
              "0    aardvark     1         0     0  ...     0         0        1           1\n",
              "1    antelope     1         0     0  ...     1         0        1           1\n",
              "2        bass     0         0     1  ...     1         0        0           4\n",
              "3        bear     1         0     0  ...     0         0        1           1\n",
              "4        boar     1         0     0  ...     1         0        1           1\n",
              "\n",
              "[5 rows x 18 columns]"
            ]
          },
          "metadata": {
            "tags": []
          },
          "execution_count": 15
        }
      ]
    },
    {
      "cell_type": "code",
      "metadata": {
        "colab": {
          "base_uri": "https://localhost:8080/"
        },
        "id": "MwafOh7Ojd1y",
        "outputId": "eebee0f3-5dd1-4336-a8c8-0248427879f4"
      },
      "source": [
        "# 데이터 정보 요약\n",
        "data.info()"
      ],
      "execution_count": null,
      "outputs": [
        {
          "output_type": "stream",
          "text": [
            "<class 'pandas.core.frame.DataFrame'>\n",
            "RangeIndex: 101 entries, 0 to 100\n",
            "Data columns (total 18 columns):\n",
            " #   Column       Non-Null Count  Dtype \n",
            "---  ------       --------------  ----- \n",
            " 0   animal_name  101 non-null    object\n",
            " 1   hair         101 non-null    int64 \n",
            " 2   feathers     101 non-null    int64 \n",
            " 3   eggs         101 non-null    int64 \n",
            " 4   milk         101 non-null    int64 \n",
            " 5   airborne     101 non-null    int64 \n",
            " 6   aquatic      101 non-null    int64 \n",
            " 7   predator     101 non-null    int64 \n",
            " 8   toothed      101 non-null    int64 \n",
            " 9   backbone     101 non-null    int64 \n",
            " 10  breathes     101 non-null    int64 \n",
            " 11  venomous     101 non-null    int64 \n",
            " 12  fins         101 non-null    int64 \n",
            " 13  legs         101 non-null    int64 \n",
            " 14  tail         101 non-null    int64 \n",
            " 15  domestic     101 non-null    int64 \n",
            " 16  catsize      101 non-null    int64 \n",
            " 17  class_type   101 non-null    int64 \n",
            "dtypes: int64(17), object(1)\n",
            "memory usage: 14.3+ KB\n"
          ],
          "name": "stdout"
        }
      ]
    },
    {
      "cell_type": "code",
      "metadata": {
        "colab": {
          "base_uri": "https://localhost:8080/",
          "height": 421
        },
        "id": "4_ORTqrzWuVR",
        "outputId": "9f9eff3c-4fa9-465e-8348-6ab4a33b7ef1"
      },
      "source": [
        "# 클래스 별 데이터 개수 확인\n",
        "import seaborn as sns\n",
        "%matplotlib inline\n",
        "\n",
        "sns.countplot(data=data, x=\"class_type\")\n",
        "data.loc[:,'class_type'].value_counts()"
      ],
      "execution_count": null,
      "outputs": [
        {
          "output_type": "execute_result",
          "data": {
            "text/plain": [
              "1    41\n",
              "2    20\n",
              "4    13\n",
              "7    10\n",
              "6     8\n",
              "3     5\n",
              "5     4\n",
              "Name: class_type, dtype: int64"
            ]
          },
          "metadata": {
            "tags": []
          },
          "execution_count": 17
        },
        {
          "output_type": "display_data",
          "data": {
            "image/png": "[encoded data removed]",
            "text/plain": [
              "<Figure size 432x288 with 1 Axes>"
            ]
          },
          "metadata": {
            "tags": [],
            "needs_background": "light"
          }
        }
      ]
    },
    {
      "cell_type": "code",
      "metadata": {
        "id": "Glxl5osDWe6l",
        "colab": {
          "base_uri": "https://localhost:8080/",
          "height": 156
        },
        "outputId": "9d81f59a-0ed9-4434-895d-f5bb891787cd"
      },
      "source": [
        "# 머신러닝 학습에 사용되지 않는 열 삭제\n",
        "# inplace는 실제로 삭제하라는 뜻\n",
        "data.drop('animal_name', axis=1, inplace=True)\n",
        "data.head(3)"
      ],
      "execution_count": null,
      "outputs": [
        {
          "output_type": "execute_result",
          "data": {
            "text/html": [
              "<div>\n",
              "<style scoped>\n",
              "    .dataframe tbody tr th:only-of-type {\n",
              "        vertical-align: middle;\n",
              "    }\n",
              "\n",
              "    .dataframe tbody tr th {\n",
              "        vertical-align: top;\n",
              "    }\n",
              "\n",
              "    .dataframe thead th {\n",
              "        text-align: right;\n",
              "    }\n",
              "</style>\n",
              "<table border=\"1\" class=\"dataframe\">\n",
              "  <thead>\n",
              "    <tr style=\"text-align: right;\">\n",
              "      <th></th>\n",
              "      <th>hair</th>\n",
              "      <th>feathers</th>\n",
              "      <th>eggs</th>\n",
              "      <th>milk</th>\n",
              "      <th>airborne</th>\n",
              "      <th>aquatic</th>\n",
              "      <th>predator</th>\n",
              "      <th>toothed</th>\n",
              "      <th>backbone</th>\n",
              "      <th>breathes</th>\n",
              "      <th>venomous</th>\n",
              "      <th>fins</th>\n",
              "      <th>legs</th>\n",
              "      <th>tail</th>\n",
              "      <th>domestic</th>\n",
              "      <th>catsize</th>\n",
              "      <th>class_type</th>\n",
              "    </tr>\n",
              "  </thead>\n",
              "  <tbody>\n",
              "    <tr>\n",
              "      <th>0</th>\n",
              "      <td>1</td>\n",
              "      <td>0</td>\n",
              "      <td>0</td>\n",
              "      <td>1</td>\n",
              "      <td>0</td>\n",
              "      <td>0</td>\n",
              "      <td>1</td>\n",
              "      <td>1</td>\n",
              "      <td>1</td>\n",
              "      <td>1</td>\n",
              "      <td>0</td>\n",
              "      <td>0</td>\n",
              "      <td>4</td>\n",
              "      <td>0</td>\n",
              "      <td>0</td>\n",
              "      <td>1</td>\n",
              "      <td>1</td>\n",
              "    </tr>\n",
              "    <tr>\n",
              "      <th>1</th>\n",
              "      <td>1</td>\n",
              "      <td>0</td>\n",
              "      <td>0</td>\n",
              "      <td>1</td>\n",
              "      <td>0</td>\n",
              "      <td>0</td>\n",
              "      <td>0</td>\n",
              "      <td>1</td>\n",
              "      <td>1</td>\n",
              "      <td>1</td>\n",
              "      <td>0</td>\n",
              "      <td>0</td>\n",
              "      <td>4</td>\n",
              "      <td>1</td>\n",
              "      <td>0</td>\n",
              "      <td>1</td>\n",
              "      <td>1</td>\n",
              "    </tr>\n",
              "    <tr>\n",
              "      <th>2</th>\n",
              "      <td>0</td>\n",
              "      <td>0</td>\n",
              "      <td>1</td>\n",
              "      <td>0</td>\n",
              "      <td>0</td>\n",
              "      <td>1</td>\n",
              "      <td>1</td>\n",
              "      <td>1</td>\n",
              "      <td>1</td>\n",
              "      <td>0</td>\n",
              "      <td>0</td>\n",
              "      <td>1</td>\n",
              "      <td>0</td>\n",
              "      <td>1</td>\n",
              "      <td>0</td>\n",
              "      <td>0</td>\n",
              "      <td>4</td>\n",
              "    </tr>\n",
              "  </tbody>\n",
              "</table>\n",
              "</div>"
            ],
            "text/plain": [
              "   hair  feathers  eggs  milk  ...  tail  domestic  catsize  class_type\n",
              "0     1         0     0     1  ...     0         0        1           1\n",
              "1     1         0     0     1  ...     1         0        1           1\n",
              "2     0         0     1     0  ...     1         0        0           4\n",
              "\n",
              "[3 rows x 17 columns]"
            ]
          },
          "metadata": {
            "tags": []
          },
          "execution_count": 18
        }
      ]
    },
    {
      "cell_type": "code",
      "metadata": {
        "id": "VsmdWUe6jmi2"
      },
      "source": [
        "# 피처 데이터 세트 x, 레이블 데이터 세트 y를 추출. \n",
        "# 맨 끝이 Outcome 컬럼으로 레이블 값임. 컬럼 위치 -1을 이용해 추출 \n",
        "x = data.iloc[:, :-1]\n",
        "y = data.iloc[:, -1]\n",
        "\n",
        "# 훈련 데이터셋과 테스트 데이터셋 분리\n",
        "from sklearn.model_selection import train_test_split\n",
        "\n",
        "x_train, x_test, y_train, y_test = train_test_split(x, y, test_size=0.2, random_state=156, stratify=y)\n"
      ],
      "execution_count": null,
      "outputs": []
    },
    {
      "cell_type": "code",
      "metadata": {
        "colab": {
          "base_uri": "https://localhost:8080/",
          "height": 195
        },
        "id": "jip1gWE3ZpGk",
        "outputId": "d984b96d-3273-4f4a-aca3-e1b241e46a91"
      },
      "source": [
        "# 훈련데이터 x_train 값 확인\n",
        "x_train.head()"
      ],
      "execution_count": null,
      "outputs": [
        {
          "output_type": "execute_result",
          "data": {
            "text/html": [
              "<div>\n",
              "<style scoped>\n",
              "    .dataframe tbody tr th:only-of-type {\n",
              "        vertical-align: middle;\n",
              "    }\n",
              "\n",
              "    .dataframe tbody tr th {\n",
              "        vertical-align: top;\n",
              "    }\n",
              "\n",
              "    .dataframe thead th {\n",
              "        text-align: right;\n",
              "    }\n",
              "</style>\n",
              "<table border=\"1\" class=\"dataframe\">\n",
              "  <thead>\n",
              "    <tr style=\"text-align: right;\">\n",
              "      <th></th>\n",
              "      <th>hair</th>\n",
              "      <th>feathers</th>\n",
              "      <th>eggs</th>\n",
              "      <th>milk</th>\n",
              "      <th>airborne</th>\n",
              "      <th>aquatic</th>\n",
              "      <th>predator</th>\n",
              "      <th>toothed</th>\n",
              "      <th>backbone</th>\n",
              "      <th>breathes</th>\n",
              "      <th>venomous</th>\n",
              "      <th>fins</th>\n",
              "      <th>legs</th>\n",
              "      <th>tail</th>\n",
              "      <th>domestic</th>\n",
              "      <th>catsize</th>\n",
              "    </tr>\n",
              "  </thead>\n",
              "  <tbody>\n",
              "    <tr>\n",
              "      <th>71</th>\n",
              "      <td>0</td>\n",
              "      <td>1</td>\n",
              "      <td>1</td>\n",
              "      <td>0</td>\n",
              "      <td>0</td>\n",
              "      <td>0</td>\n",
              "      <td>1</td>\n",
              "      <td>0</td>\n",
              "      <td>1</td>\n",
              "      <td>1</td>\n",
              "      <td>0</td>\n",
              "      <td>0</td>\n",
              "      <td>2</td>\n",
              "      <td>1</td>\n",
              "      <td>0</td>\n",
              "      <td>1</td>\n",
              "    </tr>\n",
              "    <tr>\n",
              "      <th>96</th>\n",
              "      <td>1</td>\n",
              "      <td>0</td>\n",
              "      <td>0</td>\n",
              "      <td>1</td>\n",
              "      <td>0</td>\n",
              "      <td>0</td>\n",
              "      <td>0</td>\n",
              "      <td>1</td>\n",
              "      <td>1</td>\n",
              "      <td>1</td>\n",
              "      <td>0</td>\n",
              "      <td>0</td>\n",
              "      <td>2</td>\n",
              "      <td>1</td>\n",
              "      <td>0</td>\n",
              "      <td>1</td>\n",
              "    </tr>\n",
              "    <tr>\n",
              "      <th>4</th>\n",
              "      <td>1</td>\n",
              "      <td>0</td>\n",
              "      <td>0</td>\n",
              "      <td>1</td>\n",
              "      <td>0</td>\n",
              "      <td>0</td>\n",
              "      <td>1</td>\n",
              "      <td>1</td>\n",
              "      <td>1</td>\n",
              "      <td>1</td>\n",
              "      <td>0</td>\n",
              "      <td>0</td>\n",
              "      <td>4</td>\n",
              "      <td>1</td>\n",
              "      <td>0</td>\n",
              "      <td>1</td>\n",
              "    </tr>\n",
              "    <tr>\n",
              "      <th>61</th>\n",
              "      <td>0</td>\n",
              "      <td>0</td>\n",
              "      <td>1</td>\n",
              "      <td>0</td>\n",
              "      <td>0</td>\n",
              "      <td>1</td>\n",
              "      <td>1</td>\n",
              "      <td>1</td>\n",
              "      <td>1</td>\n",
              "      <td>0</td>\n",
              "      <td>0</td>\n",
              "      <td>1</td>\n",
              "      <td>0</td>\n",
              "      <td>1</td>\n",
              "      <td>0</td>\n",
              "      <td>0</td>\n",
              "    </tr>\n",
              "    <tr>\n",
              "      <th>92</th>\n",
              "      <td>0</td>\n",
              "      <td>0</td>\n",
              "      <td>1</td>\n",
              "      <td>0</td>\n",
              "      <td>0</td>\n",
              "      <td>1</td>\n",
              "      <td>1</td>\n",
              "      <td>1</td>\n",
              "      <td>1</td>\n",
              "      <td>0</td>\n",
              "      <td>0</td>\n",
              "      <td>1</td>\n",
              "      <td>0</td>\n",
              "      <td>1</td>\n",
              "      <td>0</td>\n",
              "      <td>1</td>\n",
              "    </tr>\n",
              "  </tbody>\n",
              "</table>\n",
              "</div>"
            ],
            "text/plain": [
              "    hair  feathers  eggs  milk  airborne  ...  fins  legs  tail  domestic  catsize\n",
              "71     0         1     1     0         0  ...     0     2     1         0        1\n",
              "96     1         0     0     1         0  ...     0     2     1         0        1\n",
              "4      1         0     0     1         0  ...     0     4     1         0        1\n",
              "61     0         0     1     0         0  ...     1     0     1         0        0\n",
              "92     0         0     1     0         0  ...     1     0     1         0        1\n",
              "\n",
              "[5 rows x 16 columns]"
            ]
          },
          "metadata": {
            "tags": []
          },
          "execution_count": 21
        }
      ]
    },
    {
      "cell_type": "code",
      "metadata": {
        "colab": {
          "base_uri": "https://localhost:8080/"
        },
        "id": "GWm0cSZJZvPf",
        "outputId": "9e48a512-6812-46bf-8741-4da0b791484e"
      },
      "source": [
        "# 훈련데이터 y_train 값 확인\n",
        "y_train.head()"
      ],
      "execution_count": null,
      "outputs": [
        {
          "output_type": "execute_result",
          "data": {
            "text/plain": [
              "71    2\n",
              "96    1\n",
              "4     1\n",
              "61    4\n",
              "92    4\n",
              "Name: class_type, dtype: int64"
            ]
          },
          "metadata": {
            "tags": []
          },
          "execution_count": 22
        }
      ]
    },
    {
      "cell_type": "markdown",
      "metadata": {
        "id": "KzrKHVWLdeDb"
      },
      "source": [
        "### 4. 모델 학습"
      ]
    },
    {
      "cell_type": "code",
      "metadata": {
        "colab": {
          "base_uri": "https://localhost:8080/"
        },
        "id": "O0Q-eMylj5gv",
        "outputId": "9e4c9bb9-2605-4a9e-ba90-f9ab7aee3e99"
      },
      "source": [
        "from sklearn.tree import DecisionTreeClassifier\n",
        "\n",
        "#Decision Tree Classification\n",
        "dt = DecisionTreeClassifier()\n",
        "\n",
        "dt.fit(x_train, y_train)\n"
      ],
      "execution_count": null,
      "outputs": [
        {
          "output_type": "execute_result",
          "data": {
            "text/plain": [
              "DecisionTreeClassifier(ccp_alpha=0.0, class_weight=None, criterion='gini',\n",
              "                       max_depth=None, max_features=None, max_leaf_nodes=None,\n",
              "                       min_impurity_decrease=0.0, min_impurity_split=None,\n",
              "                       min_samples_leaf=1, min_samples_split=2,\n",
              "                       min_weight_fraction_leaf=0.0, presort='deprecated',\n",
              "                       random_state=None, splitter='best')"
            ]
          },
          "metadata": {
            "tags": []
          },
          "execution_count": 24
        }
      ]
    },
    {
      "cell_type": "markdown",
      "metadata": {
        "id": "V985_a4_djLE"
      },
      "source": [
        "### 5. 모델 예측 및 평가"
      ]
    },
    {
      "cell_type": "code",
      "metadata": {
        "colab": {
          "base_uri": "https://localhost:8080/"
        },
        "id": "QsZp2nFCarGe",
        "outputId": "d72d6a65-a88f-4516-f60e-a3114216a705"
      },
      "source": [
        "# 예측값 확인\n",
        "pred = dt.predict(x_test)\n",
        "type(pred)\n",
        "pred[:5]"
      ],
      "execution_count": null,
      "outputs": [
        {
          "output_type": "execute_result",
          "data": {
            "text/plain": [
              "array([1, 2, 2, 2, 4])"
            ]
          },
          "metadata": {
            "tags": []
          },
          "execution_count": 28
        }
      ]
    },
    {
      "cell_type": "code",
      "metadata": {
        "colab": {
          "base_uri": "https://localhost:8080/"
        },
        "id": "TTTJw37zlxB-",
        "outputId": "7fef9cff-d8b7-415c-9f8b-90898d7e936e"
      },
      "source": [
        "from sklearn.metrics import accuracy_score\n",
        "\n",
        "# 정확도 출력\n",
        "accuracy_score(y_test, pred)"
      ],
      "execution_count": null,
      "outputs": [
        {
          "output_type": "execute_result",
          "data": {
            "text/plain": [
              "0.9047619047619048"
            ]
          },
          "metadata": {
            "tags": []
          },
          "execution_count": 29
        }
      ]
    },
    {
      "cell_type": "markdown",
      "metadata": {
        "id": "hf_-vPd6bvra"
      },
      "source": [
        "--------\n",
        "## 2. 분류 by 머신러닝\n",
        "### 2-1. 분류문제\n",
        "분류는 레이블이 달린 학습 데이터를 학습한 후 새롭게 주어지는 데이터가 어느 그룹에 속하지는지 찾아내는 것\n",
        "- 내일 날씨는? 맑음, 흐림\n",
        "- A팀과 B팀 경기에서 어느 팀이 이길까?\n",
        "\n",
        "### 2-2. 머신러닝으로 구현하는 분류\n",
        "- **결정트리(Desicion Tree)** : 데이터 균일도에 따른 규칙 기반 모델\n",
        "- 최소 근접 알고리즘(KNN, K Nearest Neighbor) : 근접 거리를 기준으로 하는 모델\n",
        "<img src='https://upload.wikimedia.org/wikipedia/commons/thumb/e/e7/KnnClassification.svg/330px-KnnClassification.svg.png' width=200>\n",
        "\n",
        "- 서포트 벡터 머신(SVM, Support Vector Machine) : 개별 클래스 간의 최대 분류 마진을 효과적으로 찾음\n",
        "<img src='https://upload.wikimedia.org/wikipedia/commons/thumb/2/20/Svm_separating_hyperplanes.png/1024px-Svm_separating_hyperplanes.png' width=200>\n",
        "\n",
        "- 로지스틱 회귀(Logistic Regression) : 독립변수와 종속변수의 선형 관계성에 기반. 분류 알고리즘 중에서 성능이 좋음. \n",
        "<img src='https://t1.daumcdn.net/cfile/tistory/99F325485C7B76BC2B' width=400>\n",
        "\n",
        "\n",
        "- 나이브 베이즈(Naive Bayes) : 분류 문제에 베이즈 이론을 접목한 알고리즘. 범주형 데이터에 사용하는 알고리즘이며 텍스트 분류에 많이 사용됨. 독립변수가 많을 때 간단하게 계산.\n",
        "- 앙상블(Ensemble) : 서로 다른(또는 같은) 여러 머신러닝 모델을 결합\n",
        "<img src='https://img1.daumcdn.net/thumb/R1280x0/?scode=mtistory2&fname=https%3A%2F%2Fk.kakaocdn.net%2Fdn%2FDdB4X%2FbtqDDvpfx5p%2FV8AtWq6MT6tmTktleKqjPk%2Fimg.png' width=300>\n",
        "\n",
        "- 심층신경망(Deep Neural Network) : 최적의 w와 b를 학습"
      ]
    },
    {
      "cell_type": "markdown",
      "metadata": {
        "id": "enNm65IsS3bs"
      },
      "source": [
        "## 3. 결정 트리(Decision Tree) 개요\n",
        "결정 트리(Decision Tree)는 ML 알고리즘 중에서 직관적으로 이해하기 쉬운 알고리즘이며 분류/회귀에 모두 적용할 수 있다. 데이터에 내재된 패턴을 학습한 후 트리(Tree) 기반 형태로 규칙을 나열한 것이다. 마치 if/else를 자동으로 찾아내 해결하는 것과 같다. 따라서 데이터의 어떤 기준으로 규칙을 만드는가가 알고리즘의 성능을 좌우한다. \n",
        "\n",
        "<img src='https://miro.medium.com/max/1430/1*rSQIIAboJftqAv_BReNipg.png' width=500>\n",
        "\n",
        "사이킷런의 결정트리 알고리즘은 노드에서 균일도가 높은 데이터셋을 먼저 선택하도록 규칙조건을 만드는데 이때 기준이 되는 것이 지니계수이다.\n",
        "> 지니계수(Gini): 원래 경제학의 불평등 지수로 0이 가장 평등(다양성 보장)하고 1로 갈수록 불평등. 머신러닝에서는 한 집단이 다양한 클래스로 구성되면 평등하다고 보고 0으로 표현하며 1로 갈수록 균일도가 높아져 적은 클래스로 구성된다는 것을 의미한다. \n",
        "\n",
        "\n",
        "### 3-1. 결정 트리의 특징\n",
        "- 장점\n",
        "  - 알고리즘이 쉽고 직관적이다\n",
        "  - 시각화도 가능하다\n",
        "  - 데이터의 균일도가 보다 중요해서 특별한 경우 외에는 스케일링같은 전처리작업이 필요없다 \n",
        "- 단점\n",
        "  - 계층적 구조로 인해 중간에 에러가 발생하면 아래 단계로 계속 전파\n",
        "  - 학습 데이터의 미세한 변동에도 최종 결과에 크게 영향\n",
        "  - 과적합으로 인한 성능 저하가 가장 큰 단점\n",
        "    (성능의 일부를 포기하고 트리의 크기를 제한하는 것이 오히려 튜닝에 도움된다)\n",
        "\n",
        "\n",
        "\n",
        "\n",
        "### 3-2. 결정 트리 파라미터\n",
        "사이킷런은 결정트리 알고리즘을 구현한 DecisionTreeClassifier(분류)클래스를 제공한다.\n",
        "\n",
        "- min_samples_split: 기본값=2. 노드 분할 최소 샘플수로 과적합 제어에 활용. \n",
        "- min_samples_leaf: 말단 노드가 되기 위한 최소 샘플수. 과적합 제어에 활용. 비대칭적 데이터의 경우 특정 데이터의 클래스가 극도로 작을 수 있으므로 이 경우 작게 설정할 필요.\n",
        "- max_features: 최적 분할을 위해 고려할 최대 피처 개수. int로 지정하면 대상 피처의 개수, float로 지정하면 전체 피처 중 대상 피처의 퍼센트. 'None'은 전체 피처 선정\n",
        "- max_depth: 기본값=None. 트리의 최대 깊이 설정. None은 완벽하게 클래스 결정 값이 될때까지 깊이를 계속 키우며 분할하거나 min_samples_split보다 작아질 때까지 계속 깊이를 증가시킴\n",
        "- max_leaf_nodes: 말단 노드(leaf)의 최대 개수"
      ]
    },
    {
      "cell_type": "markdown",
      "metadata": {
        "id": "9VLcN-dMeXGo"
      },
      "source": [
        "-----------------\n",
        "## 4. 결정 트리로 분류 문제 해결하기\n",
        "\n",
        "### 4-1. 문제 정의(분류 문제)\n",
        "\n",
        "### 4-2. 데이터 수집(캐글 데이터셋 이용)"
      ]
    },
    {
      "cell_type": "code",
      "metadata": {
        "id": "aBCLOXenejqW"
      },
      "source": [
        "# Pima Indian Diabetes 데이터셋 다운로드\n",
        "! kaggle datasets download -d uciml/pima-indians-diabetes-database"
      ],
      "execution_count": null,
      "outputs": []
    },
    {
      "cell_type": "code",
      "metadata": {
        "id": "63XNkoBVejqg"
      },
      "source": [
        "# zip파일 압축 해제 후 현재 디렉토리의 파일 리스트 보기\n",
        "!unzip pima-indians-diabetes-database.zip\n",
        "!ls"
      ],
      "execution_count": null,
      "outputs": []
    },
    {
      "cell_type": "markdown",
      "metadata": {
        "id": "znp1tnSiel3Q"
      },
      "source": [
        "### 4-3. 데이터 전처리"
      ]
    },
    {
      "cell_type": "code",
      "metadata": {
        "colab": {
          "base_uri": "https://localhost:8080/",
          "height": 248
        },
        "id": "5nhdm9NIeudu",
        "outputId": "b34d29c7-7144-410c-9024-4f6bafbbe77e"
      },
      "source": [
        "# csv 파일을 pandas dataframe으로 읽기\n",
        "diabetes_data = pd.read_csv('diabetes.csv')\n",
        "\n",
        "# Outcome(당뇨:1 당뇨아님:0)행의 value를 count\n",
        "print(diabetes_data['Outcome'].value_counts())\n",
        "\n",
        "# 상위 5개 행을 출력\n",
        "diabetes_data.head(5)"
      ],
      "execution_count": null,
      "outputs": [
        {
          "output_type": "stream",
          "text": [
            "0    500\n",
            "1    268\n",
            "Name: Outcome, dtype: int64\n"
          ],
          "name": "stdout"
        },
        {
          "output_type": "execute_result",
          "data": {
            "text/html": [
              "<div>\n",
              "<style scoped>\n",
              "    .dataframe tbody tr th:only-of-type {\n",
              "        vertical-align: middle;\n",
              "    }\n",
              "\n",
              "    .dataframe tbody tr th {\n",
              "        vertical-align: top;\n",
              "    }\n",
              "\n",
              "    .dataframe thead th {\n",
              "        text-align: right;\n",
              "    }\n",
              "</style>\n",
              "<table border=\"1\" class=\"dataframe\">\n",
              "  <thead>\n",
              "    <tr style=\"text-align: right;\">\n",
              "      <th></th>\n",
              "      <th>Pregnancies</th>\n",
              "      <th>Glucose</th>\n",
              "      <th>BloodPressure</th>\n",
              "      <th>SkinThickness</th>\n",
              "      <th>Insulin</th>\n",
              "      <th>BMI</th>\n",
              "      <th>DiabetesPedigreeFunction</th>\n",
              "      <th>Age</th>\n",
              "      <th>Outcome</th>\n",
              "    </tr>\n",
              "  </thead>\n",
              "  <tbody>\n",
              "    <tr>\n",
              "      <th>0</th>\n",
              "      <td>6</td>\n",
              "      <td>148</td>\n",
              "      <td>72</td>\n",
              "      <td>35</td>\n",
              "      <td>0</td>\n",
              "      <td>33.6</td>\n",
              "      <td>0.627</td>\n",
              "      <td>50</td>\n",
              "      <td>1</td>\n",
              "    </tr>\n",
              "    <tr>\n",
              "      <th>1</th>\n",
              "      <td>1</td>\n",
              "      <td>85</td>\n",
              "      <td>66</td>\n",
              "      <td>29</td>\n",
              "      <td>0</td>\n",
              "      <td>26.6</td>\n",
              "      <td>0.351</td>\n",
              "      <td>31</td>\n",
              "      <td>0</td>\n",
              "    </tr>\n",
              "    <tr>\n",
              "      <th>2</th>\n",
              "      <td>8</td>\n",
              "      <td>183</td>\n",
              "      <td>64</td>\n",
              "      <td>0</td>\n",
              "      <td>0</td>\n",
              "      <td>23.3</td>\n",
              "      <td>0.672</td>\n",
              "      <td>32</td>\n",
              "      <td>1</td>\n",
              "    </tr>\n",
              "    <tr>\n",
              "      <th>3</th>\n",
              "      <td>1</td>\n",
              "      <td>89</td>\n",
              "      <td>66</td>\n",
              "      <td>23</td>\n",
              "      <td>94</td>\n",
              "      <td>28.1</td>\n",
              "      <td>0.167</td>\n",
              "      <td>21</td>\n",
              "      <td>0</td>\n",
              "    </tr>\n",
              "    <tr>\n",
              "      <th>4</th>\n",
              "      <td>0</td>\n",
              "      <td>137</td>\n",
              "      <td>40</td>\n",
              "      <td>35</td>\n",
              "      <td>168</td>\n",
              "      <td>43.1</td>\n",
              "      <td>2.288</td>\n",
              "      <td>33</td>\n",
              "      <td>1</td>\n",
              "    </tr>\n",
              "  </tbody>\n",
              "</table>\n",
              "</div>"
            ],
            "text/plain": [
              "   Pregnancies  Glucose  BloodPressure  ...  DiabetesPedigreeFunction  Age  Outcome\n",
              "0            6      148             72  ...                     0.627   50        1\n",
              "1            1       85             66  ...                     0.351   31        0\n",
              "2            8      183             64  ...                     0.672   32        1\n",
              "3            1       89             66  ...                     0.167   21        0\n",
              "4            0      137             40  ...                     2.288   33        1\n",
              "\n",
              "[5 rows x 9 columns]"
            ]
          },
          "metadata": {
            "tags": []
          },
          "execution_count": 31
        }
      ]
    },
    {
      "cell_type": "code",
      "metadata": {
        "id": "S1u9DNC8eud3"
      },
      "source": [
        "# 데이터 정보 요약\n",
        "diabetes_data.info( )"
      ],
      "execution_count": null,
      "outputs": []
    },
    {
      "cell_type": "code",
      "metadata": {
        "id": "zAmrTIK1eueA"
      },
      "source": [
        "# 피처 데이터 세트 x, 레이블 데이터 세트 y를 추출. \n",
        "# 맨 끝이 Outcome 컬럼으로 레이블 값임. 컬럼 위치 -1을 이용해 추출 \n",
        "x = diabetes_data.iloc[:, :-1]\n",
        "y = diabetes_data.iloc[:, -1]\n",
        "\n",
        "x_train, x_test, y_train, y_test = train_test_split(x, y, test_size = 0.2, random_state = 156, stratify=y)"
      ],
      "execution_count": null,
      "outputs": []
    },
    {
      "cell_type": "markdown",
      "metadata": {
        "id": "9fk1n2NOeygm"
      },
      "source": [
        "#### 간편하게 train/test 분리: train_test_split\n",
        "훈련한 모델의 성능을 평가하기 위해 전체 데이터를 훈련 데이터셋과 테스트 데이터셋을 나눈다. 훈련 데이터셋은 모델 훈련에 사용되며, 테스트 데이터셋으로 모델을 평가하게 된다.\n",
        "\n",
        "- train_test_split 파라미터\n",
        "  - test_size: 테스트 셋 구성의 비율을 나타냅니다. train_size의 옵션과 반대 관계에 있는 옵션 값이며, 주로 test_size를 지정해 줍니다. 0.2는 전체 데이터 셋의 20%를 test (validation) 셋으로 지정하겠다는 의미입니다. default 값은 0.25 입니다.\n",
        "  - shuffle: default=True 입니다. split을 해주기 이전에 섞을건지 여부입니다. 보통은 default 값으로 놔둡니다.\n",
        "  - random_state: 세트를 섞을 때 해당 int 값을 보고 섞으며, 하이퍼 파라미터를 튜닝시 이 값을 고정해두고 튜닝해야 매번 데이터셋이 변경되는 것을 방지할 수 있습니다.\n",
        "  - stratify: default=None 입니다. classification을 다룰 때 매우 중요한 옵션값입니다. stratify 값을 target으로 지정해주면 각각의 class 비율(ratio)을 train / validation에 유지해 줍니다. (한 쪽에 쏠려서 분배되는 것을 방지합니다) 만약 이 옵션을 지정해 주지 않고 classification 문제를 다룬다면, 성능의 차이가 많이 날 수 있습니다.\n",
        "- train_test_split 리턴값\n",
        " - X_train, X_test, Y_train, Y_test : arrays에 데이터와 레이블을 둘 다 넣었을 경우의 반환이며, 데이터와 레이블의 순서쌍은 유지된다.\n",
        "  - X_train, X_test : arrays에 레이블 없이 데이터만 넣었을 경우의 반환\n",
        "\n",
        "\n",
        "### 4-4. 모델 학습"
      ]
    },
    {
      "cell_type": "code",
      "metadata": {
        "id": "UrSYO3WRe5-3"
      },
      "source": [
        "from sklearn.tree import DecisionTreeClassifier\n",
        "\n",
        "# Decision Tree Classification\n",
        "dt = DecisionTreeClassifier() \n",
        "\n",
        "dt.fit(x_train, y_train)\n",
        "dt_prediction = dt.predict(x_test)"
      ],
      "execution_count": null,
      "outputs": []
    },
    {
      "cell_type": "markdown",
      "metadata": {
        "id": "nVyg_0L6e7Nk"
      },
      "source": [
        "### 4-5. 모델 예측 및 평가"
      ]
    },
    {
      "cell_type": "code",
      "metadata": {
        "id": "eIp-_BYve_km"
      },
      "source": [
        "from sklearn.metrics import accuracy_score\n",
        "\n",
        "# 정확도 출력\n",
        "accuracy_score(y_test, dt_prediction)"
      ],
      "execution_count": null,
      "outputs": []
    },
    {
      "cell_type": "markdown",
      "metadata": {
        "id": "ToERVaPKbjOM"
      },
      "source": [
        "------\n",
        "### 모델 평가 지표\n",
        "머신러닝은 여러 가지 지표로 예측 성능을 평가할 수 있다. 분류는 일반적으로 정확도(Accuracy)로 평가하고 회귀는 보통 오차의 평균값(MSE)으로 한다. 회귀의 평가는 회귀 수업에서 다룬다. \n",
        "\n",
        "#### 1) 분류결과표(Confusion Matrix, 오차행렬)\n",
        "<img src=\"https://static.packt-cdn.com/products/9781838555078/graphics/C13314_06_05.jpg\" width=400px>\n",
        "<img src=\"https://skappal7.files.wordpress.com/2018/08/confusion-matrix.jpg\" width=400px> \n",
        "\n",
        "분류결과표는 타겟의 원래 클래스와 모형이 예측한 클래스가 일치하는지는 갯수로 센 결과를 표나 나타낸 것이다. 정답 클래스는 행(row)으로 예측한 클래스는 열(column)로 나타낸다.\n",
        "\n",
        "#### 2) 정확도(Accuracy)\n",
        "\n",
        "${accuracy} = \\dfrac{TP + TN}{TP + TN + FP + FN} $\n",
        "\n",
        "정확도는 전체 샘플 중 맞게 예측한 샘플 수의 비율을 뜻한다. 높을수록 좋은 모형이다. 일반적으로 학습에서 최적화 목적함수로 사용된다. 하지만 이진분류의 경우 정확도가 왜곡된 평가를 할 수 있기 때문에 주의해야 한다. 예를 들어, 100개의 금융거래 데이터 중 사기거래 데이터(양성 클래스)가 10개 뿐일 때, 만약 무조건 정상거래(음성 클래스)라고 예측하는 ML모델의 경우라도 정확도는 90%가 나오게 된다. \n",
        "\n",
        "\n",
        "#### 3) 정밀도(Precision)\n",
        "\n",
        "${precision} = \\dfrac{TP}{TP + FP}$\n",
        "\n",
        "정밀도는 양성 클래스에 속한다고 예측한 샘플 중 실제로 양성 클래스에 속하는 샘플 수의 비율을 말한다. 높을수록 좋은 모형이다. 정밀도가 중요한 예로 스팸메일의 경우, 실제 스팸메일(1)을 모델이 일반메일($\\widehat{0}$)로 판단하면 불편함을 느끼는 정도지만, 실제 일반메일(0)을 모델이 스팸($\\widehat{1}$)이라고 판단하면 메일을 아예 받지 못해 업무에 차질이 생길 수 있다.\n",
        "\n",
        "\n",
        "#### 4) 재현율(Recall)\n",
        "\n",
        "${recall} = \\dfrac{TP}{TP + FN}$\n",
        "\n",
        "재현율은 실제 양성 클래스에 속한 표본 중에 양성 클래스에 속한다고 예측한 표본의 수의 비율을 뜻한다. 높을수록 좋은 모형이다. TPR(true positive rate) 또는 민감도(sensitivity)라고도 한다. 재현율이 중요한 예로 사기거래 검출의 경우, 실제 사기거래(1)를 일반거래($\\widehat{0}$)로 판단하면 중대한 문제가 생기는 경우이다."
      ]
    },
    {
      "cell_type": "code",
      "metadata": {
        "id": "olqmkeUYjVmb"
      },
      "source": [
        "from sklearn.metrics import confusion_matrix, classification_report\n",
        "\n",
        "# 오차 행렬과 평가 지표 출력\n",
        "print('오차 행렬\\n', confusion_matrix(y_test, dt_prediction))\n",
        "print('\\n평가 지표\\n', classification_report(y_test, dt_prediction))"
      ],
      "execution_count": null,
      "outputs": []
    },
    {
      "cell_type": "markdown",
      "metadata": {
        "id": "LnmGMzVTiUG8"
      },
      "source": [
        "### 수고했습니다.\n",
        "\n"
      ]
    },
    {
      "cell_type": "markdown",
      "metadata": {
        "id": "V1TX2aP67XaD"
      },
      "source": [
        "###파마인디언 딥러닝 과제\n"
      ]
    },
    {
      "cell_type": "code",
      "metadata": {
        "id": "S7jElXHX7XAH",
        "colab": {
          "base_uri": "https://localhost:8080/",
          "height": 195
        },
        "outputId": "b714090a-19a1-4d25-fe19-8edad2143db4"
      },
      "source": [
        "import pandas as pd\n",
        "df=pd.read_csv('pima-indians-diabetes.csv',\n",
        "               names = [\"pregnant\", \"plasma\", \"pressure\", \"thickness\", \"insulin\", \n",
        "                        \"BMI\", \"pidigree\", \"age\", \"class\"])\n",
        "df.head()"
      ],
      "execution_count": null,
      "outputs": [
        {
          "output_type": "execute_result",
          "data": {
            "text/html": [
              "<div>\n",
              "<style scoped>\n",
              "    .dataframe tbody tr th:only-of-type {\n",
              "        vertical-align: middle;\n",
              "    }\n",
              "\n",
              "    .dataframe tbody tr th {\n",
              "        vertical-align: top;\n",
              "    }\n",
              "\n",
              "    .dataframe thead th {\n",
              "        text-align: right;\n",
              "    }\n",
              "</style>\n",
              "<table border=\"1\" class=\"dataframe\">\n",
              "  <thead>\n",
              "    <tr style=\"text-align: right;\">\n",
              "      <th></th>\n",
              "      <th>pregnant</th>\n",
              "      <th>plasma</th>\n",
              "      <th>pressure</th>\n",
              "      <th>thickness</th>\n",
              "      <th>insulin</th>\n",
              "      <th>BMI</th>\n",
              "      <th>pidigree</th>\n",
              "      <th>age</th>\n",
              "      <th>class</th>\n",
              "    </tr>\n",
              "  </thead>\n",
              "  <tbody>\n",
              "    <tr>\n",
              "      <th>0</th>\n",
              "      <td>6</td>\n",
              "      <td>148</td>\n",
              "      <td>72</td>\n",
              "      <td>35</td>\n",
              "      <td>0</td>\n",
              "      <td>33.6</td>\n",
              "      <td>0.627</td>\n",
              "      <td>50</td>\n",
              "      <td>1</td>\n",
              "    </tr>\n",
              "    <tr>\n",
              "      <th>1</th>\n",
              "      <td>1</td>\n",
              "      <td>85</td>\n",
              "      <td>66</td>\n",
              "      <td>29</td>\n",
              "      <td>0</td>\n",
              "      <td>26.6</td>\n",
              "      <td>0.351</td>\n",
              "      <td>31</td>\n",
              "      <td>0</td>\n",
              "    </tr>\n",
              "    <tr>\n",
              "      <th>2</th>\n",
              "      <td>8</td>\n",
              "      <td>183</td>\n",
              "      <td>64</td>\n",
              "      <td>0</td>\n",
              "      <td>0</td>\n",
              "      <td>23.3</td>\n",
              "      <td>0.672</td>\n",
              "      <td>32</td>\n",
              "      <td>1</td>\n",
              "    </tr>\n",
              "    <tr>\n",
              "      <th>3</th>\n",
              "      <td>1</td>\n",
              "      <td>89</td>\n",
              "      <td>66</td>\n",
              "      <td>23</td>\n",
              "      <td>94</td>\n",
              "      <td>28.1</td>\n",
              "      <td>0.167</td>\n",
              "      <td>21</td>\n",
              "      <td>0</td>\n",
              "    </tr>\n",
              "    <tr>\n",
              "      <th>4</th>\n",
              "      <td>0</td>\n",
              "      <td>137</td>\n",
              "      <td>40</td>\n",
              "      <td>35</td>\n",
              "      <td>168</td>\n",
              "      <td>43.1</td>\n",
              "      <td>2.288</td>\n",
              "      <td>33</td>\n",
              "      <td>1</td>\n",
              "    </tr>\n",
              "  </tbody>\n",
              "</table>\n",
              "</div>"
            ],
            "text/plain": [
              "   pregnant  plasma  pressure  thickness  insulin   BMI  pidigree  age  class\n",
              "0         6     148        72         35        0  33.6     0.627   50      1\n",
              "1         1      85        66         29        0  26.6     0.351   31      0\n",
              "2         8     183        64          0        0  23.3     0.672   32      1\n",
              "3         1      89        66         23       94  28.1     0.167   21      0\n",
              "4         0     137        40         35      168  43.1     2.288   33      1"
            ]
          },
          "metadata": {
            "tags": []
          },
          "execution_count": 34
        }
      ]
    },
    {
      "cell_type": "code",
      "metadata": {
        "id": "4qua5W4n7lii",
        "colab": {
          "base_uri": "https://localhost:8080/"
        },
        "outputId": "9901f6c7-c4da-4681-fb49-f2744202a2a2"
      },
      "source": [
        "df.info()"
      ],
      "execution_count": null,
      "outputs": [
        {
          "output_type": "stream",
          "text": [
            "<class 'pandas.core.frame.DataFrame'>\n",
            "RangeIndex: 768 entries, 0 to 767\n",
            "Data columns (total 9 columns):\n",
            " #   Column     Non-Null Count  Dtype  \n",
            "---  ------     --------------  -----  \n",
            " 0   pregnant   768 non-null    int64  \n",
            " 1   plasma     768 non-null    int64  \n",
            " 2   pressure   768 non-null    int64  \n",
            " 3   thickness  768 non-null    int64  \n",
            " 4   insulin    768 non-null    int64  \n",
            " 5   BMI        768 non-null    float64\n",
            " 6   pidigree   768 non-null    float64\n",
            " 7   age        768 non-null    int64  \n",
            " 8   class      768 non-null    int64  \n",
            "dtypes: float64(2), int64(7)\n",
            "memory usage: 54.1 KB\n"
          ],
          "name": "stdout"
        }
      ]
    },
    {
      "cell_type": "code",
      "metadata": {
        "id": "j6MGxt_S7_bE",
        "colab": {
          "base_uri": "https://localhost:8080/",
          "height": 284
        },
        "outputId": "bdf6a00d-67d8-4dae-94b2-8ddb568246dc"
      },
      "source": [
        "df.describe()"
      ],
      "execution_count": null,
      "outputs": [
        {
          "output_type": "execute_result",
          "data": {
            "text/html": [
              "<div>\n",
              "<style scoped>\n",
              "    .dataframe tbody tr th:only-of-type {\n",
              "        vertical-align: middle;\n",
              "    }\n",
              "\n",
              "    .dataframe tbody tr th {\n",
              "        vertical-align: top;\n",
              "    }\n",
              "\n",
              "    .dataframe thead th {\n",
              "        text-align: right;\n",
              "    }\n",
              "</style>\n",
              "<table border=\"1\" class=\"dataframe\">\n",
              "  <thead>\n",
              "    <tr style=\"text-align: right;\">\n",
              "      <th></th>\n",
              "      <th>pregnant</th>\n",
              "      <th>plasma</th>\n",
              "      <th>pressure</th>\n",
              "      <th>thickness</th>\n",
              "      <th>insulin</th>\n",
              "      <th>BMI</th>\n",
              "      <th>pidigree</th>\n",
              "      <th>age</th>\n",
              "      <th>class</th>\n",
              "    </tr>\n",
              "  </thead>\n",
              "  <tbody>\n",
              "    <tr>\n",
              "      <th>count</th>\n",
              "      <td>768.000000</td>\n",
              "      <td>768.000000</td>\n",
              "      <td>768.000000</td>\n",
              "      <td>768.000000</td>\n",
              "      <td>768.000000</td>\n",
              "      <td>768.000000</td>\n",
              "      <td>768.000000</td>\n",
              "      <td>768.000000</td>\n",
              "      <td>768.000000</td>\n",
              "    </tr>\n",
              "    <tr>\n",
              "      <th>mean</th>\n",
              "      <td>3.845052</td>\n",
              "      <td>120.894531</td>\n",
              "      <td>69.105469</td>\n",
              "      <td>20.536458</td>\n",
              "      <td>79.799479</td>\n",
              "      <td>31.992578</td>\n",
              "      <td>0.471876</td>\n",
              "      <td>33.240885</td>\n",
              "      <td>0.348958</td>\n",
              "    </tr>\n",
              "    <tr>\n",
              "      <th>std</th>\n",
              "      <td>3.369578</td>\n",
              "      <td>31.972618</td>\n",
              "      <td>19.355807</td>\n",
              "      <td>15.952218</td>\n",
              "      <td>115.244002</td>\n",
              "      <td>7.884160</td>\n",
              "      <td>0.331329</td>\n",
              "      <td>11.760232</td>\n",
              "      <td>0.476951</td>\n",
              "    </tr>\n",
              "    <tr>\n",
              "      <th>min</th>\n",
              "      <td>0.000000</td>\n",
              "      <td>0.000000</td>\n",
              "      <td>0.000000</td>\n",
              "      <td>0.000000</td>\n",
              "      <td>0.000000</td>\n",
              "      <td>0.000000</td>\n",
              "      <td>0.078000</td>\n",
              "      <td>21.000000</td>\n",
              "      <td>0.000000</td>\n",
              "    </tr>\n",
              "    <tr>\n",
              "      <th>25%</th>\n",
              "      <td>1.000000</td>\n",
              "      <td>99.000000</td>\n",
              "      <td>62.000000</td>\n",
              "      <td>0.000000</td>\n",
              "      <td>0.000000</td>\n",
              "      <td>27.300000</td>\n",
              "      <td>0.243750</td>\n",
              "      <td>24.000000</td>\n",
              "      <td>0.000000</td>\n",
              "    </tr>\n",
              "    <tr>\n",
              "      <th>50%</th>\n",
              "      <td>3.000000</td>\n",
              "      <td>117.000000</td>\n",
              "      <td>72.000000</td>\n",
              "      <td>23.000000</td>\n",
              "      <td>30.500000</td>\n",
              "      <td>32.000000</td>\n",
              "      <td>0.372500</td>\n",
              "      <td>29.000000</td>\n",
              "      <td>0.000000</td>\n",
              "    </tr>\n",
              "    <tr>\n",
              "      <th>75%</th>\n",
              "      <td>6.000000</td>\n",
              "      <td>140.250000</td>\n",
              "      <td>80.000000</td>\n",
              "      <td>32.000000</td>\n",
              "      <td>127.250000</td>\n",
              "      <td>36.600000</td>\n",
              "      <td>0.626250</td>\n",
              "      <td>41.000000</td>\n",
              "      <td>1.000000</td>\n",
              "    </tr>\n",
              "    <tr>\n",
              "      <th>max</th>\n",
              "      <td>17.000000</td>\n",
              "      <td>199.000000</td>\n",
              "      <td>122.000000</td>\n",
              "      <td>99.000000</td>\n",
              "      <td>846.000000</td>\n",
              "      <td>67.100000</td>\n",
              "      <td>2.420000</td>\n",
              "      <td>81.000000</td>\n",
              "      <td>1.000000</td>\n",
              "    </tr>\n",
              "  </tbody>\n",
              "</table>\n",
              "</div>"
            ],
            "text/plain": [
              "         pregnant      plasma    pressure  ...    pidigree         age       class\n",
              "count  768.000000  768.000000  768.000000  ...  768.000000  768.000000  768.000000\n",
              "mean     3.845052  120.894531   69.105469  ...    0.471876   33.240885    0.348958\n",
              "std      3.369578   31.972618   19.355807  ...    0.331329   11.760232    0.476951\n",
              "min      0.000000    0.000000    0.000000  ...    0.078000   21.000000    0.000000\n",
              "25%      1.000000   99.000000   62.000000  ...    0.243750   24.000000    0.000000\n",
              "50%      3.000000  117.000000   72.000000  ...    0.372500   29.000000    0.000000\n",
              "75%      6.000000  140.250000   80.000000  ...    0.626250   41.000000    1.000000\n",
              "max     17.000000  199.000000  122.000000  ...    2.420000   81.000000    1.000000\n",
              "\n",
              "[8 rows x 9 columns]"
            ]
          },
          "metadata": {
            "tags": []
          },
          "execution_count": 37
        }
      ]
    },
    {
      "cell_type": "code",
      "metadata": {
        "id": "ZML3TeYZ8KpC",
        "colab": {
          "base_uri": "https://localhost:8080/",
          "height": 550
        },
        "outputId": "96600fc6-8f95-4750-c2f3-ab390cbecc46"
      },
      "source": [
        "df[['pregnant', 'class']].groupby([\"pregnant\"],as_index=False).mean().sort_values(by='pregnant', ascending=True)\n",
        "#df에서 pregnant와 class를 끌어와 groupby(새로운 그룹을 만듬)하고 \n",
        "#as_index로 새로운 index를 만든 뒤 이를 평균을 내고 pregnant를 기준으로 오름차순으로 구성"
      ],
      "execution_count": null,
      "outputs": [
        {
          "output_type": "execute_result",
          "data": {
            "text/html": [
              "<div>\n",
              "<style scoped>\n",
              "    .dataframe tbody tr th:only-of-type {\n",
              "        vertical-align: middle;\n",
              "    }\n",
              "\n",
              "    .dataframe tbody tr th {\n",
              "        vertical-align: top;\n",
              "    }\n",
              "\n",
              "    .dataframe thead th {\n",
              "        text-align: right;\n",
              "    }\n",
              "</style>\n",
              "<table border=\"1\" class=\"dataframe\">\n",
              "  <thead>\n",
              "    <tr style=\"text-align: right;\">\n",
              "      <th></th>\n",
              "      <th>pregnant</th>\n",
              "      <th>class</th>\n",
              "    </tr>\n",
              "  </thead>\n",
              "  <tbody>\n",
              "    <tr>\n",
              "      <th>0</th>\n",
              "      <td>0</td>\n",
              "      <td>0.342342</td>\n",
              "    </tr>\n",
              "    <tr>\n",
              "      <th>1</th>\n",
              "      <td>1</td>\n",
              "      <td>0.214815</td>\n",
              "    </tr>\n",
              "    <tr>\n",
              "      <th>2</th>\n",
              "      <td>2</td>\n",
              "      <td>0.184466</td>\n",
              "    </tr>\n",
              "    <tr>\n",
              "      <th>3</th>\n",
              "      <td>3</td>\n",
              "      <td>0.360000</td>\n",
              "    </tr>\n",
              "    <tr>\n",
              "      <th>4</th>\n",
              "      <td>4</td>\n",
              "      <td>0.338235</td>\n",
              "    </tr>\n",
              "    <tr>\n",
              "      <th>5</th>\n",
              "      <td>5</td>\n",
              "      <td>0.368421</td>\n",
              "    </tr>\n",
              "    <tr>\n",
              "      <th>6</th>\n",
              "      <td>6</td>\n",
              "      <td>0.320000</td>\n",
              "    </tr>\n",
              "    <tr>\n",
              "      <th>7</th>\n",
              "      <td>7</td>\n",
              "      <td>0.555556</td>\n",
              "    </tr>\n",
              "    <tr>\n",
              "      <th>8</th>\n",
              "      <td>8</td>\n",
              "      <td>0.578947</td>\n",
              "    </tr>\n",
              "    <tr>\n",
              "      <th>9</th>\n",
              "      <td>9</td>\n",
              "      <td>0.642857</td>\n",
              "    </tr>\n",
              "    <tr>\n",
              "      <th>10</th>\n",
              "      <td>10</td>\n",
              "      <td>0.416667</td>\n",
              "    </tr>\n",
              "    <tr>\n",
              "      <th>11</th>\n",
              "      <td>11</td>\n",
              "      <td>0.636364</td>\n",
              "    </tr>\n",
              "    <tr>\n",
              "      <th>12</th>\n",
              "      <td>12</td>\n",
              "      <td>0.444444</td>\n",
              "    </tr>\n",
              "    <tr>\n",
              "      <th>13</th>\n",
              "      <td>13</td>\n",
              "      <td>0.500000</td>\n",
              "    </tr>\n",
              "    <tr>\n",
              "      <th>14</th>\n",
              "      <td>14</td>\n",
              "      <td>1.000000</td>\n",
              "    </tr>\n",
              "    <tr>\n",
              "      <th>15</th>\n",
              "      <td>15</td>\n",
              "      <td>1.000000</td>\n",
              "    </tr>\n",
              "    <tr>\n",
              "      <th>16</th>\n",
              "      <td>17</td>\n",
              "      <td>1.000000</td>\n",
              "    </tr>\n",
              "  </tbody>\n",
              "</table>\n",
              "</div>"
            ],
            "text/plain": [
              "    pregnant     class\n",
              "0          0  0.342342\n",
              "1          1  0.214815\n",
              "2          2  0.184466\n",
              "3          3  0.360000\n",
              "4          4  0.338235\n",
              "5          5  0.368421\n",
              "6          6  0.320000\n",
              "7          7  0.555556\n",
              "8          8  0.578947\n",
              "9          9  0.642857\n",
              "10        10  0.416667\n",
              "11        11  0.636364\n",
              "12        12  0.444444\n",
              "13        13  0.500000\n",
              "14        14  1.000000\n",
              "15        15  1.000000\n",
              "16        17  1.000000"
            ]
          },
          "metadata": {
            "tags": []
          },
          "execution_count": 41
        }
      ]
    },
    {
      "cell_type": "code",
      "metadata": {
        "id": "8gJi8lt59cRZ"
      },
      "source": [
        "import matplotlib.pyplot as plt\n",
        "import seaborn as sns"
      ],
      "execution_count": null,
      "outputs": []
    },
    {
      "cell_type": "code",
      "metadata": {
        "id": "TTyJm4iB9kpe",
        "colab": {
          "base_uri": "https://localhost:8080/",
          "height": 52
        },
        "outputId": "c00bd403-4ddd-4335-a0fe-853f7386a575"
      },
      "source": [
        "plt.figure(figsize=(12,12))"
      ],
      "execution_count": null,
      "outputs": [
        {
          "output_type": "execute_result",
          "data": {
            "text/plain": [
              "<Figure size 864x864 with 0 Axes>"
            ]
          },
          "metadata": {
            "tags": []
          },
          "execution_count": 44
        },
        {
          "output_type": "display_data",
          "data": {
            "text/plain": [
              "<Figure size 864x864 with 0 Axes>"
            ]
          },
          "metadata": {
            "tags": []
          }
        }
      ]
    },
    {
      "cell_type": "code",
      "metadata": {
        "id": "7_Q_4BX49squ",
        "colab": {
          "base_uri": "https://localhost:8080/",
          "height": 325
        },
        "outputId": "96c1e59e-2c51-4078-8b5b-3e61c83fffdf"
      },
      "source": [
        "sns.heatmap(df.corr(), linewidths=0.1,vmax=0.5, cmap=plt.cm.gist_heat, linecolor= \"white\", annot=True)"
      ],
      "execution_count": null,
      "outputs": [
        {
          "output_type": "execute_result",
          "data": {
            "text/plain": [
              "<matplotlib.axes._subplots.AxesSubplot at 0x7fad0b878c10>"
            ]
          },
          "metadata": {
            "tags": []
          },
          "execution_count": 45
        },
        {
          "output_type": "display_data",
          "data": {
            "image/png": "[encoded data removed]",
            "text/plain": [
              "<Figure size 432x288 with 2 Axes>"
            ]
          },
          "metadata": {
            "tags": [],
            "needs_background": "light"
          }
        }
      ]
    },
    {
      "cell_type": "code",
      "metadata": {
        "id": "AGfHbo1r9_hC",
        "colab": {
          "base_uri": "https://localhost:8080/",
          "height": 242
        },
        "outputId": "46a8b485-88cb-472f-f6dd-e868b11cead9"
      },
      "source": [
        "grid = sns.FacetGrid(df, col='class')\n",
        "grid.map(plt.hist, 'plasma', bins=10)\n",
        "plt.show"
      ],
      "execution_count": null,
      "outputs": [
        {
          "output_type": "execute_result",
          "data": {
            "text/plain": [
              "<function matplotlib.pyplot.show>"
            ]
          },
          "metadata": {
            "tags": []
          },
          "execution_count": 48
        },
        {
          "output_type": "display_data",
          "data": {
            "image/png": "[encoded data removed]",
            "text/plain": [
              "<Figure size 432x216 with 2 Axes>"
            ]
          },
          "metadata": {
            "tags": [],
            "needs_background": "light"
          }
        }
      ]
    },
    {
      "cell_type": "code",
      "metadata": {
        "id": "Hp7TWfkZ-k30",
        "colab": {
          "base_uri": "https://localhost:8080/"
        },
        "outputId": "ed5656b3-6a5d-41a2-9453-4e91b335d380"
      },
      "source": [
        "from tensorflow.keras.models import Sequential\n",
        "from tensorflow.keras.layers import Dense\n",
        "import numpy as np\n",
        "import tensorflow as tf\n",
        "\n",
        "np.random.seed(3)\n",
        "tf.random.set_seed(3)\n",
        "\n",
        "dataset=np.loadtxt('pima-indians-diabetes.csv',delimiter=\",\")\n",
        "x=dataset[:,0:8]\n",
        "y=dataset[:,8]\n",
        "\n",
        "model = Sequential()\n",
        "model.add(Dense(12, input_dim=8,activation='relu'))\n",
        "model.add(Dense(8, activation='relu'))\n",
        "model.add(Dense(1, activation='sigmoid'))\n",
        "\n",
        "model.compile(\n",
        "    loss='binary_crossentropy',\n",
        "    optimizer='adam',\n",
        "    metrics=['accuracy']\n",
        ")\n",
        "\n",
        "model.fit(x,y,epochs=200, batch_size=10)\n",
        "print(\"\\n Accuracy:%.4f\" % (model.evaluate(x,y)[1]))"
      ],
      "execution_count": null,
      "outputs": [
        {
          "output_type": "stream",
          "text": [
            "Epoch 1/200\n",
            "77/77 [==============================] - 1s 2ms/step - loss: 12.0693 - accuracy: 0.6273\n",
            "Epoch 2/200\n",
            "77/77 [==============================] - 0s 2ms/step - loss: 5.7426 - accuracy: 0.6227\n",
            "Epoch 3/200\n",
            "77/77 [==============================] - 0s 2ms/step - loss: 3.2875 - accuracy: 0.5365\n",
            "Epoch 4/200\n",
            "77/77 [==============================] - 0s 2ms/step - loss: 1.6549 - accuracy: 0.5589\n",
            "Epoch 5/200\n",
            "77/77 [==============================] - 0s 2ms/step - loss: 0.8960 - accuracy: 0.4802\n",
            "Epoch 6/200\n",
            "77/77 [==============================] - 0s 2ms/step - loss: 0.8696 - accuracy: 0.5314\n",
            "Epoch 7/200\n",
            "77/77 [==============================] - 0s 2ms/step - loss: 0.7652 - accuracy: 0.6588\n",
            "Epoch 8/200\n",
            "77/77 [==============================] - 0s 2ms/step - loss: 0.7709 - accuracy: 0.6785\n",
            "Epoch 9/200\n",
            "77/77 [==============================] - 0s 2ms/step - loss: 0.7154 - accuracy: 0.6615\n",
            "Epoch 10/200\n",
            "77/77 [==============================] - 0s 2ms/step - loss: 0.6585 - accuracy: 0.6699\n",
            "Epoch 11/200\n",
            "77/77 [==============================] - 0s 2ms/step - loss: 0.6482 - accuracy: 0.6907\n",
            "Epoch 12/200\n",
            "77/77 [==============================] - 0s 2ms/step - loss: 0.6165 - accuracy: 0.6709\n",
            "Epoch 13/200\n",
            "77/77 [==============================] - 0s 2ms/step - loss: 0.5892 - accuracy: 0.7111\n",
            "Epoch 14/200\n",
            "77/77 [==============================] - 0s 2ms/step - loss: 0.6038 - accuracy: 0.7186\n",
            "Epoch 15/200\n",
            "77/77 [==============================] - 0s 2ms/step - loss: 0.5916 - accuracy: 0.6978\n",
            "Epoch 16/200\n",
            "77/77 [==============================] - 0s 2ms/step - loss: 0.5937 - accuracy: 0.6906\n",
            "Epoch 17/200\n",
            "77/77 [==============================] - 0s 2ms/step - loss: 0.5733 - accuracy: 0.7291\n",
            "Epoch 18/200\n",
            "77/77 [==============================] - 0s 2ms/step - loss: 0.6005 - accuracy: 0.7164\n",
            "Epoch 19/200\n",
            "77/77 [==============================] - 0s 2ms/step - loss: 0.5578 - accuracy: 0.7054\n",
            "Epoch 20/200\n",
            "77/77 [==============================] - 0s 2ms/step - loss: 0.5679 - accuracy: 0.7108\n",
            "Epoch 21/200\n",
            "77/77 [==============================] - 0s 2ms/step - loss: 0.5696 - accuracy: 0.6832\n",
            "Epoch 22/200\n",
            "77/77 [==============================] - 0s 2ms/step - loss: 0.5562 - accuracy: 0.7340\n",
            "Epoch 23/200\n",
            "77/77 [==============================] - 0s 2ms/step - loss: 0.5677 - accuracy: 0.7126\n",
            "Epoch 24/200\n",
            "77/77 [==============================] - 0s 2ms/step - loss: 0.5792 - accuracy: 0.7098\n",
            "Epoch 25/200\n",
            "77/77 [==============================] - 0s 2ms/step - loss: 0.5730 - accuracy: 0.7189\n",
            "Epoch 26/200\n",
            "77/77 [==============================] - 0s 2ms/step - loss: 0.5726 - accuracy: 0.7193\n",
            "Epoch 27/200\n",
            "77/77 [==============================] - 0s 2ms/step - loss: 0.5985 - accuracy: 0.6999\n",
            "Epoch 28/200\n",
            "77/77 [==============================] - 0s 2ms/step - loss: 0.5715 - accuracy: 0.7166\n",
            "Epoch 29/200\n",
            "77/77 [==============================] - 0s 2ms/step - loss: 0.5730 - accuracy: 0.7060\n",
            "Epoch 30/200\n",
            "77/77 [==============================] - 0s 2ms/step - loss: 0.5534 - accuracy: 0.7208\n",
            "Epoch 31/200\n",
            "77/77 [==============================] - 0s 2ms/step - loss: 0.5573 - accuracy: 0.7075\n",
            "Epoch 32/200\n",
            "77/77 [==============================] - 0s 2ms/step - loss: 0.5840 - accuracy: 0.6978\n",
            "Epoch 33/200\n",
            "77/77 [==============================] - 0s 2ms/step - loss: 0.5407 - accuracy: 0.7211\n",
            "Epoch 34/200\n",
            "77/77 [==============================] - 0s 2ms/step - loss: 0.5476 - accuracy: 0.7239\n",
            "Epoch 35/200\n",
            "77/77 [==============================] - 0s 2ms/step - loss: 0.5367 - accuracy: 0.7651\n",
            "Epoch 36/200\n",
            "77/77 [==============================] - 0s 2ms/step - loss: 0.5634 - accuracy: 0.6841\n",
            "Epoch 37/200\n",
            "77/77 [==============================] - 0s 2ms/step - loss: 0.5475 - accuracy: 0.7106\n",
            "Epoch 38/200\n",
            "77/77 [==============================] - 0s 2ms/step - loss: 0.5346 - accuracy: 0.7384\n",
            "Epoch 39/200\n",
            "77/77 [==============================] - 0s 2ms/step - loss: 0.5737 - accuracy: 0.7106\n",
            "Epoch 40/200\n",
            "77/77 [==============================] - 0s 2ms/step - loss: 0.5773 - accuracy: 0.6994\n",
            "Epoch 41/200\n",
            "77/77 [==============================] - 0s 2ms/step - loss: 0.5362 - accuracy: 0.7442\n",
            "Epoch 42/200\n",
            "77/77 [==============================] - 0s 2ms/step - loss: 0.5390 - accuracy: 0.7394\n",
            "Epoch 43/200\n",
            "77/77 [==============================] - 0s 2ms/step - loss: 0.5379 - accuracy: 0.7440\n",
            "Epoch 44/200\n",
            "77/77 [==============================] - 0s 2ms/step - loss: 0.5405 - accuracy: 0.7178\n",
            "Epoch 45/200\n",
            "77/77 [==============================] - 0s 2ms/step - loss: 0.5624 - accuracy: 0.7151\n",
            "Epoch 46/200\n",
            "77/77 [==============================] - 0s 2ms/step - loss: 0.5500 - accuracy: 0.7160\n",
            "Epoch 47/200\n",
            "77/77 [==============================] - 0s 2ms/step - loss: 0.5367 - accuracy: 0.7371\n",
            "Epoch 48/200\n",
            "77/77 [==============================] - 0s 2ms/step - loss: 0.5153 - accuracy: 0.7501\n",
            "Epoch 49/200\n",
            "77/77 [==============================] - 0s 2ms/step - loss: 0.5398 - accuracy: 0.7193\n",
            "Epoch 50/200\n",
            "77/77 [==============================] - 0s 2ms/step - loss: 0.5542 - accuracy: 0.7257\n",
            "Epoch 51/200\n",
            "77/77 [==============================] - 0s 2ms/step - loss: 0.5220 - accuracy: 0.7399\n",
            "Epoch 52/200\n",
            "77/77 [==============================] - 0s 2ms/step - loss: 0.5338 - accuracy: 0.7382\n",
            "Epoch 53/200\n",
            "77/77 [==============================] - 0s 2ms/step - loss: 0.5149 - accuracy: 0.7491\n",
            "Epoch 54/200\n",
            "77/77 [==============================] - 0s 2ms/step - loss: 0.5085 - accuracy: 0.7228\n",
            "Epoch 55/200\n",
            "77/77 [==============================] - 0s 2ms/step - loss: 0.5357 - accuracy: 0.7234\n",
            "Epoch 56/200\n",
            "77/77 [==============================] - 0s 2ms/step - loss: 0.5519 - accuracy: 0.7118\n",
            "Epoch 57/200\n",
            "77/77 [==============================] - 0s 2ms/step - loss: 0.5484 - accuracy: 0.7311\n",
            "Epoch 58/200\n",
            "77/77 [==============================] - 0s 2ms/step - loss: 0.5443 - accuracy: 0.7292\n",
            "Epoch 59/200\n",
            "77/77 [==============================] - 0s 2ms/step - loss: 0.5326 - accuracy: 0.7430\n",
            "Epoch 60/200\n",
            "77/77 [==============================] - 0s 2ms/step - loss: 0.5579 - accuracy: 0.7012\n",
            "Epoch 61/200\n",
            "77/77 [==============================] - 0s 2ms/step - loss: 0.5399 - accuracy: 0.7325\n",
            "Epoch 62/200\n",
            "77/77 [==============================] - 0s 2ms/step - loss: 0.5547 - accuracy: 0.7003\n",
            "Epoch 63/200\n",
            "77/77 [==============================] - 0s 2ms/step - loss: 0.5266 - accuracy: 0.7437\n",
            "Epoch 64/200\n",
            "77/77 [==============================] - 0s 2ms/step - loss: 0.5339 - accuracy: 0.7272\n",
            "Epoch 65/200\n",
            "77/77 [==============================] - 0s 2ms/step - loss: 0.5181 - accuracy: 0.7458\n",
            "Epoch 66/200\n",
            "77/77 [==============================] - 0s 2ms/step - loss: 0.5102 - accuracy: 0.7367\n",
            "Epoch 67/200\n",
            "77/77 [==============================] - 0s 2ms/step - loss: 0.5242 - accuracy: 0.7310\n",
            "Epoch 68/200\n",
            "77/77 [==============================] - 0s 2ms/step - loss: 0.5265 - accuracy: 0.7428\n",
            "Epoch 69/200\n",
            "77/77 [==============================] - 0s 2ms/step - loss: 0.5386 - accuracy: 0.7261\n",
            "Epoch 70/200\n",
            "77/77 [==============================] - 0s 2ms/step - loss: 0.5092 - accuracy: 0.7388\n",
            "Epoch 71/200\n",
            "77/77 [==============================] - 0s 2ms/step - loss: 0.5268 - accuracy: 0.7242\n",
            "Epoch 72/200\n",
            "77/77 [==============================] - 0s 2ms/step - loss: 0.5254 - accuracy: 0.7241\n",
            "Epoch 73/200\n",
            "77/77 [==============================] - 0s 2ms/step - loss: 0.5702 - accuracy: 0.6958\n",
            "Epoch 74/200\n",
            "77/77 [==============================] - 0s 2ms/step - loss: 0.5159 - accuracy: 0.7318\n",
            "Epoch 75/200\n",
            "77/77 [==============================] - 0s 2ms/step - loss: 0.4989 - accuracy: 0.7521\n",
            "Epoch 76/200\n",
            "77/77 [==============================] - 0s 2ms/step - loss: 0.5262 - accuracy: 0.7246\n",
            "Epoch 77/200\n",
            "77/77 [==============================] - 0s 2ms/step - loss: 0.5216 - accuracy: 0.7381\n",
            "Epoch 78/200\n",
            "77/77 [==============================] - 0s 2ms/step - loss: 0.5144 - accuracy: 0.7360\n",
            "Epoch 79/200\n",
            "77/77 [==============================] - 0s 2ms/step - loss: 0.4664 - accuracy: 0.7790\n",
            "Epoch 80/200\n",
            "77/77 [==============================] - 0s 2ms/step - loss: 0.5012 - accuracy: 0.7378\n",
            "Epoch 81/200\n",
            "77/77 [==============================] - 0s 2ms/step - loss: 0.5166 - accuracy: 0.7316\n",
            "Epoch 82/200\n",
            "77/77 [==============================] - 0s 2ms/step - loss: 0.5013 - accuracy: 0.7394\n",
            "Epoch 83/200\n",
            "77/77 [==============================] - 0s 2ms/step - loss: 0.5551 - accuracy: 0.7078\n",
            "Epoch 84/200\n",
            "77/77 [==============================] - 0s 2ms/step - loss: 0.5110 - accuracy: 0.7106\n",
            "Epoch 85/200\n",
            "77/77 [==============================] - 0s 2ms/step - loss: 0.4951 - accuracy: 0.7625\n",
            "Epoch 86/200\n",
            "77/77 [==============================] - 0s 2ms/step - loss: 0.5049 - accuracy: 0.7625\n",
            "Epoch 87/200\n",
            "77/77 [==============================] - 0s 2ms/step - loss: 0.5153 - accuracy: 0.7317\n",
            "Epoch 88/200\n",
            "77/77 [==============================] - 0s 2ms/step - loss: 0.4983 - accuracy: 0.7602\n",
            "Epoch 89/200\n",
            "77/77 [==============================] - 0s 2ms/step - loss: 0.4850 - accuracy: 0.7655\n",
            "Epoch 90/200\n",
            "77/77 [==============================] - 0s 2ms/step - loss: 0.4929 - accuracy: 0.7452\n",
            "Epoch 91/200\n",
            "77/77 [==============================] - 0s 2ms/step - loss: 0.5131 - accuracy: 0.7329\n",
            "Epoch 92/200\n",
            "77/77 [==============================] - 0s 2ms/step - loss: 0.5072 - accuracy: 0.7602\n",
            "Epoch 93/200\n",
            "77/77 [==============================] - 0s 2ms/step - loss: 0.5030 - accuracy: 0.7541\n",
            "Epoch 94/200\n",
            "77/77 [==============================] - 0s 2ms/step - loss: 0.4978 - accuracy: 0.7541\n",
            "Epoch 95/200\n",
            "77/77 [==============================] - 0s 2ms/step - loss: 0.4776 - accuracy: 0.7723\n",
            "Epoch 96/200\n",
            "77/77 [==============================] - 0s 2ms/step - loss: 0.5173 - accuracy: 0.7258\n",
            "Epoch 97/200\n",
            "77/77 [==============================] - 0s 2ms/step - loss: 0.4699 - accuracy: 0.7911\n",
            "Epoch 98/200\n",
            "77/77 [==============================] - 0s 2ms/step - loss: 0.5131 - accuracy: 0.7319\n",
            "Epoch 99/200\n",
            "77/77 [==============================] - 0s 2ms/step - loss: 0.5251 - accuracy: 0.7160\n",
            "Epoch 100/200\n",
            "77/77 [==============================] - 0s 2ms/step - loss: 0.4980 - accuracy: 0.7617\n",
            "Epoch 101/200\n",
            "77/77 [==============================] - 0s 2ms/step - loss: 0.4961 - accuracy: 0.7362\n",
            "Epoch 102/200\n",
            "77/77 [==============================] - 0s 2ms/step - loss: 0.4912 - accuracy: 0.7457\n",
            "Epoch 103/200\n",
            "77/77 [==============================] - 0s 2ms/step - loss: 0.5144 - accuracy: 0.7245\n",
            "Epoch 104/200\n",
            "77/77 [==============================] - 0s 2ms/step - loss: 0.4758 - accuracy: 0.7844\n",
            "Epoch 105/200\n",
            "77/77 [==============================] - 0s 2ms/step - loss: 0.4660 - accuracy: 0.7576\n",
            "Epoch 106/200\n",
            "77/77 [==============================] - 0s 2ms/step - loss: 0.4858 - accuracy: 0.7756\n",
            "Epoch 107/200\n",
            "77/77 [==============================] - 0s 2ms/step - loss: 0.5193 - accuracy: 0.7616\n",
            "Epoch 108/200\n",
            "77/77 [==============================] - 0s 2ms/step - loss: 0.5051 - accuracy: 0.7747\n",
            "Epoch 109/200\n",
            "77/77 [==============================] - 0s 2ms/step - loss: 0.4665 - accuracy: 0.7621\n",
            "Epoch 110/200\n",
            "77/77 [==============================] - 0s 2ms/step - loss: 0.4876 - accuracy: 0.7621\n",
            "Epoch 111/200\n",
            "77/77 [==============================] - 0s 2ms/step - loss: 0.5071 - accuracy: 0.7549\n",
            "Epoch 112/200\n",
            "77/77 [==============================] - 0s 2ms/step - loss: 0.5009 - accuracy: 0.7451\n",
            "Epoch 113/200\n",
            "77/77 [==============================] - 0s 2ms/step - loss: 0.4911 - accuracy: 0.7647\n",
            "Epoch 114/200\n",
            "77/77 [==============================] - 0s 2ms/step - loss: 0.4838 - accuracy: 0.7556\n",
            "Epoch 115/200\n",
            "77/77 [==============================] - 0s 2ms/step - loss: 0.4756 - accuracy: 0.7761\n",
            "Epoch 116/200\n",
            "77/77 [==============================] - 0s 2ms/step - loss: 0.4962 - accuracy: 0.7334\n",
            "Epoch 117/200\n",
            "77/77 [==============================] - 0s 2ms/step - loss: 0.5003 - accuracy: 0.7623\n",
            "Epoch 118/200\n",
            "77/77 [==============================] - 0s 2ms/step - loss: 0.4629 - accuracy: 0.7607\n",
            "Epoch 119/200\n",
            "77/77 [==============================] - 0s 2ms/step - loss: 0.4820 - accuracy: 0.7599\n",
            "Epoch 120/200\n",
            "77/77 [==============================] - 0s 2ms/step - loss: 0.4853 - accuracy: 0.7638\n",
            "Epoch 121/200\n",
            "77/77 [==============================] - 0s 2ms/step - loss: 0.4825 - accuracy: 0.7549\n",
            "Epoch 122/200\n",
            "77/77 [==============================] - 0s 2ms/step - loss: 0.5169 - accuracy: 0.7355\n",
            "Epoch 123/200\n",
            "77/77 [==============================] - 0s 2ms/step - loss: 0.4980 - accuracy: 0.7410\n",
            "Epoch 124/200\n",
            "77/77 [==============================] - 0s 2ms/step - loss: 0.4925 - accuracy: 0.7539\n",
            "Epoch 125/200\n",
            "77/77 [==============================] - 0s 2ms/step - loss: 0.4641 - accuracy: 0.7623\n",
            "Epoch 126/200\n",
            "77/77 [==============================] - 0s 2ms/step - loss: 0.4807 - accuracy: 0.7522\n",
            "Epoch 127/200\n",
            "77/77 [==============================] - 0s 2ms/step - loss: 0.4855 - accuracy: 0.7744\n",
            "Epoch 128/200\n",
            "77/77 [==============================] - 0s 2ms/step - loss: 0.4824 - accuracy: 0.7608\n",
            "Epoch 129/200\n",
            "77/77 [==============================] - 0s 2ms/step - loss: 0.5168 - accuracy: 0.7155\n",
            "Epoch 130/200\n",
            "77/77 [==============================] - 0s 2ms/step - loss: 0.4892 - accuracy: 0.7561\n",
            "Epoch 131/200\n",
            "77/77 [==============================] - 0s 2ms/step - loss: 0.4672 - accuracy: 0.7864\n",
            "Epoch 132/200\n",
            "77/77 [==============================] - 0s 2ms/step - loss: 0.4787 - accuracy: 0.7689\n",
            "Epoch 133/200\n",
            "77/77 [==============================] - 0s 2ms/step - loss: 0.4840 - accuracy: 0.7751\n",
            "Epoch 134/200\n",
            "77/77 [==============================] - 0s 2ms/step - loss: 0.4878 - accuracy: 0.7580\n",
            "Epoch 135/200\n",
            "77/77 [==============================] - 0s 2ms/step - loss: 0.5152 - accuracy: 0.7313\n",
            "Epoch 136/200\n",
            "77/77 [==============================] - 0s 2ms/step - loss: 0.4738 - accuracy: 0.7430\n",
            "Epoch 137/200\n",
            "77/77 [==============================] - 0s 2ms/step - loss: 0.4781 - accuracy: 0.7540\n",
            "Epoch 138/200\n",
            "77/77 [==============================] - 0s 2ms/step - loss: 0.4772 - accuracy: 0.7707\n",
            "Epoch 139/200\n",
            "77/77 [==============================] - 0s 2ms/step - loss: 0.4733 - accuracy: 0.7665\n",
            "Epoch 140/200\n",
            "77/77 [==============================] - 0s 2ms/step - loss: 0.4897 - accuracy: 0.7797\n",
            "Epoch 141/200\n",
            "77/77 [==============================] - 0s 2ms/step - loss: 0.4587 - accuracy: 0.7764\n",
            "Epoch 142/200\n",
            "77/77 [==============================] - 0s 2ms/step - loss: 0.4576 - accuracy: 0.7829\n",
            "Epoch 143/200\n",
            "77/77 [==============================] - 0s 2ms/step - loss: 0.4699 - accuracy: 0.7741\n",
            "Epoch 144/200\n",
            "77/77 [==============================] - 0s 2ms/step - loss: 0.4774 - accuracy: 0.7576\n",
            "Epoch 145/200\n",
            "77/77 [==============================] - 0s 2ms/step - loss: 0.4660 - accuracy: 0.7860\n",
            "Epoch 146/200\n",
            "77/77 [==============================] - 0s 2ms/step - loss: 0.5359 - accuracy: 0.7288\n",
            "Epoch 147/200\n",
            "77/77 [==============================] - 0s 2ms/step - loss: 0.4573 - accuracy: 0.7670\n",
            "Epoch 148/200\n",
            "77/77 [==============================] - 0s 2ms/step - loss: 0.4598 - accuracy: 0.7654\n",
            "Epoch 149/200\n",
            "77/77 [==============================] - 0s 2ms/step - loss: 0.5093 - accuracy: 0.7336\n",
            "Epoch 150/200\n",
            "77/77 [==============================] - 0s 2ms/step - loss: 0.4679 - accuracy: 0.7645\n",
            "Epoch 151/200\n",
            "77/77 [==============================] - 0s 2ms/step - loss: 0.4699 - accuracy: 0.7700\n",
            "Epoch 152/200\n",
            "77/77 [==============================] - 0s 2ms/step - loss: 0.4594 - accuracy: 0.7730\n",
            "Epoch 153/200\n",
            "77/77 [==============================] - 0s 2ms/step - loss: 0.4559 - accuracy: 0.7885\n",
            "Epoch 154/200\n",
            "77/77 [==============================] - 0s 2ms/step - loss: 0.4925 - accuracy: 0.7616\n",
            "Epoch 155/200\n",
            "77/77 [==============================] - 0s 2ms/step - loss: 0.4944 - accuracy: 0.7586\n",
            "Epoch 156/200\n",
            "77/77 [==============================] - 0s 2ms/step - loss: 0.4538 - accuracy: 0.7711\n",
            "Epoch 157/200\n",
            "77/77 [==============================] - 0s 2ms/step - loss: 0.4914 - accuracy: 0.7480\n",
            "Epoch 158/200\n",
            "77/77 [==============================] - 0s 2ms/step - loss: 0.4500 - accuracy: 0.7819\n",
            "Epoch 159/200\n",
            "77/77 [==============================] - 0s 2ms/step - loss: 0.4918 - accuracy: 0.7513\n",
            "Epoch 160/200\n",
            "77/77 [==============================] - 0s 2ms/step - loss: 0.4813 - accuracy: 0.7676\n",
            "Epoch 161/200\n",
            "77/77 [==============================] - 0s 2ms/step - loss: 0.4799 - accuracy: 0.7651\n",
            "Epoch 162/200\n",
            "77/77 [==============================] - 0s 2ms/step - loss: 0.4514 - accuracy: 0.7772\n",
            "Epoch 163/200\n",
            "77/77 [==============================] - 0s 2ms/step - loss: 0.4969 - accuracy: 0.7515\n",
            "Epoch 164/200\n",
            "77/77 [==============================] - 0s 2ms/step - loss: 0.4960 - accuracy: 0.7705\n",
            "Epoch 165/200\n",
            "77/77 [==============================] - 0s 2ms/step - loss: 0.4818 - accuracy: 0.7513\n",
            "Epoch 166/200\n",
            "77/77 [==============================] - 0s 2ms/step - loss: 0.4581 - accuracy: 0.7711\n",
            "Epoch 167/200\n",
            "77/77 [==============================] - 0s 2ms/step - loss: 0.4641 - accuracy: 0.7733\n",
            "Epoch 168/200\n",
            "77/77 [==============================] - 0s 2ms/step - loss: 0.4702 - accuracy: 0.7689\n",
            "Epoch 169/200\n",
            "77/77 [==============================] - 0s 2ms/step - loss: 0.4654 - accuracy: 0.7755\n",
            "Epoch 170/200\n",
            "77/77 [==============================] - 0s 2ms/step - loss: 0.4672 - accuracy: 0.7756\n",
            "Epoch 171/200\n",
            "77/77 [==============================] - 0s 2ms/step - loss: 0.4478 - accuracy: 0.7734\n",
            "Epoch 172/200\n",
            "77/77 [==============================] - 0s 2ms/step - loss: 0.4727 - accuracy: 0.7723\n",
            "Epoch 173/200\n",
            "77/77 [==============================] - 0s 2ms/step - loss: 0.4610 - accuracy: 0.7641\n",
            "Epoch 174/200\n",
            "77/77 [==============================] - 0s 2ms/step - loss: 0.4716 - accuracy: 0.7591\n",
            "Epoch 175/200\n",
            "77/77 [==============================] - 0s 2ms/step - loss: 0.4701 - accuracy: 0.7751\n",
            "Epoch 176/200\n",
            "77/77 [==============================] - 0s 2ms/step - loss: 0.4502 - accuracy: 0.7895\n",
            "Epoch 177/200\n",
            "77/77 [==============================] - 0s 2ms/step - loss: 0.4595 - accuracy: 0.7829\n",
            "Epoch 178/200\n",
            "77/77 [==============================] - 0s 2ms/step - loss: 0.4685 - accuracy: 0.7497\n",
            "Epoch 179/200\n",
            "77/77 [==============================] - 0s 2ms/step - loss: 0.4585 - accuracy: 0.7845\n",
            "Epoch 180/200\n",
            "77/77 [==============================] - 0s 2ms/step - loss: 0.4691 - accuracy: 0.7526\n",
            "Epoch 181/200\n",
            "77/77 [==============================] - 0s 2ms/step - loss: 0.4586 - accuracy: 0.7696\n",
            "Epoch 182/200\n",
            "77/77 [==============================] - 0s 2ms/step - loss: 0.4996 - accuracy: 0.7546\n",
            "Epoch 183/200\n",
            "77/77 [==============================] - 0s 2ms/step - loss: 0.4784 - accuracy: 0.7472\n",
            "Epoch 184/200\n",
            "77/77 [==============================] - 0s 2ms/step - loss: 0.4720 - accuracy: 0.7680\n",
            "Epoch 185/200\n",
            "77/77 [==============================] - 0s 2ms/step - loss: 0.4378 - accuracy: 0.7736\n",
            "Epoch 186/200\n",
            "77/77 [==============================] - 0s 2ms/step - loss: 0.4762 - accuracy: 0.7566\n",
            "Epoch 187/200\n",
            "77/77 [==============================] - 0s 2ms/step - loss: 0.4907 - accuracy: 0.7530\n",
            "Epoch 188/200\n",
            "77/77 [==============================] - 0s 2ms/step - loss: 0.4998 - accuracy: 0.7604\n",
            "Epoch 189/200\n",
            "77/77 [==============================] - 0s 2ms/step - loss: 0.4824 - accuracy: 0.7756\n",
            "Epoch 190/200\n",
            "77/77 [==============================] - 0s 2ms/step - loss: 0.4636 - accuracy: 0.7835\n",
            "Epoch 191/200\n",
            "77/77 [==============================] - 0s 2ms/step - loss: 0.4641 - accuracy: 0.7736\n",
            "Epoch 192/200\n",
            "77/77 [==============================] - 0s 2ms/step - loss: 0.4617 - accuracy: 0.7679\n",
            "Epoch 193/200\n",
            "77/77 [==============================] - 0s 2ms/step - loss: 0.4426 - accuracy: 0.7982\n",
            "Epoch 194/200\n",
            "77/77 [==============================] - 0s 2ms/step - loss: 0.4743 - accuracy: 0.7594\n",
            "Epoch 195/200\n",
            "77/77 [==============================] - 0s 2ms/step - loss: 0.4844 - accuracy: 0.7566\n",
            "Epoch 196/200\n",
            "77/77 [==============================] - 0s 2ms/step - loss: 0.4532 - accuracy: 0.7785\n",
            "Epoch 197/200\n",
            "77/77 [==============================] - 0s 2ms/step - loss: 0.4618 - accuracy: 0.7708\n",
            "Epoch 198/200\n",
            "77/77 [==============================] - 0s 2ms/step - loss: 0.4501 - accuracy: 0.7840\n",
            "Epoch 199/200\n",
            "77/77 [==============================] - 0s 2ms/step - loss: 0.4568 - accuracy: 0.7838\n",
            "Epoch 200/200\n",
            "77/77 [==============================] - 0s 2ms/step - loss: 0.4590 - accuracy: 0.7861\n",
            "24/24 [==============================] - 0s 1ms/step - loss: 0.4592 - accuracy: 0.7721\n",
            "\n",
            " Accuracy:0.7721\n"
          ],
          "name": "stdout"
        }
      ]
    },
    {
      "cell_type": "code",
      "metadata": {
        "id": "HisKEsGQ_zDG"
      },
      "source": [
        ""
      ],
      "execution_count": null,
      "outputs": []
    }
  ]
}
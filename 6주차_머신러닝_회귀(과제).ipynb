{
  "nbformat": 4,
  "nbformat_minor": 0,
  "metadata": {
    "colab": {
      "name": "6주차_머신러닝_회귀(과제).ipynb",
      "provenance": [],
      "collapsed_sections": [],
      "include_colab_link": true
    },
    "kernelspec": {
      "display_name": "Python 3",
      "language": "python",
      "name": "python3"
    },
    "language_info": {
      "codemirror_mode": {
        "name": "ipython",
        "version": 3
      },
      "file_extension": ".py",
      "mimetype": "text/x-python",
      "name": "python",
      "nbconvert_exporter": "python",
      "pygments_lexer": "ipython3",
      "version": "3.7.3"
    }
  },
  "cells": [
    {
      "cell_type": "markdown",
      "metadata": {
        "id": "view-in-github",
        "colab_type": "text"
      },
      "source": [
        "<a href=\"https://colab.research.google.com/github/rivkms/2021_sw_exam/blob/main/6%EC%A3%BC%EC%B0%A8_%EB%A8%B8%EC%8B%A0%EB%9F%AC%EB%8B%9D_%ED%9A%8C%EA%B7%80(%EA%B3%BC%EC%A0%9C).ipynb\" target=\"_parent\"><img src=\"https://colab.research.google.com/assets/colab-badge.svg\" alt=\"Open In Colab\"/></a>"
      ]
    },
    {
      "cell_type": "markdown",
      "metadata": {
        "id": "xnpLPRny57ed"
      },
      "source": [
        "# 6주차 ML3 Regression 실습 과제\n",
        "- 과제를 완성하여 클래스룸에 기한내에 제출합니다.\n",
        "- 머신러닝 프로세스(데이터 수집 -> 데이터 전처리 -> 모델 학습 -> 모델 예측 및 평가)대로 실습을 진행합니다.\n",
        "- 모델을 완성한 후, '5.모델 분석'에서 자신의 모델을 분석한 결과를 작성합니다.\n"
      ]
    },
    {
      "cell_type": "markdown",
      "metadata": {
        "id": "6sY5ZwLu7rKb"
      },
      "source": [
        "## 1.데이터 수집\n",
        "- 캐글의 데이터 API를 이용하여 Vehicle dataset from cardekho 데이터를 로드하세요.(https://www.kaggle.com/nehalbirla/vehicle-dataset-from-cardekho)\n",
        "- 캐글페이지에 설명되어 있는 각 컬럼이 의미하는 내용을 숙지하세요."
      ]
    },
    {
      "cell_type": "code",
      "metadata": {
        "id": "_jtjUW_t8pp8"
      },
      "source": [
        ""
      ],
      "execution_count": null,
      "outputs": []
    },
    {
      "cell_type": "markdown",
      "metadata": {
        "id": "aXIJRlbw9F2P"
      },
      "source": [
        "- pandas의 데이터프레임 'data' 변수를 선언하여 csv 파일 형태의 데이터를  저장하세요."
      ]
    },
    {
      "cell_type": "code",
      "metadata": {
        "id": "XBc-9bv49HJO"
      },
      "source": [
        ""
      ],
      "execution_count": null,
      "outputs": []
    },
    {
      "cell_type": "markdown",
      "metadata": {
        "id": "welXRfln8hzX"
      },
      "source": [
        "## 2.데이터 전처리"
      ]
    },
    {
      "cell_type": "markdown",
      "metadata": {
        "id": "9EALubDt9YNm"
      },
      "source": [
        "- data.shape(), data.info(), data.describe() 등을 통하여 데이터의 형태를 확인하고 NA(None, Null, Nan) 값이 있는 열이 있는지 확인하세요."
      ]
    },
    {
      "cell_type": "code",
      "metadata": {
        "id": "qaphXay79n74"
      },
      "source": [
        ""
      ],
      "execution_count": null,
      "outputs": []
    },
    {
      "cell_type": "markdown",
      "metadata": {
        "id": "cvz5hT6Y-3JP"
      },
      "source": [
        "- value_counts()를 이용해 각 Object 타입 변수들이 가진 데이터들의 갯수를 확인하세요. "
      ]
    },
    {
      "cell_type": "code",
      "metadata": {
        "id": "R5r-LCcw-29s"
      },
      "source": [
        ""
      ],
      "execution_count": null,
      "outputs": []
    },
    {
      "cell_type": "markdown",
      "metadata": {
        "id": "CJLUG_vJRClJ"
      },
      "source": [
        "- 'Car_Name'을 제외한 Object타입 변수의 범주형 값에 원핫인코딩(One-Hot Encoding) 변환을 적용하고, 변환된 DataFrame을 출력하세요. "
      ]
    },
    {
      "cell_type": "code",
      "metadata": {
        "id": "EfgPSefeRaQ5"
      },
      "source": [
        ""
      ],
      "execution_count": null,
      "outputs": []
    },
    {
      "cell_type": "markdown",
      "metadata": {
        "id": "L_DrbZA0Ui9W"
      },
      "source": [
        "- 'Car_Name'을 제거하세요. \n"
      ]
    },
    {
      "cell_type": "code",
      "metadata": {
        "id": "BeOjjicUUnsh"
      },
      "source": [
        ""
      ],
      "execution_count": null,
      "outputs": []
    },
    {
      "cell_type": "markdown",
      "metadata": {
        "id": "beOzHxWm-JAk"
      },
      "source": [
        "- 머신러닝 학습을 위해 피처 데이터 세트 x, 레이블 데이터 세트 y를 추출하세요.\n",
        "중고차의 판매가격을 예측하는 것이 목적이므로 'Selling_Price' 컬럼을 y에 대입합니다."
      ]
    },
    {
      "cell_type": "code",
      "metadata": {
        "id": "HIOl26KQ_ERl"
      },
      "source": [
        ""
      ],
      "execution_count": null,
      "outputs": []
    },
    {
      "cell_type": "markdown",
      "metadata": {
        "id": "v8D9tjVP_iwX"
      },
      "source": [
        "- train set과 test set을 적절한 비율로 나누세요."
      ]
    },
    {
      "cell_type": "code",
      "metadata": {
        "id": "hTAuW2wI_pkg"
      },
      "source": [
        ""
      ],
      "execution_count": null,
      "outputs": []
    },
    {
      "cell_type": "markdown",
      "metadata": {
        "id": "vpLPeOpE_Nb_"
      },
      "source": [
        "## 3.모델 학습\n",
        "- LinearRegression 객체를 생성하고, 모델 학습을 수행하세요."
      ]
    },
    {
      "cell_type": "code",
      "metadata": {
        "id": "CLjvwqy3_egm"
      },
      "source": [
        ""
      ],
      "execution_count": null,
      "outputs": []
    },
    {
      "cell_type": "markdown",
      "metadata": {
        "id": "1QLuEKyt_erw"
      },
      "source": [
        "## 4.모델 예측 및 평가\n",
        "- test set을 모델에 주입하여 예측 정확도를 확인하세요."
      ]
    },
    {
      "cell_type": "code",
      "metadata": {
        "id": "hWJTeh4a_-qD"
      },
      "source": [
        ""
      ],
      "execution_count": null,
      "outputs": []
    },
    {
      "cell_type": "markdown",
      "metadata": {
        "id": "uUtLWvdGfozs"
      },
      "source": [
        "- 학습된 모델의 회귀 계수를 확인하세요."
      ]
    },
    {
      "cell_type": "code",
      "metadata": {
        "id": "UvQWmP0CfoQW"
      },
      "source": [
        ""
      ],
      "execution_count": null,
      "outputs": []
    },
    {
      "cell_type": "markdown",
      "metadata": {
        "id": "CezCiFpbAOq8"
      },
      "source": [
        "## 5.모델 분석\n",
        "- 모델의 문제점은? :\n",
        "- 모델의 개선 가능성은? :"
      ]
    }
  ]
}